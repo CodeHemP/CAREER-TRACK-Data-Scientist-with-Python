{
  "nbformat": 4,
  "nbformat_minor": 0,
  "metadata": {
    "colab": {
      "name": "01_Graphical_EDA_US_ElectionData.ipynb",
      "provenance": [],
      "collapsed_sections": [],
      "toc_visible": true,
      "authorship_tag": "ABX9TyNG14mcKyqoDgacKCotNSkA",
      "include_colab_link": true
    },
    "kernelspec": {
      "name": "python3",
      "display_name": "Python 3"
    }
  },
  "cells": [
    {
      "cell_type": "markdown",
      "metadata": {
        "id": "view-in-github",
        "colab_type": "text"
      },
      "source": [
        "<a href=\"https://colab.research.google.com/github/mohd-faizy/CAREER-TRACK-Data-Scientist-with-Python/blob/main/01_Graphical_EDA_US_ElectionData.ipynb\" target=\"_parent\"><img src=\"https://colab.research.google.com/assets/colab-badge.svg\" alt=\"Open In Colab\"/></a>"
      ]
    },
    {
      "cell_type": "markdown",
      "metadata": {
        "id": "NWS4JRT4korI"
      },
      "source": [
        "--- \r\n",
        "<strong> \r\n",
        "    <h1 align='center'>Graphical EDA  [2008 US swing state election result]\r\n",
        "</h1> \r\n",
        "</strong>\r\n",
        "\r\n",
        "---"
      ]
    },
    {
      "cell_type": "markdown",
      "metadata": {
        "id": "KlbjMtqrh-XB"
      },
      "source": [
        "<p align='center'>\r\n",
        "  <a href=\"#\">\r\n",
        "    <img src='https://www.270towin.com/historical-presidential-elections/timeline/margin-of-victory/maps/2008_mov.png'>\r\n",
        "  </a>\r\n",
        "</p>\r\n"
      ]
    },
    {
      "cell_type": "markdown",
      "metadata": {
        "id": "3XWuYZ96A4GX"
      },
      "source": [
        "# __Part - A__"
      ]
    },
    {
      "cell_type": "markdown",
      "metadata": {
        "id": "2W8KWj6GyJWI"
      },
      "source": [
        "--- \r\n",
        "<strong> \r\n",
        "    <h1 align='center'>Swing State</h1> \r\n",
        "</strong>\r\n",
        "\r\n",
        "---"
      ]
    },
    {
      "cell_type": "markdown",
      "metadata": {
        "id": "DdViaFttkitC"
      },
      "source": [
        "__Clone the repository__ "
      ]
    },
    {
      "cell_type": "code",
      "metadata": {
        "colab": {
          "base_uri": "https://localhost:8080/"
        },
        "id": "zDL6YbYZjfOT",
        "outputId": "f5a5a6ea-edae-4169-b198-9879a6419322"
      },
      "source": [
        "! git clone https://github.com/mohd-faizy/CAREER-TRACK-Data-Scientist-with-Python.git"
      ],
      "execution_count": 1,
      "outputs": [
        {
          "output_type": "stream",
          "text": [
            "Cloning into 'CAREER-TRACK-Data-Scientist-with-Python'...\n",
            "remote: Enumerating objects: 101, done.\u001b[K\n",
            "remote: Counting objects: 100% (101/101), done.\u001b[K\n",
            "remote: Compressing objects: 100% (83/83), done.\u001b[K\n",
            "remote: Total 1958 (delta 43), reused 62 (delta 17), pack-reused 1857\u001b[K\n",
            "Receiving objects: 100% (1958/1958), 204.21 MiB | 20.12 MiB/s, done.\n",
            "Resolving deltas: 100% (695/695), done.\n",
            "Checking out files: 100% (837/837), done.\n"
          ],
          "name": "stdout"
        }
      ]
    },
    {
      "cell_type": "markdown",
      "metadata": {
        "id": "eZqCdlEZk5bc"
      },
      "source": [
        "__Change the current working directory__"
      ]
    },
    {
      "cell_type": "code",
      "metadata": {
        "colab": {
          "base_uri": "https://localhost:8080/"
        },
        "id": "4v_cclBnknUF",
        "outputId": "6bd2f901-214d-4d5a-df4b-5321f1b4e962"
      },
      "source": [
        "# import os module \r\n",
        "import os \r\n",
        "   \r\n",
        "# to specified path \r\n",
        "os.chdir('/content/CAREER-TRACK-Data-Scientist-with-Python/22_Statistical-Thinking-in-Python-[Part -1]/_datasets') \r\n",
        "  \r\n",
        "# varify the path using getcwd() \r\n",
        "cwd = os.getcwd() \r\n",
        "  \r\n",
        "# print the current directory \r\n",
        "print(\"Current working directory is:\", cwd)"
      ],
      "execution_count": 2,
      "outputs": [
        {
          "output_type": "stream",
          "text": [
            "Current working directory is: /content/CAREER-TRACK-Data-Scientist-with-Python/22_Statistical-Thinking-in-Python-[Part -1]/_datasets\n"
          ],
          "name": "stdout"
        }
      ]
    },
    {
      "cell_type": "code",
      "metadata": {
        "colab": {
          "base_uri": "https://localhost:8080/"
        },
        "id": "q4eEcmDTmBQ1",
        "outputId": "af016f08-3fd7-4ce7-c8a0-aee15ca86de9"
      },
      "source": [
        "ls"
      ],
      "execution_count": 3,
      "outputs": [
        {
          "output_type": "stream",
          "text": [
            "2008_all_states.csv    belmont.csv  michelson_speed_of_light.csv\n",
            "2008_swing_states.csv  iris.csv\n"
          ],
          "name": "stdout"
        }
      ]
    },
    {
      "cell_type": "markdown",
      "metadata": {
        "id": "i_4mS4DioUjl"
      },
      "source": [
        "## __Exploratory data analysis (EDA)__\r\n",
        "\r\n",
        "__John Tukey's Comments on EDA -:__ \"Often times **EDA** is too time consuming, so it is better to jump right in and do our **hypothesis** tests.\"\r\n",
        "\r\n",
        "That statement is pretty absurd. If we don't have time to do EDA, we really don't have time to do **hypothesis** tests. And we should always do **EDA first**.\r\n",
        "\r\n",
        "__“Exploratory data analysis can never be the whole story, but nothing else can serve as the foundation stone.”__ — _John Tukey_\r\n",
        "\r\n",
        "<p align='center'>\r\n",
        "  <a href=\"#\">\r\n",
        "    <img src='https://miro.medium.com/max/900/1*vJULpN2xQfyVsvTVW-JSkA.png'>\r\n",
        "  </a>\r\n",
        "</p>\r\n",
        "\r\n"
      ]
    },
    {
      "cell_type": "code",
      "metadata": {
        "id": "D17PgJmo1CfU"
      },
      "source": [
        "# importing the libraries\r\n",
        "import numpy as np\r\n",
        "import pandas as pd\r\n",
        "import matplotlib.pyplot as plt\r\n",
        "import seaborn as sns"
      ],
      "execution_count": 4,
      "outputs": []
    },
    {
      "cell_type": "code",
      "metadata": {
        "colab": {
          "base_uri": "https://localhost:8080/",
          "height": 191
        },
        "id": "75l5rQVus0jp",
        "outputId": "31b5f461-167e-4e2c-eda3-d050c79444db"
      },
      "source": [
        "# Reading the dataframe in Pandas\r\n",
        "df_swing = pd.read_csv('2008_swing_states.csv')\r\n",
        "df_swing.head()"
      ],
      "execution_count": 5,
      "outputs": [
        {
          "output_type": "execute_result",
          "data": {
            "text/html": [
              "<div>\n",
              "<style scoped>\n",
              "    .dataframe tbody tr th:only-of-type {\n",
              "        vertical-align: middle;\n",
              "    }\n",
              "\n",
              "    .dataframe tbody tr th {\n",
              "        vertical-align: top;\n",
              "    }\n",
              "\n",
              "    .dataframe thead th {\n",
              "        text-align: right;\n",
              "    }\n",
              "</style>\n",
              "<table border=\"1\" class=\"dataframe\">\n",
              "  <thead>\n",
              "    <tr style=\"text-align: right;\">\n",
              "      <th></th>\n",
              "      <th>state</th>\n",
              "      <th>county</th>\n",
              "      <th>total_votes</th>\n",
              "      <th>dem_votes</th>\n",
              "      <th>rep_votes</th>\n",
              "      <th>dem_share</th>\n",
              "    </tr>\n",
              "  </thead>\n",
              "  <tbody>\n",
              "    <tr>\n",
              "      <th>0</th>\n",
              "      <td>PA</td>\n",
              "      <td>Erie County</td>\n",
              "      <td>127691</td>\n",
              "      <td>75775</td>\n",
              "      <td>50351</td>\n",
              "      <td>60.08</td>\n",
              "    </tr>\n",
              "    <tr>\n",
              "      <th>1</th>\n",
              "      <td>PA</td>\n",
              "      <td>Bradford County</td>\n",
              "      <td>25787</td>\n",
              "      <td>10306</td>\n",
              "      <td>15057</td>\n",
              "      <td>40.64</td>\n",
              "    </tr>\n",
              "    <tr>\n",
              "      <th>2</th>\n",
              "      <td>PA</td>\n",
              "      <td>Tioga County</td>\n",
              "      <td>17984</td>\n",
              "      <td>6390</td>\n",
              "      <td>11326</td>\n",
              "      <td>36.07</td>\n",
              "    </tr>\n",
              "    <tr>\n",
              "      <th>3</th>\n",
              "      <td>PA</td>\n",
              "      <td>McKean County</td>\n",
              "      <td>15947</td>\n",
              "      <td>6465</td>\n",
              "      <td>9224</td>\n",
              "      <td>41.21</td>\n",
              "    </tr>\n",
              "    <tr>\n",
              "      <th>4</th>\n",
              "      <td>PA</td>\n",
              "      <td>Potter County</td>\n",
              "      <td>7507</td>\n",
              "      <td>2300</td>\n",
              "      <td>5109</td>\n",
              "      <td>31.04</td>\n",
              "    </tr>\n",
              "  </tbody>\n",
              "</table>\n",
              "</div>"
            ],
            "text/plain": [
              "  state           county  total_votes  dem_votes  rep_votes  dem_share\n",
              "0    PA      Erie County       127691      75775      50351      60.08\n",
              "1    PA  Bradford County        25787      10306      15057      40.64\n",
              "2    PA     Tioga County        17984       6390      11326      36.07\n",
              "3    PA    McKean County        15947       6465       9224      41.21\n",
              "4    PA    Potter County         7507       2300       5109      31.04"
            ]
          },
          "metadata": {
            "tags": []
          },
          "execution_count": 5
        }
      ]
    },
    {
      "cell_type": "code",
      "metadata": {
        "colab": {
          "base_uri": "https://localhost:8080/"
        },
        "id": "lAXtxF-_wOWh",
        "outputId": "d48a3388-e91b-4d54-eb49-e112ec7d1b88"
      },
      "source": [
        "print('Total Democrat votes {}'.format(df_swing.dem_votes.sum()))\r\n",
        "print('Total Republican votes {}'.format(df_swing.rep_votes.sum()))"
      ],
      "execution_count": 6,
      "outputs": [
        {
          "output_type": "stream",
          "text": [
            "Total Democrat votes 10481571\n",
            "Total Republican votes 9376518\n"
          ],
          "name": "stdout"
        }
      ]
    },
    {
      "cell_type": "code",
      "metadata": {
        "colab": {
          "base_uri": "https://localhost:8080/",
          "height": 387
        },
        "id": "Poi4d-DMzl3E",
        "outputId": "070c5404-fe5c-40b9-ba2f-a0a5a160d211"
      },
      "source": [
        "# Percentage vote count Swing state\r\n",
        "tvc = df_swing.total_votes.sum()\r\n",
        "tdv = (df_swing.dem_votes.sum()/tvc)*100\r\n",
        "trv = (df_swing.rep_votes.sum()/tvc)*100\r\n",
        "\r\n",
        "# creating the dataset \r\n",
        "data = {'Democrat':tdv, \r\n",
        "        'Republican':trv}\r\n",
        "\r\n",
        "keys = list(data.keys()) \r\n",
        "values = list(data.values()) \r\n",
        "\r\n",
        "# Set default Seaborn style\r\n",
        "sns.set()\r\n",
        "\r\n",
        "# set the plot size\r\n",
        "fig = plt.figure(figsize = (10, 5)) \r\n",
        "\r\n",
        "# creating the bar plot \r\n",
        "plt.bar(keys, values, color=['tab:blue', 'tab:red'], width = 0.5) \r\n",
        "  \r\n",
        "plt.xlabel(\"Political Party\") \r\n",
        "plt.ylabel(\"Votes Percent\")\r\n",
        "plt.title(\"Percent Vote Counts\") \r\n",
        "plt.show() \r\n",
        "\r\n",
        "# Vote Percent in 2008 election\r\n",
        "print('Total Vote Percantage of Democrat in 2008 is {0:.2f} percent'.format(tdv))\r\n",
        "print('Total Vote Percantage of Republican in 2008 is {0:.2f} percent'.format(trv))"
      ],
      "execution_count": 7,
      "outputs": [
        {
          "output_type": "display_data",
          "data": {
            "image/png": "[encoded data removed]",
            "text/plain": [
              "<Figure size 720x360 with 1 Axes>"
            ]
          },
          "metadata": {
            "tags": []
          }
        },
        {
          "output_type": "stream",
          "text": [
            "Total Vote Percantage of Democrat in 2008 is 52.21 percent\n",
            "Total Vote Percantage of Republican in 2008 is 46.71 percent\n"
          ],
          "name": "stdout"
        }
      ]
    },
    {
      "cell_type": "code",
      "metadata": {
        "colab": {
          "base_uri": "https://localhost:8080/"
        },
        "id": "Xr43iyNMf0vi",
        "outputId": "fcd24494-4a04-4fa3-aa90-de5bb4b6be71"
      },
      "source": [
        "df_swing.isna().sum()"
      ],
      "execution_count": 8,
      "outputs": [
        {
          "output_type": "execute_result",
          "data": {
            "text/plain": [
              "state          0\n",
              "county         0\n",
              "total_votes    0\n",
              "dem_votes      0\n",
              "rep_votes      0\n",
              "dem_share      0\n",
              "dtype: int64"
            ]
          },
          "metadata": {
            "tags": []
          },
          "execution_count": 8
        }
      ]
    },
    {
      "cell_type": "code",
      "metadata": {
        "colab": {
          "base_uri": "https://localhost:8080/"
        },
        "id": "gZoCcF_NaFt4",
        "outputId": "f109d853-23f2-438f-b09d-ce58fa6663bd"
      },
      "source": [
        "print(df_swing.columns )\r\n",
        "print(df_swing.state.value_counts())\r\n",
        "print(df_swing.shape)"
      ],
      "execution_count": 9,
      "outputs": [
        {
          "output_type": "stream",
          "text": [
            "Index(['state', 'county', 'total_votes', 'dem_votes', 'rep_votes',\n",
            "       'dem_share'],\n",
            "      dtype='object')\n",
            "OH    88\n",
            "PA    67\n",
            "FL    67\n",
            "Name: state, dtype: int64\n",
            "(222, 6)\n"
          ],
          "name": "stdout"
        }
      ]
    },
    {
      "cell_type": "code",
      "metadata": {
        "colab": {
          "base_uri": "https://localhost:8080/",
          "height": 277
        },
        "id": "OoUv3iiUgQOj",
        "outputId": "9f5782c1-3ed8-4285-f8b9-1152d6fcce87"
      },
      "source": [
        "df_swing.describe()"
      ],
      "execution_count": 10,
      "outputs": [
        {
          "output_type": "execute_result",
          "data": {
            "text/html": [
              "<div>\n",
              "<style scoped>\n",
              "    .dataframe tbody tr th:only-of-type {\n",
              "        vertical-align: middle;\n",
              "    }\n",
              "\n",
              "    .dataframe tbody tr th {\n",
              "        vertical-align: top;\n",
              "    }\n",
              "\n",
              "    .dataframe thead th {\n",
              "        text-align: right;\n",
              "    }\n",
              "</style>\n",
              "<table border=\"1\" class=\"dataframe\">\n",
              "  <thead>\n",
              "    <tr style=\"text-align: right;\">\n",
              "      <th></th>\n",
              "      <th>total_votes</th>\n",
              "      <th>dem_votes</th>\n",
              "      <th>rep_votes</th>\n",
              "      <th>dem_share</th>\n",
              "    </tr>\n",
              "  </thead>\n",
              "  <tbody>\n",
              "    <tr>\n",
              "      <th>count</th>\n",
              "      <td>222.000000</td>\n",
              "      <td>222.000000</td>\n",
              "      <td>222.000000</td>\n",
              "      <td>222.000000</td>\n",
              "    </tr>\n",
              "    <tr>\n",
              "      <th>mean</th>\n",
              "      <td>90424.513514</td>\n",
              "      <td>47214.283784</td>\n",
              "      <td>42236.567568</td>\n",
              "      <td>43.764414</td>\n",
              "    </tr>\n",
              "    <tr>\n",
              "      <th>std</th>\n",
              "      <td>142285.290653</td>\n",
              "      <td>88913.077046</td>\n",
              "      <td>56208.862490</td>\n",
              "      <td>10.712770</td>\n",
              "    </tr>\n",
              "    <tr>\n",
              "      <th>min</th>\n",
              "      <td>2245.000000</td>\n",
              "      <td>642.000000</td>\n",
              "      <td>1323.000000</td>\n",
              "      <td>6.800000</td>\n",
              "    </tr>\n",
              "    <tr>\n",
              "      <th>25%</th>\n",
              "      <td>16537.250000</td>\n",
              "      <td>6337.500000</td>\n",
              "      <td>9203.750000</td>\n",
              "      <td>37.302500</td>\n",
              "    </tr>\n",
              "    <tr>\n",
              "      <th>50%</th>\n",
              "      <td>32491.000000</td>\n",
              "      <td>14392.000000</td>\n",
              "      <td>18050.500000</td>\n",
              "      <td>43.185000</td>\n",
              "    </tr>\n",
              "    <tr>\n",
              "      <th>75%</th>\n",
              "      <td>95516.750000</td>\n",
              "      <td>41623.000000</td>\n",
              "      <td>50651.750000</td>\n",
              "      <td>49.925000</td>\n",
              "    </tr>\n",
              "    <tr>\n",
              "      <th>max</th>\n",
              "      <td>863486.000000</td>\n",
              "      <td>595980.000000</td>\n",
              "      <td>360551.000000</td>\n",
              "      <td>83.560000</td>\n",
              "    </tr>\n",
              "  </tbody>\n",
              "</table>\n",
              "</div>"
            ],
            "text/plain": [
              "         total_votes      dem_votes      rep_votes   dem_share\n",
              "count     222.000000     222.000000     222.000000  222.000000\n",
              "mean    90424.513514   47214.283784   42236.567568   43.764414\n",
              "std    142285.290653   88913.077046   56208.862490   10.712770\n",
              "min      2245.000000     642.000000    1323.000000    6.800000\n",
              "25%     16537.250000    6337.500000    9203.750000   37.302500\n",
              "50%     32491.000000   14392.000000   18050.500000   43.185000\n",
              "75%     95516.750000   41623.000000   50651.750000   49.925000\n",
              "max    863486.000000  595980.000000  360551.000000   83.560000"
            ]
          },
          "metadata": {
            "tags": []
          },
          "execution_count": 10
        }
      ]
    },
    {
      "cell_type": "code",
      "metadata": {
        "colab": {
          "base_uri": "https://localhost:8080/",
          "height": 191
        },
        "id": "_BN6SboqOGLa",
        "outputId": "dd209542-4c14-4438-f100-7b2a4da9a797"
      },
      "source": [
        "# Democratic share\r\n",
        "df_swing[['state', 'county', 'dem_share']].head()"
      ],
      "execution_count": 11,
      "outputs": [
        {
          "output_type": "execute_result",
          "data": {
            "text/html": [
              "<div>\n",
              "<style scoped>\n",
              "    .dataframe tbody tr th:only-of-type {\n",
              "        vertical-align: middle;\n",
              "    }\n",
              "\n",
              "    .dataframe tbody tr th {\n",
              "        vertical-align: top;\n",
              "    }\n",
              "\n",
              "    .dataframe thead th {\n",
              "        text-align: right;\n",
              "    }\n",
              "</style>\n",
              "<table border=\"1\" class=\"dataframe\">\n",
              "  <thead>\n",
              "    <tr style=\"text-align: right;\">\n",
              "      <th></th>\n",
              "      <th>state</th>\n",
              "      <th>county</th>\n",
              "      <th>dem_share</th>\n",
              "    </tr>\n",
              "  </thead>\n",
              "  <tbody>\n",
              "    <tr>\n",
              "      <th>0</th>\n",
              "      <td>PA</td>\n",
              "      <td>Erie County</td>\n",
              "      <td>60.08</td>\n",
              "    </tr>\n",
              "    <tr>\n",
              "      <th>1</th>\n",
              "      <td>PA</td>\n",
              "      <td>Bradford County</td>\n",
              "      <td>40.64</td>\n",
              "    </tr>\n",
              "    <tr>\n",
              "      <th>2</th>\n",
              "      <td>PA</td>\n",
              "      <td>Tioga County</td>\n",
              "      <td>36.07</td>\n",
              "    </tr>\n",
              "    <tr>\n",
              "      <th>3</th>\n",
              "      <td>PA</td>\n",
              "      <td>McKean County</td>\n",
              "      <td>41.21</td>\n",
              "    </tr>\n",
              "    <tr>\n",
              "      <th>4</th>\n",
              "      <td>PA</td>\n",
              "      <td>Potter County</td>\n",
              "      <td>31.04</td>\n",
              "    </tr>\n",
              "  </tbody>\n",
              "</table>\n",
              "</div>"
            ],
            "text/plain": [
              "  state           county  dem_share\n",
              "0    PA      Erie County      60.08\n",
              "1    PA  Bradford County      40.64\n",
              "2    PA     Tioga County      36.07\n",
              "3    PA    McKean County      41.21\n",
              "4    PA    Potter County      31.04"
            ]
          },
          "metadata": {
            "tags": []
          },
          "execution_count": 11
        }
      ]
    },
    {
      "cell_type": "markdown",
      "metadata": {
        "id": "AwDPGpbuhc2P"
      },
      "source": [
        "## __Histograms__"
      ]
    },
    {
      "cell_type": "code",
      "metadata": {
        "colab": {
          "base_uri": "https://localhost:8080/",
          "height": 285
        },
        "id": "VS_MhbJ903QV",
        "outputId": "d1e9efae-d9a4-4b34-9620-e137858d060a"
      },
      "source": [
        "sns.set()\r\n",
        "_ = plt.hist(df_swing['dem_share'])\r\n",
        "_ = plt.xlabel('percent of vote for Obama')\r\n",
        "_ = plt.ylabel('number of counties')\r\n",
        "\r\n",
        "plt.show()"
      ],
      "execution_count": 12,
      "outputs": [
        {
          "output_type": "display_data",
          "data": {
            "image/png": "[encoded data removed]",
            "text/plain": [
              "<Figure size 432x288 with 1 Axes>"
            ]
          },
          "metadata": {
            "tags": []
          }
        }
      ]
    },
    {
      "cell_type": "code",
      "metadata": {
        "colab": {
          "base_uri": "https://localhost:8080/",
          "height": 285
        },
        "id": "-Y-gT0s61lY-",
        "outputId": "2579e98b-df6c-4bd0-f570-2982af1ac169"
      },
      "source": [
        "# Set default Seaborn style\r\n",
        "sns.set()\r\n",
        "\r\n",
        "# Histograms with different binning\r\n",
        "_ = plt.hist(df_swing['dem_share'], bins=20)\r\n",
        "_ = plt.xlabel('percent of vote for Obama')\r\n",
        "_ = plt.ylabel('number of counties')\r\n",
        "plt.show()"
      ],
      "execution_count": 13,
      "outputs": [
        {
          "output_type": "display_data",
          "data": {
            "image/png": "[encoded data removed]",
            "text/plain": [
              "<Figure size 432x288 with 1 Axes>"
            ]
          },
          "metadata": {
            "tags": []
          }
        }
      ]
    },
    {
      "cell_type": "code",
      "metadata": {
        "colab": {
          "base_uri": "https://localhost:8080/",
          "height": 285
        },
        "id": "oiu_RKhW0LGA",
        "outputId": "a6154330-a117-483b-d73f-1ed602998a38"
      },
      "source": [
        "bin_edges = [0, 10, 20, 30, 40, 50,\r\n",
        "60, 70, 80, 90, 100]\r\n",
        "\r\n",
        "sns.set()\r\n",
        "_ = plt.hist(df_swing['dem_share'], bins=bin_edges)\r\n",
        "_ = plt.xlabel('percent of vote for Obama')\r\n",
        "_ = plt.ylabel('number of counties')\r\n",
        "\r\n",
        "\r\n",
        "plt.show()"
      ],
      "execution_count": 14,
      "outputs": [
        {
          "output_type": "display_data",
          "data": {
            "image/png": "[encoded data removed]",
            "text/plain": [
              "<Figure size 432x288 with 1 Axes>"
            ]
          },
          "metadata": {
            "tags": []
          }
        }
      ]
    },
    {
      "cell_type": "code",
      "metadata": {
        "colab": {
          "base_uri": "https://localhost:8080/",
          "height": 447
        },
        "id": "7Nb2cWQMbF7_",
        "outputId": "9c787482-68bc-405f-ddbb-b55111787535"
      },
      "source": [
        "# display records only with states\r\n",
        "ohio = df_swing.loc[df_swing[\"state\"] == \"OH\"]\r\n",
        "penn = df_swing.loc[df_swing[\"state\"] == \"PA\"]\r\n",
        "florida = df_swing.loc[df_swing[\"state\"] == \"FL\"]\r\n",
        "\r\n",
        "oh = ohio['dem_share']\r\n",
        "pa = penn['dem_share']\r\n",
        "fl = florida['dem_share']\r\n",
        "\r\n",
        "# Set default Seaborn style\r\n",
        "sns.set()\r\n",
        "\r\n",
        "plt.figure(figsize=(12, 7))\r\n",
        "\r\n",
        "# Histograms with different binning\r\n",
        "plt.hist(oh, label='OH', alpha = 0.7)\r\n",
        "plt.hist(pa, label='PA', alpha = 0.6)\r\n",
        "plt.hist(fl, label='FL', alpha = 0.4)\r\n",
        "plt.xlabel('percent of vote for Obama')\r\n",
        "plt.ylabel('number of counties')\r\n",
        "plt.legend()\r\n",
        "plt.show()"
      ],
      "execution_count": 15,
      "outputs": [
        {
          "output_type": "display_data",
          "data": {
            "image/png": "[encoded data removed]",
            "text/plain": [
              "<Figure size 864x504 with 1 Axes>"
            ]
          },
          "metadata": {
            "tags": []
          }
        }
      ]
    },
    {
      "cell_type": "code",
      "metadata": {
        "id": "mrKdpCdBAWR5",
        "colab": {
          "base_uri": "https://localhost:8080/",
          "height": 403
        },
        "outputId": "9ee269dd-b9c5-48cd-a207-994715e32624"
      },
      "source": [
        "# display records only with states\r\n",
        "ohio = df_swing.loc[df_swing[\"state\"] == \"OH\"]\r\n",
        "penn = df_swing.loc[df_swing[\"state\"] == \"PA\"]\r\n",
        "florida = df_swing.loc[df_swing[\"state\"] == \"FL\"]\r\n",
        "\r\n",
        "oh = (ohio['dem_share'].sum()/df_swing.dem_share.sum())*100\r\n",
        "pa = (penn['dem_share'].sum()/df_swing.dem_share.sum())*100\r\n",
        "fl = (florida['dem_share'].sum()/df_swing.dem_share.sum())*100\r\n",
        "\r\n",
        "# creating the dataset \r\n",
        "data = {'OHIO':oh, \r\n",
        "        'PENN':pa,\r\n",
        "        'FLORIDA':fl}\r\n",
        "\r\n",
        "keys = list(data.keys()) \r\n",
        "values = list(data.values()) \r\n",
        "\r\n",
        "# Set default Seaborn style\r\n",
        "sns.set()\r\n",
        "\r\n",
        "# set the plot size\r\n",
        "fig = plt.figure(figsize = (10, 5)) \r\n",
        "\r\n",
        "# creating the bar plot \r\n",
        "plt.bar(keys, values, color=['tab:green', 'tab:blue', 'tab:red'], width = 0.5) \r\n",
        "  \r\n",
        "plt.xlabel(\"Vote in swing states\") \r\n",
        "plt.ylabel(\"Percentage vote count in swing states\")\r\n",
        "plt.title(\"Percent Vote Counts\") \r\n",
        "plt.show()\r\n",
        "\r\n",
        "print('ohio vote percent {0:.2f}'.format((ohio['dem_share'].sum()/df_swing.dem_share.sum())*100))\r\n",
        "print('penn vote percent {0:.2f}'.format((penn['dem_share'].sum()/df_swing.dem_share.sum())*100))\r\n",
        "print('Florida vote percent {0:.2f}'.format((florida['dem_share'].sum()/df_swing.dem_share.sum())*100))"
      ],
      "execution_count": 16,
      "outputs": [
        {
          "output_type": "display_data",
          "data": {
            "image/png": "[encoded data removed]",
            "text/plain": [
              "<Figure size 720x360 with 1 Axes>"
            ]
          },
          "metadata": {
            "tags": []
          }
        },
        {
          "output_type": "stream",
          "text": [
            "ohio vote percent 40.14\n",
            "penn vote percent 31.36\n",
            "Florida vote percent 28.50\n"
          ],
          "name": "stdout"
        }
      ]
    },
    {
      "cell_type": "markdown",
      "metadata": {
        "id": "8a8MtS9-hUrn"
      },
      "source": [
        "## __Swarm Plot__"
      ]
    },
    {
      "cell_type": "markdown",
      "metadata": {
        "id": "w1J8UT15OnnE"
      },
      "source": [
        "$\\color{red}{\\textbf{Note:}}$ \r\n",
        "\r\n",
        "The **same data set can look different depending on how the bins are chosen**. And choice of bins is in many ways arbitrary. This leads to **Binning bias**\r\n",
        "that is we might interpret our plot differently for two different choices of bin number.\r\n",
        "\r\n",
        ">An **additional problem with histograms** is that we are not plotting all of the data. We are sweeping the data into bins, and losing their actual values.\r\n",
        "\r\n",
        "To remedy these problems we can make a bee swarm plot, also called a **swarm plot**. "
      ]
    },
    {
      "cell_type": "markdown",
      "metadata": {
        "id": "rG1XIa_MR7-l"
      },
      "source": [
        "In the IPython Shell, you can use `sns.swarmplot`? or help(`sns.swarmplot`) for more details on how to make bee swarm plots using seaborn."
      ]
    },
    {
      "cell_type": "code",
      "metadata": {
        "colab": {
          "base_uri": "https://localhost:8080/",
          "height": 447
        },
        "id": "mvW4wsAySJ-a",
        "outputId": "a05e7a68-ea52-4bef-d13d-ffe60f632a89"
      },
      "source": [
        "plt.figure(figsize=(12, 7))\r\n",
        "\r\n",
        "# Create bee swarm plot with Seaborn's default settings\r\n",
        "_ = sns.swarmplot(x='state', y='dem_share', data=df_swing)\r\n",
        "\r\n",
        "# Label the axes\r\n",
        "_ = plt.xlabel('state')\r\n",
        "_ = plt.ylabel('percent of vote for Obama')\r\n",
        "\r\n",
        "# Show the plot\r\n",
        "plt.show()"
      ],
      "execution_count": 17,
      "outputs": [
        {
          "output_type": "display_data",
          "data": {
            "image/png": "[encoded data removed]",
            "text/plain": [
              "<Figure size 864x504 with 1 Axes>"
            ]
          },
          "metadata": {
            "tags": []
          }
        }
      ]
    },
    {
      "cell_type": "markdown",
      "metadata": {
        "id": "hN7KIknpU_fq"
      },
      "source": [
        "## __Empirical cumulative distribution function (ECDF)__"
      ]
    },
    {
      "cell_type": "markdown",
      "metadata": {
        "id": "pV2vXfWAU80J"
      },
      "source": [
        "The **bee swarm** plot has a r**eal problem**. the **edges have overlapping data points**, which was necessary in order to fit all points onto the plot.\r\n",
        "\r\n",
        "We are now obfuscating data. So, using a bee **swarm plot** here is **not** the best option. As an alternative, **Empirical cumulative distribution function (ECDF).**\r\n",
        "\r\n",
        "Sometimes the **observations** in a collected data sample **do not fit** any known **probability distribution** and cannot be easily forced into an existing distribution by __data transforms__ or __parameterization__ of the distribution function.Instead, an __Empirical probability distribution__ must be used.\r\n",
        "\r\n",
        "---\r\n",
        "There are __two main types of probability distribution functions__ we may need to sample; they are:\r\n",
        "\r\n",
        "- __Probability Density Function (PDF)__\r\n",
        "    - The __PDF__ returns the expected probability for observing a value. For __discrete data__, the __PDF__ is referred to as a __Probability Mass Function (PMF)__.\r\n",
        "- __Cumulative Distribution Function (CDF)__\r\n",
        "    - The __CDF__ returns the expected probability for observing a value __less than or equal to a given value.\r\n",
        "---\r\n",
        "An __Empirical probability density function__ can be __fit__ and used for a data sampling using a __Non-Parametric density estimation__ method, such as __Kernel Density Estimation (KDE)__.\r\n",
        "\r\n",
        ">__kernel density estimation ( KDE)__ is a __non-parametric__ way to estimate the __Probability Density Function__ of a random variable. Kernel density estimation is a fundamental __Data Smoothing__ problem where inferences about the population are made, based on a __finite data sample__.\r\n",
        "\r\n",
        "\r\n",
        ">An **ECDF** is an estimator of the **Cumulative Distribution Function**. The ECDF essentially allows you to plot a feature of our data in order from *least to greatest and see the whole feature as if is distributed across the data set*.\r\n",
        "\r\n",
        "The **EDF is calculated** by ordering all of the **unique observations** in the data sample and calculating the **Cumulative probability** for each as the number of observations less than or equal to a given observation divided by the total number of observations.\r\n",
        "\r\n"
      ]
    },
    {
      "cell_type": "markdown",
      "metadata": {
        "id": "Jqzx381MXyIn"
      },
      "source": [
        "### __CDF vs ECDF__\r\n",
        "\r\n",
        "**CDF** is a **hypothetical model** of a distribution, the **ECDF models** empirical (i.e. **observed**) data. To put this another way, the ECDF is the **probability distribution** you would get if you sampled from your sample, instead of the population."
      ]
    },
    {
      "cell_type": "code",
      "metadata": {
        "colab": {
          "base_uri": "https://localhost:8080/",
          "height": 447
        },
        "id": "o_YZWSiQc_cq",
        "outputId": "9b9713d1-e792-4bcf-95b3-1c9b9ed740db"
      },
      "source": [
        "# 2008 US swing state election ECDF\r\n",
        "import numpy as np\r\n",
        "\r\n",
        "#ECDF\r\n",
        "x = np.sort(df_swing['dem_share'])\r\n",
        "y = np.arange(1, len(x)+1) / len(x)\r\n",
        "\r\n",
        "plt.figure(figsize=(12, 7))\r\n",
        "\r\n",
        "# Ploting ECDF\r\n",
        "_ = plt.plot(x, y, marker='.', linestyle='none')\r\n",
        "_ = plt.xlabel('percent of vote for Obama')\r\n",
        "_ = plt.ylabel('ECDF')\r\n",
        "plt.margins(0.02) # Keeps data off plot edges\r\n",
        "plt.show()"
      ],
      "execution_count": 18,
      "outputs": [
        {
          "output_type": "display_data",
          "data": {
            "image/png": "[encoded data removed]",
            "text/plain": [
              "<Figure size 864x504 with 1 Axes>"
            ]
          },
          "metadata": {
            "tags": []
          }
        }
      ]
    },
    {
      "cell_type": "markdown",
      "metadata": {
        "id": "4rpH5wsUeACF"
      },
      "source": [
        "__Graph Interpretation__\r\n",
        "\r\n",
        "- 20% of counties had 36% or less vote for Obama.\r\n",
        "- 75% of counties had less than half vote for Obama."
      ]
    },
    {
      "cell_type": "code",
      "metadata": {
        "colab": {
          "base_uri": "https://localhost:8080/",
          "height": 447
        },
        "id": "SelnPF10SJ0N",
        "outputId": "b9b495fd-1a07-4eb6-8506-94ebef904866"
      },
      "source": [
        "# display records only with states\r\n",
        "ohio = df_swing.loc[df_swing[\"state\"] == \"OH\"]\r\n",
        "penn = df_swing.loc[df_swing[\"state\"] == \"PA\"]\r\n",
        "florida = df_swing.loc[df_swing[\"state\"] == \"FL\"]\r\n",
        "\r\n",
        "oh = ohio['dem_share']\r\n",
        "pa = penn['dem_share']\r\n",
        "fl = florida['dem_share']\r\n",
        "\r\n",
        "# Comparison of ECDFs\r\n",
        "a = np.sort(oh)\r\n",
        "b = np.sort(pa)\r\n",
        "c = np.sort(fl)\r\n",
        "\r\n",
        "x = np.arange(1, len(a)+1) / len(a)\r\n",
        "y = np.arange(1, len(b)+1) / len(b)\r\n",
        "z = np.arange(1, len(c)+1) / len(c)\r\n",
        "\r\n",
        "plt.figure(figsize=(12, 7))\r\n",
        "\r\n",
        "# Ploting ECDF\r\n",
        "plt.plot(a, x, marker='o', linestyle='none', label='OH')\r\n",
        "plt.plot(b, y, marker='o', linestyle='none', label='PA')\r\n",
        "plt.plot(c, z, marker='o', linestyle='none', label='FL')\r\n",
        "\r\n",
        "plt.xlabel('percent of vote for Obama')\r\n",
        "plt.ylabel('ECDF')\r\n",
        "plt.margins(0.02) # Keeps data off plot edges\r\n",
        "plt.legend()\r\n",
        "plt.show()"
      ],
      "execution_count": 19,
      "outputs": [
        {
          "output_type": "display_data",
          "data": {
            "image/png": "[encoded data removed]",
            "text/plain": [
              "<Figure size 864x504 with 1 Axes>"
            ]
          },
          "metadata": {
            "tags": []
          }
        }
      ]
    },
    {
      "cell_type": "markdown",
      "metadata": {
        "id": "ycUOeRxJh8so"
      },
      "source": [
        "## __Summary Statistics: The sample Mean and Median__ [Quantitative exploratory data analysis]"
      ]
    },
    {
      "cell_type": "markdown",
      "metadata": {
        "id": "FXxAAVH3sMCi"
      },
      "source": [
        ">**Outliers:**\r\n",
        "Data points whose value is far greater or less than most of\r\n",
        "the rest of the data."
      ]
    },
    {
      "cell_type": "markdown",
      "metadata": {
        "id": "1HsdvHyUASrb"
      },
      "source": [
        ">$\\color{red}{\\textbf{Note:}}$ `inf` used for setting a variable with an infinitely large value."
      ]
    },
    {
      "cell_type": "markdown",
      "metadata": {
        "id": "ATtVDU2zqFet"
      },
      "source": [
        "__The Median:__\r\n",
        "\r\n",
        "Sort the the data and choosing the datum in the __Middle__. Because it is derived from the __ranking of sorted data__, and not on the values of the data, the __Median is immune to data that take on extreme values__.\r\n",
        "\r\n",
        "- The median is a special name for the __50th percentile__.\r\n",
        "\r\n",
        ">$\\color{red}{\\textbf{Note:}}$\r\n",
        "An **outlier** can significantly affect the value of the __Mean__, but not the **Median**.\r\n",
        "\r\n",
        "\r\n",
        "\r\n",
        "\r\n"
      ]
    },
    {
      "cell_type": "code",
      "metadata": {
        "colab": {
          "base_uri": "https://localhost:8080/"
        },
        "id": "kVkC_zwMuhGW",
        "outputId": "96b6ed33-371e-4c41-fc1a-9090332b3d3c"
      },
      "source": [
        "# vote shares\r\n",
        "vote_share_PA = df_swing.loc[df_swing[\"state\"] == \"PA\"]\r\n",
        "np.mean(vote_share_PA)"
      ],
      "execution_count": 20,
      "outputs": [
        {
          "output_type": "execute_result",
          "data": {
            "text/plain": [
              "total_votes    89479.656716\n",
              "dem_votes      48900.940299\n",
              "rep_votes      39640.074627\n",
              "dem_share         45.476418\n",
              "dtype: float64"
            ]
          },
          "metadata": {
            "tags": []
          },
          "execution_count": 20
        }
      ]
    },
    {
      "cell_type": "code",
      "metadata": {
        "colab": {
          "base_uri": "https://localhost:8080/"
        },
        "id": "dbsE2GUxvH0c",
        "outputId": "ef1f24d7-18c6-4220-9a9e-9abd1c350fbd"
      },
      "source": [
        "# democratic vote share in PA \r\n",
        "print('Mean:{}'.format(np.mean(vote_share_PA.dem_share)))\r\n",
        "print('Median: {}'.format(np.median(vote_share_PA.dem_share)))"
      ],
      "execution_count": 21,
      "outputs": [
        {
          "output_type": "stream",
          "text": [
            "Mean:45.476417910447765\n",
            "Median: 44.03\n"
          ],
          "name": "stdout"
        }
      ]
    },
    {
      "cell_type": "code",
      "metadata": {
        "colab": {
          "base_uri": "https://localhost:8080/"
        },
        "id": "uJKeXzryCB0x",
        "outputId": "738bd383-e6f0-463f-d656-67f7b9bd73c6"
      },
      "source": [
        "df_swing.county.describe()"
      ],
      "execution_count": 22,
      "outputs": [
        {
          "output_type": "execute_result",
          "data": {
            "text/plain": [
              "count                  222\n",
              "unique                 187\n",
              "top       Jefferson County\n",
              "freq                     3\n",
              "Name: county, dtype: object"
            ]
          },
          "metadata": {
            "tags": []
          },
          "execution_count": 22
        }
      ]
    },
    {
      "cell_type": "code",
      "metadata": {
        "colab": {
          "base_uri": "https://localhost:8080/"
        },
        "id": "zhYs7kwyCSc6",
        "outputId": "b7b8ec13-491e-4d31-98ad-31af63addd7a"
      },
      "source": [
        "# Test if pattern or regex is contained within a string of a Series or Index.\r\n",
        "df_swing.county.str.contains('ut').values # for Utha county"
      ],
      "execution_count": 23,
      "outputs": [
        {
          "output_type": "execute_result",
          "data": {
            "text/plain": [
              "array([False, False, False, False, False, False, False, False, False,\n",
              "       False, False, False, False, False, False, False, False, False,\n",
              "       False, False, False, False, False, False, False, False, False,\n",
              "       False, False, False, False, False, False, False, False, False,\n",
              "       False, False, False, False, False, False, False, False, False,\n",
              "       False,  True, False, False,  True, False, False, False, False,\n",
              "       False, False, False, False, False, False, False, False, False,\n",
              "       False, False, False, False, False, False, False, False, False,\n",
              "       False, False, False, False, False, False, False, False, False,\n",
              "       False, False, False, False, False, False, False, False, False,\n",
              "       False, False, False, False, False, False, False, False, False,\n",
              "       False, False, False, False, False, False, False, False, False,\n",
              "       False, False, False, False, False, False, False, False, False,\n",
              "       False, False, False, False, False, False, False, False, False,\n",
              "       False, False, False, False, False, False, False, False, False,\n",
              "       False, False, False, False, False, False, False, False, False,\n",
              "       False, False, False, False, False, False, False, False, False,\n",
              "       False, False, False, False, False, False, False, False, False,\n",
              "       False, False, False, False, False, False, False, False, False,\n",
              "       False, False,  True, False, False, False, False, False, False,\n",
              "       False, False, False, False, False, False, False, False, False,\n",
              "       False, False, False, False, False, False, False, False, False,\n",
              "       False, False, False, False, False, False, False, False, False,\n",
              "       False, False, False, False, False, False,  True, False, False,\n",
              "       False, False, False, False, False, False])"
            ]
          },
          "metadata": {
            "tags": []
          },
          "execution_count": 23
        }
      ]
    },
    {
      "cell_type": "code",
      "metadata": {
        "colab": {
          "base_uri": "https://localhost:8080/"
        },
        "id": "ktRhc0IqBY1x",
        "outputId": "1abe3afc-fc12-4339-90be-f0b766d536ec"
      },
      "source": [
        "# Mean and median Vote share for washington County\r\n",
        "wash_c = df_swing.loc[df_swing[\"county\"] == \"Washington County\"]\r\n",
        "print(np.mean(wash_c))"
      ],
      "execution_count": 24,
      "outputs": [
        {
          "output_type": "stream",
          "text": [
            "total_votes    42660.000000\n",
            "dem_votes      16741.000000\n",
            "rep_votes      25316.333333\n",
            "dem_share         26.780000\n",
            "dtype: float64\n"
          ],
          "name": "stdout"
        }
      ]
    },
    {
      "cell_type": "markdown",
      "metadata": {
        "id": "ZU2pH1HkFFCQ"
      },
      "source": [
        "### __Combine Box and Swarmplot__ "
      ]
    },
    {
      "cell_type": "code",
      "metadata": {
        "colab": {
          "base_uri": "https://localhost:8080/",
          "height": 447
        },
        "id": "NfEmwhwVr0bj",
        "outputId": "fe89eb50-b813-418e-d514-53ed4187f477"
      },
      "source": [
        "plt.figure(figsize=(12, 7))\r\n",
        "\r\n",
        "# Create bee swarm plot with Seaborn's default settings\r\n",
        "_ = sns.boxplot(x='state', y='dem_share', data=df_swing, whis=np.inf) \r\n",
        "_ = sns.swarmplot(x='state', y='dem_share', data=df_swing, color=\".2\")\r\n",
        "\r\n",
        "# Label the axes\r\n",
        "_ = plt.xlabel('state')\r\n",
        "_ = plt.ylabel('percent of vote for Obama')\r\n",
        "\r\n",
        "# Show the plot\r\n",
        "plt.show()"
      ],
      "execution_count": 25,
      "outputs": [
        {
          "output_type": "display_data",
          "data": {
            "image/png": "[encoded data removed]",
            "text/plain": [
              "<Figure size 864x504 with 1 Axes>"
            ]
          },
          "metadata": {
            "tags": []
          }
        }
      ]
    },
    {
      "cell_type": "code",
      "metadata": {
        "colab": {
          "base_uri": "https://localhost:8080/"
        },
        "id": "fD0gvbR5paBO",
        "outputId": "cfd2814e-1221-4d99-9b21-859aa181aefa"
      },
      "source": [
        "# Percentile\r\n",
        "np.percentile(df_swing['dem_share'], [25, 50, 75])"
      ],
      "execution_count": 26,
      "outputs": [
        {
          "output_type": "execute_result",
          "data": {
            "text/plain": [
              "array([37.3025, 43.185 , 49.925 ])"
            ]
          },
          "metadata": {
            "tags": []
          },
          "execution_count": 26
        }
      ]
    },
    {
      "cell_type": "markdown",
      "metadata": {
        "id": "Twbt3SPnNZtI"
      },
      "source": [
        "### **Variance** and **standard deviation**\r\n",
        "\r\n",
        "<p align='center'>\r\n",
        "    <a href='#'><img src='https://github.com/mohd-faizy/CAREER-TRACK-Data-Scientist-with-Python/blob/main/22_Statistical-Thinking-in-Python-%5BPart%20-1%5D/_png/SDvsVar.png?raw=**true**'></a>\r\n",
        "</p>"
      ]
    },
    {
      "cell_type": "markdown",
      "metadata": {
        "id": "41674nyINpqK"
      },
      "source": [
        ">__Variance__ is the mean **squared distance** of the data from their **mean**. Informally, a measure of the ***spread of data***.\r\n",
        "\r\n",
        "$$ variance = \\dfrac{1}{n}\\sum^{n}_{i=1}(x_i - \\bar{x})^2 $$"
      ]
    },
    {
      "cell_type": "markdown",
      "metadata": {
        "id": "D3fVZqTHaVEN"
      },
      "source": [
        ">__Standard Deviation__  is a measure that is used to **quantify** the amount of ***variation*** or ***dispersion*** of a set of data values.\r\n",
        "\r\n",
        "$$ Standard Deviation = \\sqrt{\\dfrac{\\sum(x_i - \\bar{x})^2}{n - 1}} $$"
      ]
    },
    {
      "cell_type": "code",
      "metadata": {
        "id": "vGJqCmaPOTXk",
        "colab": {
          "base_uri": "https://localhost:8080/"
        },
        "outputId": "26524c18-9dd9-4bf1-8b6f-6d286894b93d"
      },
      "source": [
        "# Display records only with states \r\n",
        "florida = df_swing.loc[df_swing[\"state\"] == \"FL\"]\r\n",
        "\r\n",
        "# Computing the variance\r\n",
        "print('Variance {0:.2f}'.format(np.var(florida.dem_share)))\r\n",
        "\r\n",
        "# Computing the Standard Deviation\r\n",
        "print('Standard Deviation {0:.2f}'.format(np.std(florida.dem_share)))"
      ],
      "execution_count": 27,
      "outputs": [
        {
          "output_type": "stream",
          "text": [
            "Variance 147.44\n",
            "Standard Deviation 12.14\n"
          ],
          "name": "stdout"
        }
      ]
    },
    {
      "cell_type": "markdown",
      "metadata": {
        "id": "xVrv-llDgmng"
      },
      "source": [
        "### **Covariance** and the **Pearson correlation coefficient**\r\n"
      ]
    },
    {
      "cell_type": "code",
      "metadata": {
        "colab": {
          "base_uri": "https://localhost:8080/",
          "height": 480
        },
        "id": "GV5p_aEmNk3p",
        "outputId": "8dffc52c-011d-461a-c257-d645a7f7901c"
      },
      "source": [
        "# Total swing votes\r\n",
        "total_votes = df_swing.total_votes\r\n",
        "\r\n",
        "# Democrates Share\r\n",
        "demcrats_share = df_swing.dem_share\r\n",
        "\r\n",
        "print('mean total votes {0:.2f}'.format((total_votes/1000).mean()))\r\n",
        "print('mean percent for obama {0:.2f}'.format(demcrats_share.mean()))\r\n",
        "\r\n",
        "# Set default Seaborn style\r\n",
        "sns.set()\r\n",
        "\r\n",
        "# figure size\r\n",
        "plt.figure(figsize=(12, 7))\r\n",
        "\r\n",
        "# vertical mean line \r\n",
        "plt.axvline((total_votes/1000).mean(), color='red',\r\n",
        "            linestyle='dashed', linewidth=1,\r\n",
        "            label='mean total votes')\r\n",
        "\r\n",
        "# horizontal mean line\r\n",
        "plt.axhline(demcrats_share.mean(), color='k',\r\n",
        "            linestyle='dashed', linewidth=1,\r\n",
        "            label='mean percent for obama')\r\n",
        "# Plot\r\n",
        "_ = plt.plot(total_votes/1000, demcrats_share, marker='o', linestyle='none')\r\n",
        "_ = plt.xlabel('total votes (thousands)')\r\n",
        "_ = plt.ylabel('percent of vote for Obama')\r\n",
        "_ = plt.legend()\r\n",
        "plt.show()"
      ],
      "execution_count": 28,
      "outputs": [
        {
          "output_type": "stream",
          "text": [
            "mean total votes 90.42\n",
            "mean percent for obama 43.76\n"
          ],
          "name": "stdout"
        },
        {
          "output_type": "display_data",
          "data": {
            "image/png": "[encoded data removed]",
            "text/plain": [
              "<Figure size 864x504 with 1 Axes>"
            ]
          },
          "metadata": {
            "tags": []
          }
        }
      ]
    },
    {
      "cell_type": "markdown",
      "metadata": {
        "id": "epzMi3p12ZTl"
      },
      "source": [
        "***The twelve most populous counties all voted for Obama, and that most of the counties with small populations voted for McCain.***"
      ]
    },
    {
      "cell_type": "markdown",
      "metadata": {
        "id": "JssSd-ws3J3F"
      },
      "source": [
        "The mean total votes. We can compute these differences for each data point.\r\n",
        "\r\n",
        "The **covariance** is the mean of the product of these differences. If x and y both tend to be above, or both below their respective means together, as they are in this data set, then the **covariance is positive** i.e (positively correlated) when **x is high**, so is **y**; when the county is **populous**, it has more votes for Obama.\r\n",
        "\r\n",
        "Conversely, if **x is high** while **y is low**, the covariance is negative, and the data are **negatively correlated**, or **anticorrelated**, which is not the case for this data set.\r\n",
        "\r\n",
        "\r\n"
      ]
    },
    {
      "cell_type": "markdown",
      "metadata": {
        "id": "RFSiBHV5exks"
      },
      "source": [
        "#### __Covariance__ \n",
        "\n",
        "it is the measure of how the two quantities vary together.\n",
        "\n",
        "- Covariance is a measure of the relationship between two random variables and to what extent, they change together. Or we can say, in other words, it defines the changes between the two variables, such that change in one variable is equal to change in another variable.\n",
        "\n",
        "- If the covariance for any two variables is positive, that means, both the variables move in the same direction. Here, the variables show similar behaviour.\n",
        "\n",
        "$$ covariance = \\dfrac{1}{n}\\sum^{n}_{i=1}(x_i - \\bar{x})(y_i - \\bar{y})$$\n",
        "\n",
        "\n"
      ]
    },
    {
      "cell_type": "code",
      "metadata": {
        "colab": {
          "base_uri": "https://localhost:8080/",
          "height": 317
        },
        "id": "I1P5KxIkwh-j",
        "outputId": "d36833af-ef3e-4082-94e5-58c6d9c82fb7"
      },
      "source": [
        "# Compute the covariance matrix: covariance_matrix\r\n",
        "covariance_matrix = np.cov((total_votes/1000), demcrats_share )\r\n",
        "\r\n",
        "sns.heatmap(covariance_matrix,\r\n",
        "                 cbar=True,\r\n",
        "                 annot=True,\r\n",
        "                 square=True,\r\n",
        "                 fmt='.2f',\r\n",
        "                 annot_kws={'size': 12}\r\n",
        "                 )\r\n",
        "\r\n",
        "# Print covariance matrix\r\n",
        "print(covariance_matrix)\r\n",
        "\r\n",
        "# Extract covariance of length and width of petals: petal_cov\r\n",
        "petal_cov = covariance_matrix[0, 1]\r\n",
        "\r\n",
        "# Print the length/width covariance\r\n",
        "print(petal_cov)"
      ],
      "execution_count": 29,
      "outputs": [
        {
          "output_type": "stream",
          "text": [
            "[[20245.10393632   817.30936184]\n",
            " [  817.30936184   114.76344739]]\n",
            "817.3093618405288\n"
          ],
          "name": "stdout"
        },
        {
          "output_type": "display_data",
          "data": {
            "image/png": "[encoded data removed]",
            "text/plain": [
              "<Figure size 432x288 with 2 Axes>"
            ]
          },
          "metadata": {
            "tags": []
          }
        }
      ]
    },
    {
      "cell_type": "markdown",
      "metadata": {
        "id": "CEwEcGyijpF4"
      },
      "source": [
        "#### __Pearson correlation coefficient__\r\n",
        "\r\n",
        "\r\n",
        "We can compute the **covariance** using built-in NumPy functions. However, if we want to have a more **generally applicable measure** of **how two variables depend on each other**, we want it to be **dimensionless**, that is to not have any units.\r\n",
        "\r\n",
        "So, we can divide the covariance by the ***standard deviations of the x and y variables***. This is called the Pearson correlation coefficient, usually denoted by the Greek letter rho."
      ]
    },
    {
      "cell_type": "markdown",
      "metadata": {
        "id": "evaLGPtt5Idk"
      },
      "source": [
        "#### ___Why is the Pearson correlation coefficient important?___\r\n",
        "\r\n",
        "It helps in knowing **how strong the relationship between the two variables** is. Not only the presence or the absence of the correlation between the two variables is indicated using the Pearson Correlation Coefficient but it also determines the **exact extent to which those variables are correlated**.\r\n",
        "\r\n",
        "\r\n",
        "The **Pearson coefficient correlation** has a **high statistical significance**. It looks at the relationship between two variables. It seeks to draw a line through the data of two variables to show their relationship. The relationship of the variables is measured with the help Pearson correlation coefficient calculator."
      ]
    },
    {
      "cell_type": "markdown",
      "metadata": {
        "id": "sHA0m-qfjnGz"
      },
      "source": [
        "$$ \\begin{align} \\rho &= \\text{Pearson correlation} = \\dfrac{\\text{covariance}}{(\\text{std of x})(\\text{std of y})} \\\\ &= \\dfrac{\\text{variability due to codependence}}{\\text{independent variability}} \\end{align}$$"
      ]
    },
    {
      "cell_type": "code",
      "metadata": {
        "colab": {
          "base_uri": "https://localhost:8080/"
        },
        "id": "JmXV4_09Nkze",
        "outputId": "2fccd30e-4866-4ad8-a85f-cee6dcd6fac9"
      },
      "source": [
        "def pearson_r(x, y):\r\n",
        "    \"\"\"Compute Pearson correlation coefficient between two arrays\r\n",
        "    \r\n",
        "    Args:\r\n",
        "        x: arrays\r\n",
        "        y: arrays\r\n",
        "        \r\n",
        "    returns:\r\n",
        "        r: int\r\n",
        "    \"\"\"\r\n",
        "    # Compute correlation matrix: corr_mat\r\n",
        "    corr_mat = np.corrcoef(x, y)\r\n",
        "    \r\n",
        "    # Return entry[0, 1]\r\n",
        "    return corr_mat[0, 1]\r\n",
        "\r\n",
        "# Compute Pearson correlation coefficient for I. versicolor: r\r\n",
        "r = pearson_r((total_votes/1000), demcrats_share)\r\n",
        "\r\n",
        "# Print the result\r\n",
        "print(r)"
      ],
      "execution_count": 30,
      "outputs": [
        {
          "output_type": "stream",
          "text": [
            "0.5361973649586781\n"
          ],
          "name": "stdout"
        }
      ]
    },
    {
      "cell_type": "code",
      "metadata": {
        "colab": {
          "base_uri": "https://localhost:8080/"
        },
        "id": "BLBFoc7tx7F6",
        "outputId": "405a335a-5cf2-43ce-c94a-af8dda8ffeb3"
      },
      "source": [
        "ls"
      ],
      "execution_count": 31,
      "outputs": [
        {
          "output_type": "stream",
          "text": [
            "2008_all_states.csv    belmont.csv  michelson_speed_of_light.csv\n",
            "2008_swing_states.csv  iris.csv\n"
          ],
          "name": "stdout"
        }
      ]
    },
    {
      "cell_type": "markdown",
      "metadata": {
        "id": "EqIFA6tyAyN_"
      },
      "source": [
        "# __Part - B__"
      ]
    },
    {
      "cell_type": "markdown",
      "metadata": {
        "id": "j_LbWxbJyAeX"
      },
      "source": [
        "\r\n",
        "--- \r\n",
        "<strong> \r\n",
        "    <h1 align='center'>All State</h1> \r\n",
        "</strong>\r\n",
        "\r\n",
        "---"
      ]
    },
    {
      "cell_type": "code",
      "metadata": {
        "colab": {
          "base_uri": "https://localhost:8080/",
          "height": 391
        },
        "id": "baxMSC6Xx5rJ",
        "outputId": "895fdade-5b82-40db-924f-4838329c13c0"
      },
      "source": [
        "# Reading the dataframe in Pandas\r\n",
        "df_all_state = pd.read_csv('2008_all_states.csv')\r\n",
        "df_all_state.head(-10)"
      ],
      "execution_count": 32,
      "outputs": [
        {
          "output_type": "execute_result",
          "data": {
            "text/html": [
              "<div>\n",
              "<style scoped>\n",
              "    .dataframe tbody tr th:only-of-type {\n",
              "        vertical-align: middle;\n",
              "    }\n",
              "\n",
              "    .dataframe tbody tr th {\n",
              "        vertical-align: top;\n",
              "    }\n",
              "\n",
              "    .dataframe thead th {\n",
              "        text-align: right;\n",
              "    }\n",
              "</style>\n",
              "<table border=\"1\" class=\"dataframe\">\n",
              "  <thead>\n",
              "    <tr style=\"text-align: right;\">\n",
              "      <th></th>\n",
              "      <th>state</th>\n",
              "      <th>county</th>\n",
              "      <th>total_votes</th>\n",
              "      <th>dem_votes</th>\n",
              "      <th>rep_votes</th>\n",
              "      <th>other_votes</th>\n",
              "      <th>dem_share</th>\n",
              "      <th>east_west</th>\n",
              "    </tr>\n",
              "  </thead>\n",
              "  <tbody>\n",
              "    <tr>\n",
              "      <th>0</th>\n",
              "      <td>AK</td>\n",
              "      <td>State House District 8, Denali-University</td>\n",
              "      <td>10320</td>\n",
              "      <td>4995</td>\n",
              "      <td>4983</td>\n",
              "      <td>342</td>\n",
              "      <td>50.06</td>\n",
              "      <td>west</td>\n",
              "    </tr>\n",
              "    <tr>\n",
              "      <th>1</th>\n",
              "      <td>AK</td>\n",
              "      <td>State House District 37, Bristol Bay-Aleuti</td>\n",
              "      <td>4665</td>\n",
              "      <td>1868</td>\n",
              "      <td>2661</td>\n",
              "      <td>136</td>\n",
              "      <td>41.24</td>\n",
              "      <td>west</td>\n",
              "    </tr>\n",
              "    <tr>\n",
              "      <th>2</th>\n",
              "      <td>AK</td>\n",
              "      <td>State House District 12, Richardson-Glenn H</td>\n",
              "      <td>7589</td>\n",
              "      <td>1914</td>\n",
              "      <td>5467</td>\n",
              "      <td>208</td>\n",
              "      <td>25.93</td>\n",
              "      <td>west</td>\n",
              "    </tr>\n",
              "    <tr>\n",
              "      <th>3</th>\n",
              "      <td>AK</td>\n",
              "      <td>State House District 13, Greater Palmer</td>\n",
              "      <td>11526</td>\n",
              "      <td>2800</td>\n",
              "      <td>8432</td>\n",
              "      <td>294</td>\n",
              "      <td>24.93</td>\n",
              "      <td>west</td>\n",
              "    </tr>\n",
              "    <tr>\n",
              "      <th>4</th>\n",
              "      <td>AK</td>\n",
              "      <td>State House District 14, Greater Wasilla</td>\n",
              "      <td>10456</td>\n",
              "      <td>2132</td>\n",
              "      <td>8108</td>\n",
              "      <td>216</td>\n",
              "      <td>20.82</td>\n",
              "      <td>west</td>\n",
              "    </tr>\n",
              "    <tr>\n",
              "      <th>...</th>\n",
              "      <td>...</td>\n",
              "      <td>...</td>\n",
              "      <td>...</td>\n",
              "      <td>...</td>\n",
              "      <td>...</td>\n",
              "      <td>...</td>\n",
              "      <td>...</td>\n",
              "      <td>...</td>\n",
              "    </tr>\n",
              "    <tr>\n",
              "      <th>3138</th>\n",
              "      <td>HI</td>\n",
              "      <td>Maui County</td>\n",
              "      <td>51789</td>\n",
              "      <td>39727</td>\n",
              "      <td>11154</td>\n",
              "      <td>908</td>\n",
              "      <td>78.08</td>\n",
              "      <td>west</td>\n",
              "    </tr>\n",
              "    <tr>\n",
              "      <th>3139</th>\n",
              "      <td>HI</td>\n",
              "      <td>Hawaii County</td>\n",
              "      <td>66916</td>\n",
              "      <td>50819</td>\n",
              "      <td>14866</td>\n",
              "      <td>1231</td>\n",
              "      <td>77.36</td>\n",
              "      <td>west</td>\n",
              "    </tr>\n",
              "    <tr>\n",
              "      <th>3140</th>\n",
              "      <td>OH</td>\n",
              "      <td>Ottawa County</td>\n",
              "      <td>23069</td>\n",
              "      <td>12049</td>\n",
              "      <td>10618</td>\n",
              "      <td>402</td>\n",
              "      <td>53.16</td>\n",
              "      <td>east</td>\n",
              "    </tr>\n",
              "    <tr>\n",
              "      <th>3141</th>\n",
              "      <td>OH</td>\n",
              "      <td>Sandusky County</td>\n",
              "      <td>30373</td>\n",
              "      <td>15601</td>\n",
              "      <td>14190</td>\n",
              "      <td>582</td>\n",
              "      <td>52.40</td>\n",
              "      <td>east</td>\n",
              "    </tr>\n",
              "    <tr>\n",
              "      <th>3142</th>\n",
              "      <td>OH</td>\n",
              "      <td>Summit County</td>\n",
              "      <td>269059</td>\n",
              "      <td>155105</td>\n",
              "      <td>110499</td>\n",
              "      <td>3455</td>\n",
              "      <td>58.36</td>\n",
              "      <td>east</td>\n",
              "    </tr>\n",
              "  </tbody>\n",
              "</table>\n",
              "<p>3143 rows × 8 columns</p>\n",
              "</div>"
            ],
            "text/plain": [
              "     state                                       county  ...  dem_share  east_west\n",
              "0       AK    State House District 8, Denali-University  ...      50.06       west\n",
              "1       AK  State House District 37, Bristol Bay-Aleuti  ...      41.24       west\n",
              "2       AK  State House District 12, Richardson-Glenn H  ...      25.93       west\n",
              "3       AK      State House District 13, Greater Palmer  ...      24.93       west\n",
              "4       AK     State House District 14, Greater Wasilla  ...      20.82       west\n",
              "...    ...                                          ...  ...        ...        ...\n",
              "3138    HI                                  Maui County  ...      78.08       west\n",
              "3139    HI                                Hawaii County  ...      77.36       west\n",
              "3140    OH                                Ottawa County  ...      53.16       east\n",
              "3141    OH                              Sandusky County  ...      52.40       east\n",
              "3142    OH                                Summit County  ...      58.36       east\n",
              "\n",
              "[3143 rows x 8 columns]"
            ]
          },
          "metadata": {
            "tags": []
          },
          "execution_count": 32
        }
      ]
    },
    {
      "cell_type": "code",
      "metadata": {
        "colab": {
          "base_uri": "https://localhost:8080/"
        },
        "id": "aLQBv0oZ6UJV",
        "outputId": "dca5fb23-87f2-41fd-92c5-0913d495ad05"
      },
      "source": [
        "print(df_swing.shape)\r\n",
        "print(df_all_state.shape)"
      ],
      "execution_count": 33,
      "outputs": [
        {
          "output_type": "stream",
          "text": [
            "(222, 6)\n",
            "(3153, 8)\n"
          ],
          "name": "stdout"
        }
      ]
    },
    {
      "cell_type": "code",
      "metadata": {
        "colab": {
          "base_uri": "https://localhost:8080/"
        },
        "id": "fQ_TfSEg_pKO",
        "outputId": "97e708f6-1f80-4aea-ddce-3704f727a3f3"
      },
      "source": [
        "df_all_state.columns"
      ],
      "execution_count": 34,
      "outputs": [
        {
          "output_type": "execute_result",
          "data": {
            "text/plain": [
              "Index(['state', 'county', 'total_votes', 'dem_votes', 'rep_votes',\n",
              "       'other_votes', 'dem_share', 'east_west'],\n",
              "      dtype='object')"
            ]
          },
          "metadata": {
            "tags": []
          },
          "execution_count": 34
        }
      ]
    },
    {
      "cell_type": "code",
      "metadata": {
        "colab": {
          "base_uri": "https://localhost:8080/",
          "height": 277
        },
        "id": "lmZdBDuC9I18",
        "outputId": "c3357634-10f2-4524-fab1-ec0c32e7c490"
      },
      "source": [
        "df_all_state.describe()"
      ],
      "execution_count": 35,
      "outputs": [
        {
          "output_type": "execute_result",
          "data": {
            "text/html": [
              "<div>\n",
              "<style scoped>\n",
              "    .dataframe tbody tr th:only-of-type {\n",
              "        vertical-align: middle;\n",
              "    }\n",
              "\n",
              "    .dataframe tbody tr th {\n",
              "        vertical-align: top;\n",
              "    }\n",
              "\n",
              "    .dataframe thead th {\n",
              "        text-align: right;\n",
              "    }\n",
              "</style>\n",
              "<table border=\"1\" class=\"dataframe\">\n",
              "  <thead>\n",
              "    <tr style=\"text-align: right;\">\n",
              "      <th></th>\n",
              "      <th>total_votes</th>\n",
              "      <th>dem_votes</th>\n",
              "      <th>rep_votes</th>\n",
              "      <th>other_votes</th>\n",
              "      <th>dem_share</th>\n",
              "    </tr>\n",
              "  </thead>\n",
              "  <tbody>\n",
              "    <tr>\n",
              "      <th>count</th>\n",
              "      <td>3.153000e+03</td>\n",
              "      <td>3.153000e+03</td>\n",
              "      <td>3153.000000</td>\n",
              "      <td>3153.000000</td>\n",
              "      <td>3153.000000</td>\n",
              "    </tr>\n",
              "    <tr>\n",
              "      <th>mean</th>\n",
              "      <td>4.171013e+04</td>\n",
              "      <td>2.206070e+04</td>\n",
              "      <td>19019.719632</td>\n",
              "      <td>582.779258</td>\n",
              "      <td>42.214653</td>\n",
              "    </tr>\n",
              "    <tr>\n",
              "      <th>std</th>\n",
              "      <td>1.192757e+05</td>\n",
              "      <td>7.668304e+04</td>\n",
              "      <td>44604.561162</td>\n",
              "      <td>1834.898291</td>\n",
              "      <td>14.046978</td>\n",
              "    </tr>\n",
              "    <tr>\n",
              "      <th>min</th>\n",
              "      <td>7.900000e+01</td>\n",
              "      <td>8.000000e+00</td>\n",
              "      <td>67.000000</td>\n",
              "      <td>0.000000</td>\n",
              "      <td>5.030000</td>\n",
              "    </tr>\n",
              "    <tr>\n",
              "      <th>25%</th>\n",
              "      <td>5.015000e+03</td>\n",
              "      <td>1.832000e+03</td>\n",
              "      <td>2889.000000</td>\n",
              "      <td>71.000000</td>\n",
              "      <td>31.980000</td>\n",
              "    </tr>\n",
              "    <tr>\n",
              "      <th>50%</th>\n",
              "      <td>1.086800e+04</td>\n",
              "      <td>4.434000e+03</td>\n",
              "      <td>6270.000000</td>\n",
              "      <td>171.000000</td>\n",
              "      <td>41.770000</td>\n",
              "    </tr>\n",
              "    <tr>\n",
              "      <th>75%</th>\n",
              "      <td>2.856200e+04</td>\n",
              "      <td>1.209400e+04</td>\n",
              "      <td>15775.000000</td>\n",
              "      <td>434.000000</td>\n",
              "      <td>51.280000</td>\n",
              "    </tr>\n",
              "    <tr>\n",
              "      <th>max</th>\n",
              "      <td>3.318248e+06</td>\n",
              "      <td>2.295853e+06</td>\n",
              "      <td>956425.000000</td>\n",
              "      <td>65970.000000</td>\n",
              "      <td>93.430000</td>\n",
              "    </tr>\n",
              "  </tbody>\n",
              "</table>\n",
              "</div>"
            ],
            "text/plain": [
              "        total_votes     dem_votes      rep_votes   other_votes    dem_share\n",
              "count  3.153000e+03  3.153000e+03    3153.000000   3153.000000  3153.000000\n",
              "mean   4.171013e+04  2.206070e+04   19019.719632    582.779258    42.214653\n",
              "std    1.192757e+05  7.668304e+04   44604.561162   1834.898291    14.046978\n",
              "min    7.900000e+01  8.000000e+00      67.000000      0.000000     5.030000\n",
              "25%    5.015000e+03  1.832000e+03    2889.000000     71.000000    31.980000\n",
              "50%    1.086800e+04  4.434000e+03    6270.000000    171.000000    41.770000\n",
              "75%    2.856200e+04  1.209400e+04   15775.000000    434.000000    51.280000\n",
              "max    3.318248e+06  2.295853e+06  956425.000000  65970.000000    93.430000"
            ]
          },
          "metadata": {
            "tags": []
          },
          "execution_count": 35
        }
      ]
    },
    {
      "cell_type": "code",
      "metadata": {
        "colab": {
          "base_uri": "https://localhost:8080/"
        },
        "id": "60DEWhKu9Wfc",
        "outputId": "c1ab1128-64ff-41a2-98c6-0c79336e181b"
      },
      "source": [
        "df_all_state.info()"
      ],
      "execution_count": 36,
      "outputs": [
        {
          "output_type": "stream",
          "text": [
            "<class 'pandas.core.frame.DataFrame'>\n",
            "RangeIndex: 3153 entries, 0 to 3152\n",
            "Data columns (total 8 columns):\n",
            " #   Column       Non-Null Count  Dtype  \n",
            "---  ------       --------------  -----  \n",
            " 0   state        3153 non-null   object \n",
            " 1   county       3153 non-null   object \n",
            " 2   total_votes  3153 non-null   int64  \n",
            " 3   dem_votes    3153 non-null   int64  \n",
            " 4   rep_votes    3153 non-null   int64  \n",
            " 5   other_votes  3153 non-null   int64  \n",
            " 6   dem_share    3153 non-null   float64\n",
            " 7   east_west    3153 non-null   object \n",
            "dtypes: float64(1), int64(4), object(3)\n",
            "memory usage: 197.2+ KB\n"
          ],
          "name": "stdout"
        }
      ]
    },
    {
      "cell_type": "code",
      "metadata": {
        "colab": {
          "base_uri": "https://localhost:8080/"
        },
        "id": "2LviA__c9eeB",
        "outputId": "e0a46660-cd05-4555-e179-d89c993548c6"
      },
      "source": [
        "df_all_state.value_counts()"
      ],
      "execution_count": 37,
      "outputs": [
        {
          "output_type": "execute_result",
          "data": {
            "text/plain": [
              "state  county                             total_votes  dem_votes  rep_votes  other_votes  dem_share  east_west\n",
              "WY     Weston County                      3393         658        2618       117          20.08      west         1\n",
              "KY     Jackson County                     5224         743        4407       74           14.42      east         1\n",
              "       Hickman County                     2250         812        1406       32           36.61      east         1\n",
              "       Henry County                       6919         2725       4081       113          40.04      east         1\n",
              "       Henderson County                   19861        10049      9523       289          51.34      east         1\n",
              "                                                                                                                 ..\n",
              "OH     Lorain County                      146859       85276      59068      2515         59.10      east         1\n",
              "       Logan County                       22217        7936       13848      433          36.43      east         1\n",
              "       Licking County                     82356        33932      46918      1506         41.97      east         1\n",
              "       Lawrence County                    27194        11262      15415      517          42.20      east         1\n",
              "AK     State House District 1, Ketchikan  6970         2597       4149       224          38.50      west         1\n",
              "Length: 3153, dtype: int64"
            ]
          },
          "metadata": {
            "tags": []
          },
          "execution_count": 37
        }
      ]
    },
    {
      "cell_type": "code",
      "metadata": {
        "colab": {
          "base_uri": "https://localhost:8080/"
        },
        "id": "pFFdhOg_98Zq",
        "outputId": "aee33522-f87f-475a-ce7b-2079809a5202"
      },
      "source": [
        "df_all_state.state.unique()"
      ],
      "execution_count": 38,
      "outputs": [
        {
          "output_type": "execute_result",
          "data": {
            "text/plain": [
              "array(['AK', 'MN', 'WA', 'MT', 'ID', 'ND', 'MI', 'ME', 'WI', 'OR', 'SD',\n",
              "       'NH', 'VT', 'NY', 'WY', 'IA', 'NE', 'MA', 'IL', 'PA', 'CT', 'RI',\n",
              "       'CA', 'UT', 'NV', 'OH', 'IN', 'NJ', 'CO', 'WV', 'MO', 'KS', 'DE',\n",
              "       'MD', 'VA', 'KY', 'DC', 'AZ', 'OK', 'NM', 'TN', 'NC', 'TX', 'AR',\n",
              "       'SC', 'AL', 'GA', 'MS', 'LA', 'FL', 'HI'], dtype=object)"
            ]
          },
          "metadata": {
            "tags": []
          },
          "execution_count": 38
        }
      ]
    },
    {
      "cell_type": "code",
      "metadata": {
        "colab": {
          "base_uri": "https://localhost:8080/",
          "height": 455
        },
        "id": "mEnV3uli-TiZ",
        "outputId": "41ce4706-dfc1-4e58-9923-6e3a4beebae9"
      },
      "source": [
        "# Using ggplot style\r\n",
        "plt.style.use('ggplot')\r\n",
        "\r\n",
        "# figure size\r\n",
        "plt.figure(figsize=(15, 7), facecolor='lightgrey')\r\n",
        "\r\n",
        "df_all_state.state.value_counts().plot(kind='bar')"
      ],
      "execution_count": 39,
      "outputs": [
        {
          "output_type": "execute_result",
          "data": {
            "text/plain": [
              "<matplotlib.axes._subplots.AxesSubplot at 0x7fc8ccfb2080>"
            ]
          },
          "metadata": {
            "tags": []
          },
          "execution_count": 39
        },
        {
          "output_type": "display_data",
          "data": {
            "image/png": "[encoded data removed]",
            "text/plain": [
              "<Figure size 1080x504 with 1 Axes>"
            ]
          },
          "metadata": {
            "tags": []
          }
        }
      ]
    },
    {
      "cell_type": "code",
      "metadata": {
        "colab": {
          "base_uri": "https://localhost:8080/",
          "height": 387
        },
        "id": "TodFFyZW6g2r",
        "outputId": "371c9456-9047-49e1-d983-c24aacdd7c02"
      },
      "source": [
        "# Percentage vote count in all state\r\n",
        "all_vote_Count = df_all_state.total_votes.sum()\r\n",
        "all_dem_v = (df_all_state.dem_votes.sum()/all_vote_Count)*100\r\n",
        "all_rep_v = (df_all_state.rep_votes.sum()/all_vote_Count)*100\r\n",
        "\r\n",
        "# creating the dataset \r\n",
        "data = {'Democrat':all_dem_v, \r\n",
        "        'Republican':all_rep_v}\r\n",
        "\r\n",
        "keys = list(data.keys()) \r\n",
        "values = list(data.values()) \r\n",
        "\r\n",
        "# Set default Seaborn style\r\n",
        "sns.set()\r\n",
        "\r\n",
        "# set the plot size\r\n",
        "fig = plt.figure(figsize = (10, 5)) \r\n",
        "\r\n",
        "# creating the bar plot \r\n",
        "plt.bar(keys, values, color=['tab:blue', 'tab:red'], width = 0.5) \r\n",
        "  \r\n",
        "plt.xlabel(\"Political Party\") \r\n",
        "plt.ylabel(\"Votes Percent\")\r\n",
        "plt.title(\"Percent Vote Counts\") \r\n",
        "plt.show() \r\n",
        "\r\n",
        "# Vote Percent in 2008 election\r\n",
        "print('All State Vote Percantage of Democrat in 2008 is {0:.2f} percent'.format(all_dem_v))\r\n",
        "print('All State Vote Percantage of Republican in 2008 is {0:.2f} percent'.format(all_rep_v))"
      ],
      "execution_count": 40,
      "outputs": [
        {
          "output_type": "display_data",
          "data": {
            "image/png": "[encoded data removed]",
            "text/plain": [
              "<Figure size 720x360 with 1 Axes>"
            ]
          },
          "metadata": {
            "tags": []
          }
        },
        {
          "output_type": "stream",
          "text": [
            "All State Vote Percantage of Democrat in 2008 is 52.89 percent\n",
            "All State Vote Percantage of Republican in 2008 is 45.60 percent\n"
          ],
          "name": "stdout"
        }
      ]
    },
    {
      "cell_type": "code",
      "metadata": {
        "colab": {
          "base_uri": "https://localhost:8080/",
          "height": 447
        },
        "id": "2m_xi4tI4Iv7",
        "outputId": "13e24cdf-2b73-439a-862c-2f6681d87716"
      },
      "source": [
        "import matplotlib.pyplot as plt\r\n",
        "import seaborn as sns\r\n",
        "\r\n",
        "# Set default Seaborn style\r\n",
        "sns.set()\r\n",
        "\r\n",
        "# figure size\r\n",
        "plt.figure(figsize=(12, 7), facecolor='lightgrey')\r\n",
        "\r\n",
        "_ = sns.boxplot(x=df_all_state.east_west, y=df_all_state.dem_share, data=df_all_state)\r\n",
        "_ = plt.xlabel('region')\r\n",
        "_ = plt.ylabel('percent of vote for Obama')\r\n",
        "plt.show()"
      ],
      "execution_count": 41,
      "outputs": [
        {
          "output_type": "display_data",
          "data": {
            "image/png": "[encoded data removed]",
            "text/plain": [
              "<Figure size 864x504 with 1 Axes>"
            ]
          },
          "metadata": {
            "tags": []
          }
        }
      ]
    },
    {
      "cell_type": "code",
      "metadata": {
        "id": "avzwXqLm8yBG"
      },
      "source": [
        "# dataframe on the basis of east and west\r\n",
        "east = df_all_state.loc[df_all_state[\"east_west\"] == \"east\"]\r\n",
        "west = df_all_state.loc[df_all_state[\"east_west\"] == \"west\"]"
      ],
      "execution_count": 42,
      "outputs": []
    },
    {
      "cell_type": "code",
      "metadata": {
        "id": "fYLvjtDvAWa2",
        "colab": {
          "base_uri": "https://localhost:8080/",
          "height": 387
        },
        "outputId": "93256519-94bd-4618-d258-d67cdfba00a0"
      },
      "source": [
        "dem_east_share = (east.dem_share.sum()/df_all_state.dem_share.sum())*100\r\n",
        "dem_west_share = west.dem_share.sum()/df_all_state.dem_share.sum()*100\r\n",
        "\r\n",
        "# creating the dataset \r\n",
        "data = {'East':dem_east_share, \r\n",
        "        'West':dem_west_share}\r\n",
        "\r\n",
        "keys = list(data.keys()) \r\n",
        "values = list(data.values()) \r\n",
        "\r\n",
        "# Set default Seaborn style\r\n",
        "sns.set()\r\n",
        "\r\n",
        "# set the plot size\r\n",
        "fig = plt.figure(figsize = (10, 5)) \r\n",
        "\r\n",
        "# creating the bar plot \r\n",
        "plt.bar(keys, values, color=['tab:blue', 'tab:blue'], width = 0.5) \r\n",
        "  \r\n",
        "plt.xlabel(\"Democrates east_west Vote share Percentage\") \r\n",
        "plt.ylabel(\"Votes\")\r\n",
        "plt.title(\"Percent Vote Counts\") \r\n",
        "plt.show() \r\n",
        "\r\n",
        "# Vote Percent in 2008 election\r\n",
        "print('Democrate east vote share {0:.2f}'.format(dem_east_share))\r\n",
        "print('Democrate west vote share {0:.2f}'.format(dem_west_share))"
      ],
      "execution_count": 43,
      "outputs": [
        {
          "output_type": "display_data",
          "data": {
            "image/png": "[encoded data removed]",
            "text/plain": [
              "<Figure size 720x360 with 1 Axes>"
            ]
          },
          "metadata": {
            "tags": []
          }
        },
        {
          "output_type": "stream",
          "text": [
            "Democrate east vote share 54.83\n",
            "Democrate west vote share 45.17\n"
          ],
          "name": "stdout"
        }
      ]
    },
    {
      "cell_type": "markdown",
      "metadata": {
        "id": "MTmhekE99HTN"
      },
      "source": [
        "### **Covariance** and the **Pearson correlation coefficient**\r\n"
      ]
    },
    {
      "cell_type": "code",
      "metadata": {
        "colab": {
          "base_uri": "https://localhost:8080/",
          "height": 480
        },
        "id": "BvNXZqyo9HTc",
        "outputId": "3cd46400-52eb-4354-94aa-997d64edd7a7"
      },
      "source": [
        "# Total swing votes\r\n",
        "total_votes = df_all_state.total_votes\r\n",
        "\r\n",
        "# Democrates Share\r\n",
        "demcrats_share = df_all_state.dem_share\r\n",
        "\r\n",
        "print('mean total votes {0:.2f}'.format((total_votes/1000).mean()))\r\n",
        "print('mean percent for obama {0:.2f}'.format(demcrats_share.mean()))\r\n",
        "\r\n",
        "# Set default Seaborn style\r\n",
        "sns.set()\r\n",
        "\r\n",
        "# figure size\r\n",
        "plt.figure(figsize=(12, 7))\r\n",
        "\r\n",
        "# vertical mean line \r\n",
        "plt.axvline((total_votes/1000).mean(), color='red',\r\n",
        "            linestyle='dashed', linewidth=1,\r\n",
        "            label='mean total votes')\r\n",
        "\r\n",
        "# horizontal mean line\r\n",
        "plt.axhline(demcrats_share.mean(), color='k',\r\n",
        "            linestyle='dashed', linewidth=1,\r\n",
        "            label='mean percent for obama')\r\n",
        "# Plot\r\n",
        "_ = plt.plot(total_votes/1000, demcrats_share, marker='.', linestyle='none')\r\n",
        "_ = plt.xlabel('total votes (thousands)')\r\n",
        "_ = plt.ylabel('percent of vote for Obama in all state')\r\n",
        "_ = plt.legend()\r\n",
        "\r\n",
        "plt.show()"
      ],
      "execution_count": 44,
      "outputs": [
        {
          "output_type": "stream",
          "text": [
            "mean total votes 41.71\n",
            "mean percent for obama 42.21\n"
          ],
          "name": "stdout"
        },
        {
          "output_type": "display_data",
          "data": {
            "image/png": "[encoded data removed]",
            "text/plain": [
              "<Figure size 864x504 with 1 Axes>"
            ]
          },
          "metadata": {
            "tags": []
          }
        }
      ]
    },
    {
      "cell_type": "markdown",
      "metadata": {
        "id": "wjX38EMzylhW"
      },
      "source": [
        "\r\n",
        "## __Linear regression by least squares__"
      ]
    },
    {
      "cell_type": "markdown",
      "metadata": {
        "id": "0qkp7VyIdhtB"
      },
      "source": [
        "__Residuals:__ Vertical distance between the data point and the line is called Residuals.\r\n",
        "\r\n",
        "<p align='center'>\r\n",
        "    <a href='#'><img src='https://datacadamia.com/_media/data_mining/statistics_residual.jpg?w=500&tok=75fb38'></a>\r\n",
        "</p>\r\n",
        "\r\n",
        "The residual has a negative value because the data point lies below the line. Each data point has a residual associated with it."
      ]
    },
    {
      "cell_type": "markdown",
      "metadata": {
        "id": "G39KSH_XefCh"
      },
      "source": [
        "__Least squares:__\r\n",
        "\r\n",
        "We define the line that is closest to the data to be the line for which the sum of the squares of all of the residuals is **minimal**. This ***process, finding the parameters for which the sum of the squares of the residuals is minimal***, is called \"**least squares**\". There are many algorithms to do this in practice.\r\n",
        "\r\n",
        "There are many algorithms to do this in practice.\r\n",
        "for Example Numpy function - `np.polyfit()`. which performs ***least squares analysis*** with ***polynomial functions***.\r\n",
        "\r\n",
        ">**Polyfit function** that computes a least squares polynomial for a given set of data. Polyfit generates the coefficients of the polynomial, which can be used to model a curve to fit the data.\r\n",
        "\r\n",
        "We can use it because a ***linear function*** is a ***first degree polynomial***. \r\n",
        "\r\n",
        ">The **first** two arguments to this function are the `x` and `y` data. \r\n",
        "\r\n",
        ">The **third** argument is the **degree of the polynomial** ***we wish to fit***; for linear functions. \r\n",
        "\r\n",
        "The function returns the **slope** and **intercept** of the best **fit line**. ***The slope tells us that we get about 4 more percent votes for Obama for every 100,000 additional voters in a county***.\r\n",
        "\r\n"
      ]
    },
    {
      "cell_type": "code",
      "metadata": {
        "colab": {
          "base_uri": "https://localhost:8080/"
        },
        "id": "JO1p63mwh4b2",
        "outputId": "a55c8e20-23fc-415e-fdd4-7563da7502be"
      },
      "source": [
        "# Swing states \r\n",
        "import numpy as np\r\n",
        "\r\n",
        "slope, intercept = np.polyfit(df_swing.total_votes, df_swing.dem_share, 1)\r\n",
        "print(slope)\r\n",
        "print(intercept)"
      ],
      "execution_count": 45,
      "outputs": [
        {
          "output_type": "stream",
          "text": [
            "4.0370717009465616e-05\n",
            "40.11391196864175\n"
          ],
          "name": "stdout"
        }
      ]
    },
    {
      "cell_type": "code",
      "metadata": {
        "colab": {
          "base_uri": "https://localhost:8080/"
        },
        "id": "iqa7L91ai-xH",
        "outputId": "b60a3500-f3cd-4f77-dc5b-ae29b3bdf7c2"
      },
      "source": [
        "# All states\r\n",
        "slope, intercept = np.polyfit(df_all_state.total_votes, df_all_state.dem_share, 1)\r\n",
        "print(slope)\r\n",
        "print(intercept)"
      ],
      "execution_count": 46,
      "outputs": [
        {
          "output_type": "stream",
          "text": [
            "3.3705536864531573e-05\n",
            "40.808790535847685\n"
          ],
          "name": "stdout"
        }
      ]
    },
    {
      "cell_type": "code",
      "metadata": {
        "colab": {
          "base_uri": "https://localhost:8080/",
          "height": 496
        },
        "id": "dl2U1fWsXHfp",
        "outputId": "8d4a3eb3-393c-4eac-9f08-c292e8a989a6"
      },
      "source": [
        "# Total swing votes\r\n",
        "total_votes = df_all_state.total_votes\r\n",
        "\r\n",
        "# Democrates Share\r\n",
        "demcrats_share = df_all_state.dem_share\r\n",
        "\r\n",
        "# Set default Seaborn style\r\n",
        "plt.style.use('ggplot')\r\n",
        "\r\n",
        "# Plot the PDF and label axes\r\n",
        "plt.figure(figsize=(12,7), facecolor='lightgrey')\r\n",
        "\r\n",
        "# Plot\r\n",
        "_ = plt.plot(total_votes/1000, demcrats_share, marker='.', linestyle='none')\r\n",
        "_ = plt.xlabel('total votes (thousands)')\r\n",
        "_ = plt.ylabel('percent of vote for Obama in all state')\r\n",
        "_ = plt.legend()\r\n",
        "\r\n",
        "# Perform a linear regression using np.polyfit(): a, b\r\n",
        "a, b = np.polyfit(total_votes, demcrats_share, 1)\r\n",
        "\r\n",
        "# Print the results to the screen\r\n",
        "print('slope =', a )\r\n",
        "print('intercept =', b)\r\n",
        "\r\n",
        "# Make theoretical line to plot\r\n",
        "x = np.array([0, 1000])\r\n",
        "y = a * x + b\r\n",
        "\r\n",
        "# Add regression line to your plot\r\n",
        "_ = plt.plot(x, y)\r\n",
        "\r\n",
        "# Draw the plot\r\n",
        "plt.show()"
      ],
      "execution_count": 47,
      "outputs": [
        {
          "output_type": "stream",
          "text": [
            "No handles with labels found to put in legend.\n"
          ],
          "name": "stderr"
        },
        {
          "output_type": "stream",
          "text": [
            "slope = 3.3705536864531573e-05\n",
            "intercept = 40.808790535847685\n"
          ],
          "name": "stdout"
        },
        {
          "output_type": "display_data",
          "data": {
            "image/png": "[encoded data removed]",
            "text/plain": [
              "<Figure size 864x504 with 1 Axes>"
            ]
          },
          "metadata": {
            "tags": []
          }
        }
      ]
    },
    {
      "cell_type": "markdown",
      "metadata": {
        "id": "YqcovUH52G4d"
      },
      "source": [
        "<p align='center'> \r\n",
        "    <a href=\"https://twitter.com/F4izy\"> \r\n",
        "        <img src=\"https://th.bing.com/th/id/OIP.FCKMemzqNplY37Jwi0Yk3AHaGl?w=233&h=207&c=7&o=5&pid=1.7\" width=50px \r\n",
        "            height=50px> \r\n",
        "    </a> \r\n",
        "    <a href=\"https://www.linkedin.com/in/mohd-faizy/\"> \r\n",
        "        <img src='https://th.bing.com/th/id/OIP.idrBN-LfvMIZl370Vb65SgHaHa?pid=Api&rs=1' width=50px height=50px> \r\n",
        "    </a> \r\n",
        "</p>"
      ]
    }
  ]
}