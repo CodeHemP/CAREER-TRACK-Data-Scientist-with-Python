{
  "nbformat": 4,
  "nbformat_minor": 0,
  "metadata": {
    "colab": {
      "name": "01_Graphical_EDA_US_ElectionData.ipynb",
      "provenance": [],
      "collapsed_sections": [],
      "toc_visible": true,
      "authorship_tag": "ABX9TyM8funje6JxutfvgomQplA9",
      "include_colab_link": true
    },
    "kernelspec": {
      "name": "python3",
      "display_name": "Python 3"
    }
  },
  "cells": [
    {
      "cell_type": "markdown",
      "metadata": {
        "id": "view-in-github",
        "colab_type": "text"
      },
      "source": [
        "<a href=\"https://colab.research.google.com/github/mohd-faizy/CAREER-TRACK-Data-Scientist-with-Python/blob/main/01_Graphical_EDA_US_ElectionData.ipynb\" target=\"_parent\"><img src=\"https://colab.research.google.com/assets/colab-badge.svg\" alt=\"Open In Colab\"/></a>"
      ]
    },
    {
      "cell_type": "markdown",
      "metadata": {
        "id": "NWS4JRT4korI"
      },
      "source": [
        "--- \r\n",
        "<strong> \r\n",
        "    <h1 align='center'>Graphical EDA  [2008 US swing state election result]\r\n",
        "</h1> \r\n",
        "</strong>\r\n",
        "\r\n",
        "---"
      ]
    },
    {
      "cell_type": "markdown",
      "metadata": {
        "id": "KlbjMtqrh-XB"
      },
      "source": [
        "<p align='center'>\r\n",
        "  <a href=\"#\">\r\n",
        "    <img src='https://www.270towin.com/historical-presidential-elections/timeline/margin-of-victory/maps/2008_mov.png'>\r\n",
        "  </a>\r\n",
        "</p>\r\n"
      ]
    },
    {
      "cell_type": "markdown",
      "metadata": {
        "id": "2W8KWj6GyJWI"
      },
      "source": [
        "--- \r\n",
        "<strong> \r\n",
        "    <h1 align='center'>Swing State</h1> \r\n",
        "</strong>\r\n",
        "\r\n",
        "---"
      ]
    },
    {
      "cell_type": "markdown",
      "metadata": {
        "id": "DdViaFttkitC"
      },
      "source": [
        "__Clone the repository__ "
      ]
    },
    {
      "cell_type": "code",
      "metadata": {
        "colab": {
          "base_uri": "https://localhost:8080/"
        },
        "id": "zDL6YbYZjfOT",
        "outputId": "a48a0b27-c205-432d-900d-927c45d98644"
      },
      "source": [
        "! git clone https://github.com/mohd-faizy/CAREER-TRACK-Data-Scientist-with-Python.git"
      ],
      "execution_count": 1,
      "outputs": [
        {
          "output_type": "stream",
          "text": [
            "Cloning into 'CAREER-TRACK-Data-Scientist-with-Python'...\n",
            "remote: Enumerating objects: 41, done.\u001b[K\n",
            "remote: Counting objects: 100% (41/41), done.\u001b[K\n",
            "remote: Compressing objects: 100% (32/32), done.\u001b[K\n",
            "remote: Total 1898 (delta 19), reused 28 (delta 9), pack-reused 1857\u001b[K\n",
            "Receiving objects: 100% (1898/1898), 200.33 MiB | 20.78 MiB/s, done.\n",
            "Resolving deltas: 100% (671/671), done.\n",
            "Checking out files: 100% (821/821), done.\n"
          ],
          "name": "stdout"
        }
      ]
    },
    {
      "cell_type": "markdown",
      "metadata": {
        "id": "eZqCdlEZk5bc"
      },
      "source": [
        "__Change the current working directory__"
      ]
    },
    {
      "cell_type": "code",
      "metadata": {
        "colab": {
          "base_uri": "https://localhost:8080/"
        },
        "id": "4v_cclBnknUF",
        "outputId": "2bc41ff8-9dd9-4585-85d2-7f1cb16c7a9d"
      },
      "source": [
        "# import os module \r\n",
        "import os \r\n",
        "   \r\n",
        "# to specified path \r\n",
        "os.chdir('/content/CAREER-TRACK-Data-Scientist-with-Python/22_Statistical-Thinking-in-Python-[Part -1]/_datasets') \r\n",
        "  \r\n",
        "# varify the path using getcwd() \r\n",
        "cwd = os.getcwd() \r\n",
        "  \r\n",
        "# print the current directory \r\n",
        "print(\"Current working directory is:\", cwd)"
      ],
      "execution_count": 2,
      "outputs": [
        {
          "output_type": "stream",
          "text": [
            "Current working directory is: /content/CAREER-TRACK-Data-Scientist-with-Python/22_Statistical-Thinking-in-Python-[Part -1]/_datasets\n"
          ],
          "name": "stdout"
        }
      ]
    },
    {
      "cell_type": "code",
      "metadata": {
        "colab": {
          "base_uri": "https://localhost:8080/"
        },
        "id": "q4eEcmDTmBQ1",
        "outputId": "4efc5a5b-b187-41ce-c5f4-77f2b6ce0e65"
      },
      "source": [
        "ls"
      ],
      "execution_count": 3,
      "outputs": [
        {
          "output_type": "stream",
          "text": [
            "2008_all_states.csv    belmont.csv  michelson_speed_of_light.csv\n",
            "2008_swing_states.csv  iris.csv\n"
          ],
          "name": "stdout"
        }
      ]
    },
    {
      "cell_type": "markdown",
      "metadata": {
        "id": "i_4mS4DioUjl"
      },
      "source": [
        "## __Exploratory data analysis (EDA)__\r\n",
        "\r\n",
        "__John Tukey's Comments on EDA -:__ \"Often times **EDA** is too time consuming, so it is better to jump right in and do our **hypothesis** tests.\"\r\n",
        "\r\n",
        "That statement is pretty absurd. If we don't have time to do EDA, we really don't have time to do **hypothesis** tests. And we should always do **EDA first**.\r\n",
        "\r\n",
        "__“Exploratory data analysis can never be the whole story, but nothing else can serve as the foundation stone.”__ — _John Tukey_\r\n",
        "\r\n",
        "<p align='center'>\r\n",
        "  <a href=\"#\">\r\n",
        "    <img src='https://miro.medium.com/max/900/1*vJULpN2xQfyVsvTVW-JSkA.png'>\r\n",
        "  </a>\r\n",
        "</p>\r\n",
        "\r\n"
      ]
    },
    {
      "cell_type": "code",
      "metadata": {
        "id": "D17PgJmo1CfU"
      },
      "source": [
        "# importing the libraries\r\n",
        "import numpy as np\r\n",
        "import pandas as pd\r\n",
        "import matplotlib.pyplot as plt\r\n",
        "import seaborn as sns"
      ],
      "execution_count": 4,
      "outputs": []
    },
    {
      "cell_type": "code",
      "metadata": {
        "colab": {
          "base_uri": "https://localhost:8080/",
          "height": 197
        },
        "id": "75l5rQVus0jp",
        "outputId": "145e7451-9d03-41f5-b0e6-365e52024a5e"
      },
      "source": [
        "# Reading the dataframe in Pandas\r\n",
        "df_swing = pd.read_csv('2008_swing_states.csv')\r\n",
        "df_swing.head()"
      ],
      "execution_count": 5,
      "outputs": [
        {
          "output_type": "execute_result",
          "data": {
            "text/html": [
              "<div>\n",
              "<style scoped>\n",
              "    .dataframe tbody tr th:only-of-type {\n",
              "        vertical-align: middle;\n",
              "    }\n",
              "\n",
              "    .dataframe tbody tr th {\n",
              "        vertical-align: top;\n",
              "    }\n",
              "\n",
              "    .dataframe thead th {\n",
              "        text-align: right;\n",
              "    }\n",
              "</style>\n",
              "<table border=\"1\" class=\"dataframe\">\n",
              "  <thead>\n",
              "    <tr style=\"text-align: right;\">\n",
              "      <th></th>\n",
              "      <th>state</th>\n",
              "      <th>county</th>\n",
              "      <th>total_votes</th>\n",
              "      <th>dem_votes</th>\n",
              "      <th>rep_votes</th>\n",
              "      <th>dem_share</th>\n",
              "    </tr>\n",
              "  </thead>\n",
              "  <tbody>\n",
              "    <tr>\n",
              "      <th>0</th>\n",
              "      <td>PA</td>\n",
              "      <td>Erie County</td>\n",
              "      <td>127691</td>\n",
              "      <td>75775</td>\n",
              "      <td>50351</td>\n",
              "      <td>60.08</td>\n",
              "    </tr>\n",
              "    <tr>\n",
              "      <th>1</th>\n",
              "      <td>PA</td>\n",
              "      <td>Bradford County</td>\n",
              "      <td>25787</td>\n",
              "      <td>10306</td>\n",
              "      <td>15057</td>\n",
              "      <td>40.64</td>\n",
              "    </tr>\n",
              "    <tr>\n",
              "      <th>2</th>\n",
              "      <td>PA</td>\n",
              "      <td>Tioga County</td>\n",
              "      <td>17984</td>\n",
              "      <td>6390</td>\n",
              "      <td>11326</td>\n",
              "      <td>36.07</td>\n",
              "    </tr>\n",
              "    <tr>\n",
              "      <th>3</th>\n",
              "      <td>PA</td>\n",
              "      <td>McKean County</td>\n",
              "      <td>15947</td>\n",
              "      <td>6465</td>\n",
              "      <td>9224</td>\n",
              "      <td>41.21</td>\n",
              "    </tr>\n",
              "    <tr>\n",
              "      <th>4</th>\n",
              "      <td>PA</td>\n",
              "      <td>Potter County</td>\n",
              "      <td>7507</td>\n",
              "      <td>2300</td>\n",
              "      <td>5109</td>\n",
              "      <td>31.04</td>\n",
              "    </tr>\n",
              "  </tbody>\n",
              "</table>\n",
              "</div>"
            ],
            "text/plain": [
              "  state           county  total_votes  dem_votes  rep_votes  dem_share\n",
              "0    PA      Erie County       127691      75775      50351      60.08\n",
              "1    PA  Bradford County        25787      10306      15057      40.64\n",
              "2    PA     Tioga County        17984       6390      11326      36.07\n",
              "3    PA    McKean County        15947       6465       9224      41.21\n",
              "4    PA    Potter County         7507       2300       5109      31.04"
            ]
          },
          "metadata": {
            "tags": []
          },
          "execution_count": 5
        }
      ]
    },
    {
      "cell_type": "code",
      "metadata": {
        "colab": {
          "base_uri": "https://localhost:8080/"
        },
        "id": "lAXtxF-_wOWh",
        "outputId": "813dcd10-af6f-4c69-963a-3f0fd6fa9029"
      },
      "source": [
        "print('Total Democrat votes {}'.format(df_swing.dem_votes.sum()))\r\n",
        "print('Total Republican votes {}'.format(df_swing.rep_votes.sum()))"
      ],
      "execution_count": 6,
      "outputs": [
        {
          "output_type": "stream",
          "text": [
            "Total Democrat votes 10481571\n",
            "Total Republican votes 9376518\n"
          ],
          "name": "stdout"
        }
      ]
    },
    {
      "cell_type": "code",
      "metadata": {
        "colab": {
          "base_uri": "https://localhost:8080/",
          "height": 390
        },
        "id": "Poi4d-DMzl3E",
        "outputId": "f587adcb-d28b-4831-e2b8-ae11f5b1f3c6"
      },
      "source": [
        "# Percentage vote count Swing state\r\n",
        "tvc = df_swing.total_votes.sum()\r\n",
        "tdv = (df_swing.dem_votes.sum()/tvc)*100\r\n",
        "trv = (df_swing.rep_votes.sum()/tvc)*100\r\n",
        "\r\n",
        "# creating the dataset \r\n",
        "data = {'Democrat':tdv, \r\n",
        "        'Republican':trv}\r\n",
        "\r\n",
        "keys = list(data.keys()) \r\n",
        "values = list(data.values()) \r\n",
        "\r\n",
        "# Set default Seaborn style\r\n",
        "sns.set()\r\n",
        "\r\n",
        "# set the plot size\r\n",
        "fig = plt.figure(figsize = (10, 5)) \r\n",
        "\r\n",
        "# creating the bar plot \r\n",
        "plt.bar(keys, values, color=['tab:blue', 'tab:red'], width = 0.5) \r\n",
        "  \r\n",
        "plt.xlabel(\"Political Party\") \r\n",
        "plt.ylabel(\"Votes Percent\")\r\n",
        "plt.title(\"Percent Vote Counts\") \r\n",
        "plt.show() \r\n",
        "\r\n",
        "# Vote Percent in 2008 election\r\n",
        "print('Total Vote Percantage of Democrat in 2008 is {0:.2f} percent'.format(tdv))\r\n",
        "print('Total Vote Percantage of Republican in 2008 is {0:.2f} percent'.format(trv))"
      ],
      "execution_count": 7,
      "outputs": [
        {
          "output_type": "display_data",
          "data": {
            "image/png": "[encoded data removed]",
            "text/plain": [
              "<Figure size 720x360 with 1 Axes>"
            ]
          },
          "metadata": {
            "tags": []
          }
        },
        {
          "output_type": "stream",
          "text": [
            "Total Vote Percantage of Democrat in 2008 is 52.21 percent\n",
            "Total Vote Percantage of Republican in 2008 is 46.71 percent\n"
          ],
          "name": "stdout"
        }
      ]
    },
    {
      "cell_type": "code",
      "metadata": {
        "colab": {
          "base_uri": "https://localhost:8080/"
        },
        "id": "Xr43iyNMf0vi",
        "outputId": "528952ce-d23c-41cc-c871-2e038985383f"
      },
      "source": [
        "df_swing.isna().sum()"
      ],
      "execution_count": 8,
      "outputs": [
        {
          "output_type": "execute_result",
          "data": {
            "text/plain": [
              "state          0\n",
              "county         0\n",
              "total_votes    0\n",
              "dem_votes      0\n",
              "rep_votes      0\n",
              "dem_share      0\n",
              "dtype: int64"
            ]
          },
          "metadata": {
            "tags": []
          },
          "execution_count": 8
        }
      ]
    },
    {
      "cell_type": "code",
      "metadata": {
        "colab": {
          "base_uri": "https://localhost:8080/"
        },
        "id": "gZoCcF_NaFt4",
        "outputId": "64a4d97d-57f6-402b-c41f-083ef6db22d6"
      },
      "source": [
        "print(df_swing.columns )\r\n",
        "print(df_swing.state.value_counts())\r\n",
        "print(df_swing.shape)"
      ],
      "execution_count": 9,
      "outputs": [
        {
          "output_type": "stream",
          "text": [
            "Index(['state', 'county', 'total_votes', 'dem_votes', 'rep_votes',\n",
            "       'dem_share'],\n",
            "      dtype='object')\n",
            "OH    88\n",
            "FL    67\n",
            "PA    67\n",
            "Name: state, dtype: int64\n",
            "(222, 6)\n"
          ],
          "name": "stdout"
        }
      ]
    },
    {
      "cell_type": "code",
      "metadata": {
        "colab": {
          "base_uri": "https://localhost:8080/",
          "height": 287
        },
        "id": "OoUv3iiUgQOj",
        "outputId": "6c29fc21-d9d5-45d2-b634-5781a90acce7"
      },
      "source": [
        "df_swing.describe()"
      ],
      "execution_count": 10,
      "outputs": [
        {
          "output_type": "execute_result",
          "data": {
            "text/html": [
              "<div>\n",
              "<style scoped>\n",
              "    .dataframe tbody tr th:only-of-type {\n",
              "        vertical-align: middle;\n",
              "    }\n",
              "\n",
              "    .dataframe tbody tr th {\n",
              "        vertical-align: top;\n",
              "    }\n",
              "\n",
              "    .dataframe thead th {\n",
              "        text-align: right;\n",
              "    }\n",
              "</style>\n",
              "<table border=\"1\" class=\"dataframe\">\n",
              "  <thead>\n",
              "    <tr style=\"text-align: right;\">\n",
              "      <th></th>\n",
              "      <th>total_votes</th>\n",
              "      <th>dem_votes</th>\n",
              "      <th>rep_votes</th>\n",
              "      <th>dem_share</th>\n",
              "    </tr>\n",
              "  </thead>\n",
              "  <tbody>\n",
              "    <tr>\n",
              "      <th>count</th>\n",
              "      <td>222.000000</td>\n",
              "      <td>222.000000</td>\n",
              "      <td>222.000000</td>\n",
              "      <td>222.000000</td>\n",
              "    </tr>\n",
              "    <tr>\n",
              "      <th>mean</th>\n",
              "      <td>90424.513514</td>\n",
              "      <td>47214.283784</td>\n",
              "      <td>42236.567568</td>\n",
              "      <td>43.764414</td>\n",
              "    </tr>\n",
              "    <tr>\n",
              "      <th>std</th>\n",
              "      <td>142285.290653</td>\n",
              "      <td>88913.077046</td>\n",
              "      <td>56208.862490</td>\n",
              "      <td>10.712770</td>\n",
              "    </tr>\n",
              "    <tr>\n",
              "      <th>min</th>\n",
              "      <td>2245.000000</td>\n",
              "      <td>642.000000</td>\n",
              "      <td>1323.000000</td>\n",
              "      <td>6.800000</td>\n",
              "    </tr>\n",
              "    <tr>\n",
              "      <th>25%</th>\n",
              "      <td>16537.250000</td>\n",
              "      <td>6337.500000</td>\n",
              "      <td>9203.750000</td>\n",
              "      <td>37.302500</td>\n",
              "    </tr>\n",
              "    <tr>\n",
              "      <th>50%</th>\n",
              "      <td>32491.000000</td>\n",
              "      <td>14392.000000</td>\n",
              "      <td>18050.500000</td>\n",
              "      <td>43.185000</td>\n",
              "    </tr>\n",
              "    <tr>\n",
              "      <th>75%</th>\n",
              "      <td>95516.750000</td>\n",
              "      <td>41623.000000</td>\n",
              "      <td>50651.750000</td>\n",
              "      <td>49.925000</td>\n",
              "    </tr>\n",
              "    <tr>\n",
              "      <th>max</th>\n",
              "      <td>863486.000000</td>\n",
              "      <td>595980.000000</td>\n",
              "      <td>360551.000000</td>\n",
              "      <td>83.560000</td>\n",
              "    </tr>\n",
              "  </tbody>\n",
              "</table>\n",
              "</div>"
            ],
            "text/plain": [
              "         total_votes      dem_votes      rep_votes   dem_share\n",
              "count     222.000000     222.000000     222.000000  222.000000\n",
              "mean    90424.513514   47214.283784   42236.567568   43.764414\n",
              "std    142285.290653   88913.077046   56208.862490   10.712770\n",
              "min      2245.000000     642.000000    1323.000000    6.800000\n",
              "25%     16537.250000    6337.500000    9203.750000   37.302500\n",
              "50%     32491.000000   14392.000000   18050.500000   43.185000\n",
              "75%     95516.750000   41623.000000   50651.750000   49.925000\n",
              "max    863486.000000  595980.000000  360551.000000   83.560000"
            ]
          },
          "metadata": {
            "tags": []
          },
          "execution_count": 10
        }
      ]
    },
    {
      "cell_type": "code",
      "metadata": {
        "colab": {
          "base_uri": "https://localhost:8080/",
          "height": 197
        },
        "id": "_BN6SboqOGLa",
        "outputId": "51153949-5510-40ab-c259-87cde9cf2048"
      },
      "source": [
        "# Democratic share\r\n",
        "df_swing[['state', 'county', 'dem_share']].head()"
      ],
      "execution_count": 11,
      "outputs": [
        {
          "output_type": "execute_result",
          "data": {
            "text/html": [
              "<div>\n",
              "<style scoped>\n",
              "    .dataframe tbody tr th:only-of-type {\n",
              "        vertical-align: middle;\n",
              "    }\n",
              "\n",
              "    .dataframe tbody tr th {\n",
              "        vertical-align: top;\n",
              "    }\n",
              "\n",
              "    .dataframe thead th {\n",
              "        text-align: right;\n",
              "    }\n",
              "</style>\n",
              "<table border=\"1\" class=\"dataframe\">\n",
              "  <thead>\n",
              "    <tr style=\"text-align: right;\">\n",
              "      <th></th>\n",
              "      <th>state</th>\n",
              "      <th>county</th>\n",
              "      <th>dem_share</th>\n",
              "    </tr>\n",
              "  </thead>\n",
              "  <tbody>\n",
              "    <tr>\n",
              "      <th>0</th>\n",
              "      <td>PA</td>\n",
              "      <td>Erie County</td>\n",
              "      <td>60.08</td>\n",
              "    </tr>\n",
              "    <tr>\n",
              "      <th>1</th>\n",
              "      <td>PA</td>\n",
              "      <td>Bradford County</td>\n",
              "      <td>40.64</td>\n",
              "    </tr>\n",
              "    <tr>\n",
              "      <th>2</th>\n",
              "      <td>PA</td>\n",
              "      <td>Tioga County</td>\n",
              "      <td>36.07</td>\n",
              "    </tr>\n",
              "    <tr>\n",
              "      <th>3</th>\n",
              "      <td>PA</td>\n",
              "      <td>McKean County</td>\n",
              "      <td>41.21</td>\n",
              "    </tr>\n",
              "    <tr>\n",
              "      <th>4</th>\n",
              "      <td>PA</td>\n",
              "      <td>Potter County</td>\n",
              "      <td>31.04</td>\n",
              "    </tr>\n",
              "  </tbody>\n",
              "</table>\n",
              "</div>"
            ],
            "text/plain": [
              "  state           county  dem_share\n",
              "0    PA      Erie County      60.08\n",
              "1    PA  Bradford County      40.64\n",
              "2    PA     Tioga County      36.07\n",
              "3    PA    McKean County      41.21\n",
              "4    PA    Potter County      31.04"
            ]
          },
          "metadata": {
            "tags": []
          },
          "execution_count": 11
        }
      ]
    },
    {
      "cell_type": "markdown",
      "metadata": {
        "id": "AwDPGpbuhc2P"
      },
      "source": [
        "## __Histograms__"
      ]
    },
    {
      "cell_type": "code",
      "metadata": {
        "colab": {
          "base_uri": "https://localhost:8080/",
          "height": 284
        },
        "id": "VS_MhbJ903QV",
        "outputId": "9e66a7c7-0b61-4d79-e773-ff7a0939efac"
      },
      "source": [
        "sns.set()\r\n",
        "_ = plt.hist(df_swing['dem_share'])\r\n",
        "_ = plt.xlabel('percent of vote for Obama')\r\n",
        "_ = plt.ylabel('number of counties')\r\n",
        "\r\n",
        "plt.show()"
      ],
      "execution_count": 12,
      "outputs": [
        {
          "output_type": "display_data",
          "data": {
            "image/png": "[encoded data removed]",
            "text/plain": [
              "<Figure size 432x288 with 1 Axes>"
            ]
          },
          "metadata": {
            "tags": []
          }
        }
      ]
    },
    {
      "cell_type": "code",
      "metadata": {
        "colab": {
          "base_uri": "https://localhost:8080/",
          "height": 284
        },
        "id": "-Y-gT0s61lY-",
        "outputId": "54429f31-c470-4700-acf2-ebb5eef1c474"
      },
      "source": [
        "# Set default Seaborn style\r\n",
        "sns.set()\r\n",
        "\r\n",
        "# Histograms with different binning\r\n",
        "_ = plt.hist(df_swing['dem_share'], bins=20)\r\n",
        "_ = plt.xlabel('percent of vote for Obama')\r\n",
        "_ = plt.ylabel('number of counties')\r\n",
        "plt.show()"
      ],
      "execution_count": 13,
      "outputs": [
        {
          "output_type": "display_data",
          "data": {
            "image/png": "[encoded data removed]",
            "text/plain": [
              "<Figure size 432x288 with 1 Axes>"
            ]
          },
          "metadata": {
            "tags": []
          }
        }
      ]
    },
    {
      "cell_type": "code",
      "metadata": {
        "colab": {
          "base_uri": "https://localhost:8080/",
          "height": 284
        },
        "id": "oiu_RKhW0LGA",
        "outputId": "e9e179d5-26c4-4fbd-f1d3-8faffaeb54ae"
      },
      "source": [
        "bin_edges = [0, 10, 20, 30, 40, 50,\r\n",
        "60, 70, 80, 90, 100]\r\n",
        "\r\n",
        "sns.set()\r\n",
        "_ = plt.hist(df_swing['dem_share'], bins=bin_edges)\r\n",
        "_ = plt.xlabel('percent of vote for Obama')\r\n",
        "_ = plt.ylabel('number of counties')\r\n",
        "\r\n",
        "\r\n",
        "plt.show()"
      ],
      "execution_count": 14,
      "outputs": [
        {
          "output_type": "display_data",
          "data": {
            "image/png": "[encoded data removed]",
            "text/plain": [
              "<Figure size 432x288 with 1 Axes>"
            ]
          },
          "metadata": {
            "tags": []
          }
        }
      ]
    },
    {
      "cell_type": "code",
      "metadata": {
        "colab": {
          "base_uri": "https://localhost:8080/",
          "height": 447
        },
        "id": "7Nb2cWQMbF7_",
        "outputId": "adb04dbd-e187-4d14-d316-199f17e87520"
      },
      "source": [
        "# display records only with states\r\n",
        "ohio = df_swing.loc[df_swing[\"state\"] == \"OH\"]\r\n",
        "penn = df_swing.loc[df_swing[\"state\"] == \"PA\"]\r\n",
        "florida = df_swing.loc[df_swing[\"state\"] == \"FL\"]\r\n",
        "\r\n",
        "oh = ohio['dem_share']\r\n",
        "pa = penn['dem_share']\r\n",
        "fl = florida['dem_share']\r\n",
        "\r\n",
        "# Set default Seaborn style\r\n",
        "sns.set()\r\n",
        "\r\n",
        "plt.figure(figsize=(12, 7))\r\n",
        "\r\n",
        "# Histograms with different binning\r\n",
        "plt.hist(oh, label='OH', alpha = 0.7)\r\n",
        "plt.hist(pa, label='PA', alpha = 0.6)\r\n",
        "plt.hist(fl, label='FL', alpha = 0.4)\r\n",
        "plt.xlabel('percent of vote for Obama')\r\n",
        "plt.ylabel('number of counties')\r\n",
        "plt.legend()\r\n",
        "plt.show()"
      ],
      "execution_count": 15,
      "outputs": [
        {
          "output_type": "display_data",
          "data": {
            "image/png": "[encoded data removed]",
            "text/plain": [
              "<Figure size 864x504 with 1 Axes>"
            ]
          },
          "metadata": {
            "tags": []
          }
        }
      ]
    },
    {
      "cell_type": "markdown",
      "metadata": {
        "id": "8a8MtS9-hUrn"
      },
      "source": [
        "## __Swarm Plot__"
      ]
    },
    {
      "cell_type": "markdown",
      "metadata": {
        "id": "w1J8UT15OnnE"
      },
      "source": [
        "$\\color{red}{\\textbf{Note:}}$ \r\n",
        "\r\n",
        "The **same data set can look different depending on how the bins are chosen**. And choice of bins is in many ways arbitrary. This leads to **Binning bias**\r\n",
        "that is we might interpret our plot differently for two different choices of bin number.\r\n",
        "\r\n",
        ">An **additional problem with histograms** is that we are not plotting all of the data. We are sweeping the data into bins, and losing their actual values.\r\n",
        "\r\n",
        "To remedy these problems we can make a bee swarm plot, also called a **swarm plot**. "
      ]
    },
    {
      "cell_type": "markdown",
      "metadata": {
        "id": "rG1XIa_MR7-l"
      },
      "source": [
        "In the IPython Shell, you can use `sns.swarmplot`? or help(`sns.swarmplot`) for more details on how to make bee swarm plots using seaborn."
      ]
    },
    {
      "cell_type": "code",
      "metadata": {
        "colab": {
          "base_uri": "https://localhost:8080/",
          "height": 447
        },
        "id": "mvW4wsAySJ-a",
        "outputId": "61d90d9b-fc10-465e-a7be-b44572b5850c"
      },
      "source": [
        "plt.figure(figsize=(12, 7))\r\n",
        "\r\n",
        "# Create bee swarm plot with Seaborn's default settings\r\n",
        "_ = sns.swarmplot(x='state', y='dem_share', data=df_swing)\r\n",
        "\r\n",
        "# Label the axes\r\n",
        "_ = plt.xlabel('state')\r\n",
        "_ = plt.ylabel('percent of vote for Obama')\r\n",
        "\r\n",
        "# Show the plot\r\n",
        "plt.show()"
      ],
      "execution_count": 16,
      "outputs": [
        {
          "output_type": "display_data",
          "data": {
            "image/png": "[encoded data removed]",
            "text/plain": [
              "<Figure size 864x504 with 1 Axes>"
            ]
          },
          "metadata": {
            "tags": []
          }
        }
      ]
    },
    {
      "cell_type": "markdown",
      "metadata": {
        "id": "hN7KIknpU_fq"
      },
      "source": [
        "## __Empirical cumulative distribution function (ECDF)__"
      ]
    },
    {
      "cell_type": "markdown",
      "metadata": {
        "id": "pV2vXfWAU80J"
      },
      "source": [
        "The **bee swarm** plot has a r**eal problem**. the **edges have overlapping data points**, which was necessary in order to fit all points onto the plot.\r\n",
        "\r\n",
        "We are now obfuscating data. So, using a bee **swarm plot** here is **not** the best option. As an alternative, **Empirical cumulative distribution function (ECDF).**\r\n",
        "\r\n",
        "Sometimes the **observations** in a collected data sample **do not fit** any known **probability distribution** and cannot be easily forced into an existing distribution by __data transforms__ or __parameterization__ of the distribution function.Instead, an __Empirical probability distribution__ must be used.\r\n",
        "\r\n",
        "---\r\n",
        "There are __two main types of probability distribution functions__ we may need to sample; they are:\r\n",
        "\r\n",
        "- __Probability Density Function (PDF)__\r\n",
        "    - The __PDF__ returns the expected probability for observing a value. For __discrete data__, the __PDF__ is referred to as a __Probability Mass Function (PMF)__.\r\n",
        "- __Cumulative Distribution Function (CDF)__\r\n",
        "    - The __CDF__ returns the expected probability for observing a value __less than or equal to a given value.\r\n",
        "---\r\n",
        "An __Empirical probability density function__ can be __fit__ and used for a data sampling using a __Non-Parametric density estimation__ method, such as __Kernel Density Estimation (KDE)__.\r\n",
        "\r\n",
        ">__kernel density estimation ( KDE)__ is a __non-parametric__ way to estimate the __Probability Density Function__ of a random variable. Kernel density estimation is a fundamental __Data Smoothing__ problem where inferences about the population are made, based on a __finite data sample__.\r\n",
        "\r\n",
        "\r\n",
        ">An **ECDF** is an estimator of the **Cumulative Distribution Function**. The ECDF essentially allows you to plot a feature of our data in order from *least to greatest and see the whole feature as if is distributed across the data set*.\r\n",
        "\r\n",
        "The **EDF is calculated** by ordering all of the **unique observations** in the data sample and calculating the **Cumulative probability** for each as the number of observations less than or equal to a given observation divided by the total number of observations.\r\n",
        "\r\n"
      ]
    },
    {
      "cell_type": "markdown",
      "metadata": {
        "id": "Jqzx381MXyIn"
      },
      "source": [
        "### __CDF vs ECDF__\r\n",
        "\r\n",
        "**CDF** is a **hypothetical model** of a distribution, the **ECDF models** empirical (i.e. **observed**) data. To put this another way, the ECDF is the **probability distribution** you would get if you sampled from your sample, instead of the population."
      ]
    },
    {
      "cell_type": "code",
      "metadata": {
        "colab": {
          "base_uri": "https://localhost:8080/",
          "height": 447
        },
        "id": "o_YZWSiQc_cq",
        "outputId": "c07457a8-b5a7-4bc2-ae0d-ce8a46786322"
      },
      "source": [
        "# 2008 US swing state election ECDF\r\n",
        "import numpy as np\r\n",
        "\r\n",
        "#ECDF\r\n",
        "x = np.sort(df_swing['dem_share'])\r\n",
        "y = np.arange(1, len(x)+1) / len(x)\r\n",
        "\r\n",
        "plt.figure(figsize=(12, 7))\r\n",
        "\r\n",
        "# Ploting ECDF\r\n",
        "_ = plt.plot(x, y, marker='.', linestyle='none')\r\n",
        "_ = plt.xlabel('percent of vote for Obama')\r\n",
        "_ = plt.ylabel('ECDF')\r\n",
        "plt.margins(0.02) # Keeps data off plot edges\r\n",
        "plt.show()"
      ],
      "execution_count": 17,
      "outputs": [
        {
          "output_type": "display_data",
          "data": {
            "image/png": "[encoded data removed]",
            "text/plain": [
              "<Figure size 864x504 with 1 Axes>"
            ]
          },
          "metadata": {
            "tags": []
          }
        }
      ]
    },
    {
      "cell_type": "markdown",
      "metadata": {
        "id": "4rpH5wsUeACF"
      },
      "source": [
        "__Graph Interpretation__\r\n",
        "\r\n",
        "- 20% of counties had 36% or less vote for Obama.\r\n",
        "- 75% of counties had less than half vote for Obama."
      ]
    },
    {
      "cell_type": "code",
      "metadata": {
        "colab": {
          "base_uri": "https://localhost:8080/",
          "height": 447
        },
        "id": "SelnPF10SJ0N",
        "outputId": "d96351ee-6c4a-4da8-deb6-59c7c6f9f1d6"
      },
      "source": [
        "# Comparison of ECDFs\r\n",
        "\r\n",
        "a = np.sort(oh)\r\n",
        "b = np.sort(pa)\r\n",
        "c = np.sort(fl)\r\n",
        "\r\n",
        "x = np.arange(1, len(a)+1) / len(a)\r\n",
        "y = np.arange(1, len(b)+1) / len(b)\r\n",
        "z = np.arange(1, len(c)+1) / len(c)\r\n",
        "\r\n",
        "plt.figure(figsize=(12, 7))\r\n",
        "\r\n",
        "# Ploting ECDF\r\n",
        "plt.plot(a, x, marker='o', linestyle='none', label='OH')\r\n",
        "plt.plot(b, y, marker='o', linestyle='none', label='PA')\r\n",
        "plt.plot(c, z, marker='o', linestyle='none', label='FL')\r\n",
        "\r\n",
        "plt.xlabel('percent of vote for Obama')\r\n",
        "plt.ylabel('ECDF')\r\n",
        "plt.margins(0.02) # Keeps data off plot edges\r\n",
        "plt.legend()\r\n",
        "plt.show()"
      ],
      "execution_count": 18,
      "outputs": [
        {
          "output_type": "display_data",
          "data": {
            "image/png": "[encoded data removed]",
            "text/plain": [
              "<Figure size 864x504 with 1 Axes>"
            ]
          },
          "metadata": {
            "tags": []
          }
        }
      ]
    },
    {
      "cell_type": "markdown",
      "metadata": {
        "id": "ycUOeRxJh8so"
      },
      "source": [
        "## __Summary Statistics: The sample Mean and Median__ [Quantitative exploratory data analysis]"
      ]
    },
    {
      "cell_type": "markdown",
      "metadata": {
        "id": "FXxAAVH3sMCi"
      },
      "source": [
        ">**Outliers:**\r\n",
        "Data points whose value is far greater or less than most of\r\n",
        "the rest of the data."
      ]
    },
    {
      "cell_type": "markdown",
      "metadata": {
        "id": "1HsdvHyUASrb"
      },
      "source": [
        ">$\\color{red}{\\textbf{Note:}}$ `inf` used for setting a variable with an infinitely large value."
      ]
    },
    {
      "cell_type": "markdown",
      "metadata": {
        "id": "ATtVDU2zqFet"
      },
      "source": [
        "__The Median:__\r\n",
        "\r\n",
        "Sort the the data and choosing the datum in the __Middle__. Because it is derived from the __ranking of sorted data__, and not on the values of the data, the __Median is immune to data that take on extreme values__.\r\n",
        "\r\n",
        "- The median is a special name for the __50th percentile__.\r\n",
        "\r\n",
        ">$\\color{red}{\\textbf{Note:}}$\r\n",
        "An **outlier** can significantly affect the value of the __Mean__, but not the **Median**.\r\n",
        "\r\n",
        "\r\n",
        "\r\n",
        "\r\n"
      ]
    },
    {
      "cell_type": "code",
      "metadata": {
        "colab": {
          "base_uri": "https://localhost:8080/"
        },
        "id": "kVkC_zwMuhGW",
        "outputId": "8de3eacc-f8a0-49a2-ec8e-56eafb7a56e5"
      },
      "source": [
        "# vote shares\r\n",
        "vote_share_PA = df_swing.loc[df_swing[\"state\"] == \"PA\"]\r\n",
        "np.mean(vote_share_PA)"
      ],
      "execution_count": 19,
      "outputs": [
        {
          "output_type": "execute_result",
          "data": {
            "text/plain": [
              "total_votes    89479.656716\n",
              "dem_votes      48900.940299\n",
              "rep_votes      39640.074627\n",
              "dem_share         45.476418\n",
              "dtype: float64"
            ]
          },
          "metadata": {
            "tags": []
          },
          "execution_count": 19
        }
      ]
    },
    {
      "cell_type": "code",
      "metadata": {
        "colab": {
          "base_uri": "https://localhost:8080/"
        },
        "id": "dbsE2GUxvH0c",
        "outputId": "a4f266cf-8f89-489f-96d0-4f0cd54736ee"
      },
      "source": [
        "# democratic vote share in PA \r\n",
        "print('Mean:{}'.format(np.mean(vote_share_PA.dem_share)))\r\n",
        "print('Median: {}'.format(np.median(vote_share_PA.dem_share)))"
      ],
      "execution_count": 20,
      "outputs": [
        {
          "output_type": "stream",
          "text": [
            "Mean:45.476417910447765\n",
            "Median: 44.03\n"
          ],
          "name": "stdout"
        }
      ]
    },
    {
      "cell_type": "code",
      "metadata": {
        "colab": {
          "base_uri": "https://localhost:8080/"
        },
        "id": "uJKeXzryCB0x",
        "outputId": "cbb9b899-613d-4ab5-b876-58700641c3c4"
      },
      "source": [
        "df_swing.county.describe()"
      ],
      "execution_count": 21,
      "outputs": [
        {
          "output_type": "execute_result",
          "data": {
            "text/plain": [
              "count              222\n",
              "unique             187\n",
              "top       Union County\n",
              "freq                 3\n",
              "Name: county, dtype: object"
            ]
          },
          "metadata": {
            "tags": []
          },
          "execution_count": 21
        }
      ]
    },
    {
      "cell_type": "code",
      "metadata": {
        "colab": {
          "base_uri": "https://localhost:8080/"
        },
        "id": "zhYs7kwyCSc6",
        "outputId": "02718a92-e6fe-4042-ef9a-3028535ab308"
      },
      "source": [
        "# Test if pattern or regex is contained within a string of a Series or Index.\r\n",
        "df_swing.county.str.contains('ut').values # for Utha county"
      ],
      "execution_count": 22,
      "outputs": [
        {
          "output_type": "execute_result",
          "data": {
            "text/plain": [
              "array([False, False, False, False, False, False, False, False, False,\n",
              "       False, False, False, False, False, False, False, False, False,\n",
              "       False, False, False, False, False, False, False, False, False,\n",
              "       False, False, False, False, False, False, False, False, False,\n",
              "       False, False, False, False, False, False, False, False, False,\n",
              "       False,  True, False, False,  True, False, False, False, False,\n",
              "       False, False, False, False, False, False, False, False, False,\n",
              "       False, False, False, False, False, False, False, False, False,\n",
              "       False, False, False, False, False, False, False, False, False,\n",
              "       False, False, False, False, False, False, False, False, False,\n",
              "       False, False, False, False, False, False, False, False, False,\n",
              "       False, False, False, False, False, False, False, False, False,\n",
              "       False, False, False, False, False, False, False, False, False,\n",
              "       False, False, False, False, False, False, False, False, False,\n",
              "       False, False, False, False, False, False, False, False, False,\n",
              "       False, False, False, False, False, False, False, False, False,\n",
              "       False, False, False, False, False, False, False, False, False,\n",
              "       False, False, False, False, False, False, False, False, False,\n",
              "       False, False, False, False, False, False, False, False, False,\n",
              "       False, False,  True, False, False, False, False, False, False,\n",
              "       False, False, False, False, False, False, False, False, False,\n",
              "       False, False, False, False, False, False, False, False, False,\n",
              "       False, False, False, False, False, False, False, False, False,\n",
              "       False, False, False, False, False, False,  True, False, False,\n",
              "       False, False, False, False, False, False])"
            ]
          },
          "metadata": {
            "tags": []
          },
          "execution_count": 22
        }
      ]
    },
    {
      "cell_type": "code",
      "metadata": {
        "colab": {
          "base_uri": "https://localhost:8080/"
        },
        "id": "ktRhc0IqBY1x",
        "outputId": "63821ea3-b39d-480a-a002-8873f08bfb1a"
      },
      "source": [
        "# Mean and median Vote share for washington County\r\n",
        "wash_c = df_swing.loc[df_swing[\"county\"] == \"Washington County\"]\r\n",
        "print(np.mean(wash_c))"
      ],
      "execution_count": 23,
      "outputs": [
        {
          "output_type": "stream",
          "text": [
            "total_votes    42660.000000\n",
            "dem_votes      16741.000000\n",
            "rep_votes      25316.333333\n",
            "dem_share         26.780000\n",
            "dtype: float64\n"
          ],
          "name": "stdout"
        }
      ]
    },
    {
      "cell_type": "markdown",
      "metadata": {
        "id": "ZU2pH1HkFFCQ"
      },
      "source": [
        "### __Combine Box and Swarmplot__ "
      ]
    },
    {
      "cell_type": "code",
      "metadata": {
        "colab": {
          "base_uri": "https://localhost:8080/",
          "height": 447
        },
        "id": "NfEmwhwVr0bj",
        "outputId": "4d7ec8b1-3a39-492f-d797-8b99db2f1aee"
      },
      "source": [
        "plt.figure(figsize=(12, 7))\r\n",
        "\r\n",
        "# Create bee swarm plot with Seaborn's default settings\r\n",
        "_ = sns.boxplot(x='state', y='dem_share', data=df_swing, whis=np.inf) \r\n",
        "_ = sns.swarmplot(x='state', y='dem_share', data=df_swing, color=\".2\")\r\n",
        "\r\n",
        "# Label the axes\r\n",
        "_ = plt.xlabel('state')\r\n",
        "_ = plt.ylabel('percent of vote for Obama')\r\n",
        "\r\n",
        "# Show the plot\r\n",
        "plt.show()"
      ],
      "execution_count": 24,
      "outputs": [
        {
          "output_type": "display_data",
          "data": {
            "image/png": "[encoded data removed]",
            "text/plain": [
              "<Figure size 864x504 with 1 Axes>"
            ]
          },
          "metadata": {
            "tags": []
          }
        }
      ]
    },
    {
      "cell_type": "code",
      "metadata": {
        "colab": {
          "base_uri": "https://localhost:8080/"
        },
        "id": "fD0gvbR5paBO",
        "outputId": "dd0e753d-a8e7-41ce-ac35-8e8737ba1348"
      },
      "source": [
        "# Percentile\r\n",
        "np.percentile(df_swing['dem_share'], [25, 50, 75])"
      ],
      "execution_count": 25,
      "outputs": [
        {
          "output_type": "execute_result",
          "data": {
            "text/plain": [
              "array([37.3025, 43.185 , 49.925 ])"
            ]
          },
          "metadata": {
            "tags": []
          },
          "execution_count": 25
        }
      ]
    },
    {
      "cell_type": "markdown",
      "metadata": {
        "id": "Twbt3SPnNZtI"
      },
      "source": [
        "### **Variance** and **standard deviation**\r\n",
        "\r\n",
        "<p align='center'>\r\n",
        "    <a href='#'><img src='https://github.com/mohd-faizy/CAREER-TRACK-Data-Scientist-with-Python/blob/main/22_Statistical-Thinking-in-Python-%5BPart%20-1%5D/_png/SDvsVar.png?raw=**true**'></a>\r\n",
        "</p>"
      ]
    },
    {
      "cell_type": "markdown",
      "metadata": {
        "id": "41674nyINpqK"
      },
      "source": [
        ">__Variance__ is the mean **squared distance** of the data from their **mean**. Informally, a measure of the ***spread of data***.\r\n",
        "\r\n",
        "$$ variance = \\dfrac{1}{n}\\sum^{n}_{i=1}(x_i - \\bar{x})^2 $$"
      ]
    },
    {
      "cell_type": "markdown",
      "metadata": {
        "id": "D3fVZqTHaVEN"
      },
      "source": [
        ">__Standard Deviation__  is a measure that is used to **quantify** the amount of ***variation*** or ***dispersion*** of a set of data values.\r\n",
        "\r\n",
        "$$ Standard Deviation = \\sqrt{\\dfrac{\\sum(x_i - \\bar{x})^2}{n - 1}} $$"
      ]
    },
    {
      "cell_type": "code",
      "metadata": {
        "id": "vGJqCmaPOTXk",
        "colab": {
          "base_uri": "https://localhost:8080/"
        },
        "outputId": "d8ca379a-9287-4c05-d73a-a69d86c10867"
      },
      "source": [
        "# Display records only with states \r\n",
        "florida = df_swing.loc[df_swing[\"state\"] == \"FL\"]\r\n",
        "\r\n",
        "# Computing the variance\r\n",
        "print('Variance {0:.2f}'.format(np.var(florida.dem_share)))\r\n",
        "\r\n",
        "# Computing the Standard Deviation\r\n",
        "print('Standard Deviation {0:.2f}'.format(np.std(florida.dem_share)))"
      ],
      "execution_count": 26,
      "outputs": [
        {
          "output_type": "stream",
          "text": [
            "Variance 147.44\n",
            "Standard Deviation 12.14\n"
          ],
          "name": "stdout"
        }
      ]
    },
    {
      "cell_type": "markdown",
      "metadata": {
        "id": "xVrv-llDgmng"
      },
      "source": [
        "### **Covariance** and the **Pearson correlation coefficient**\r\n"
      ]
    },
    {
      "cell_type": "code",
      "metadata": {
        "colab": {
          "base_uri": "https://localhost:8080/",
          "height": 483
        },
        "id": "GV5p_aEmNk3p",
        "outputId": "d5a175ea-2bc3-4ec5-d04a-81c5d4a0200e"
      },
      "source": [
        "# Total swing votes\r\n",
        "total_votes = df_swing.total_votes\r\n",
        "\r\n",
        "# Democrates Share\r\n",
        "demcrats_share = df_swing.dem_share\r\n",
        "\r\n",
        "print('mean total votes {0:.2f}'.format((total_votes/1000).mean()))\r\n",
        "print('mean percent for obama {0:.2f}'.format(demcrats_share.mean()))\r\n",
        "\r\n",
        "# Set default Seaborn style\r\n",
        "sns.set()\r\n",
        "\r\n",
        "# figure size\r\n",
        "plt.figure(figsize=(12, 7))\r\n",
        "\r\n",
        "# vertical mean line \r\n",
        "plt.axvline((total_votes/1000).mean(), color='red',\r\n",
        "            linestyle='dashed', linewidth=1,\r\n",
        "            label='mean total votes')\r\n",
        "\r\n",
        "# horizontal mean line\r\n",
        "plt.axhline(demcrats_share.mean(), color='k',\r\n",
        "            linestyle='dashed', linewidth=1,\r\n",
        "            label='mean percent for obama')\r\n",
        "# Plot\r\n",
        "_ = plt.plot(total_votes/1000, demcrats_share, marker='o', linestyle='none')\r\n",
        "_ = plt.xlabel('total votes (thousands)')\r\n",
        "_ = plt.ylabel('percent of vote for Obama')\r\n",
        "_ = plt.legend()\r\n",
        "plt.show()"
      ],
      "execution_count": 27,
      "outputs": [
        {
          "output_type": "stream",
          "text": [
            "mean total votes 90.42\n",
            "mean percent for obama 43.76\n"
          ],
          "name": "stdout"
        },
        {
          "output_type": "display_data",
          "data": {
            "image/png": "[encoded data removed]",
            "text/plain": [
              "<Figure size 864x504 with 1 Axes>"
            ]
          },
          "metadata": {
            "tags": []
          }
        }
      ]
    },
    {
      "cell_type": "markdown",
      "metadata": {
        "id": "epzMi3p12ZTl"
      },
      "source": [
        "***The twelve most populous counties all voted for Obama, and that most of the counties with small populations voted for McCain.***"
      ]
    },
    {
      "cell_type": "markdown",
      "metadata": {
        "id": "JssSd-ws3J3F"
      },
      "source": [
        "The mean total votes. We can compute these differences for each data point.\r\n",
        "\r\n",
        "The **covariance** is the mean of the product of these differences. If x and y both tend to be above, or both below their respective means together, as they are in this data set, then the **covariance is positive** i.e (positively correlated) when **x is high**, so is **y**; when the county is **populous**, it has more votes for Obama.\r\n",
        "\r\n",
        "Conversely, if **x is high** while **y is low**, the covariance is negative, and the data are **negatively correlated**, or **anticorrelated**, which is not the case for this data set.\r\n",
        "\r\n",
        "\r\n"
      ]
    },
    {
      "cell_type": "markdown",
      "metadata": {
        "id": "RFSiBHV5exks"
      },
      "source": [
        "#### __Covariance__ \n",
        "\n",
        "it is the measure of how the two quantities vary together.\n",
        "\n",
        "- Covariance is a measure of the relationship between two random variables and to what extent, they change together. Or we can say, in other words, it defines the changes between the two variables, such that change in one variable is equal to change in another variable.\n",
        "\n",
        "- If the covariance for any two variables is positive, that means, both the variables move in the same direction. Here, the variables show similar behaviour.\n",
        "\n",
        "$$ covariance = \\dfrac{1}{n}\\sum^{n}_{i=1}(x_i - \\bar{x})(y_i - \\bar{y})$$\n",
        "\n",
        "\n"
      ]
    },
    {
      "cell_type": "code",
      "metadata": {
        "colab": {
          "base_uri": "https://localhost:8080/",
          "height": 322
        },
        "id": "I1P5KxIkwh-j",
        "outputId": "ce221f61-b8dc-402e-b58f-b2265f3da6c6"
      },
      "source": [
        "# Compute the covariance matrix: covariance_matrix\r\n",
        "covariance_matrix = np.cov((total_votes/1000), demcrats_share )\r\n",
        "\r\n",
        "sns.heatmap(covariance_matrix,\r\n",
        "                 cbar=True,\r\n",
        "                 annot=True,\r\n",
        "                 square=True,\r\n",
        "                 fmt='.2f',\r\n",
        "                 annot_kws={'size': 12}\r\n",
        "                 )\r\n",
        "\r\n",
        "# Print covariance matrix\r\n",
        "print(covariance_matrix)\r\n",
        "\r\n",
        "# Extract covariance of length and width of petals: petal_cov\r\n",
        "petal_cov = covariance_matrix[0, 1]\r\n",
        "\r\n",
        "# Print the length/width covariance\r\n",
        "print(petal_cov)"
      ],
      "execution_count": 28,
      "outputs": [
        {
          "output_type": "stream",
          "text": [
            "[[20245.10393632   817.30936184]\n",
            " [  817.30936184   114.76344739]]\n",
            "817.3093618405288\n"
          ],
          "name": "stdout"
        },
        {
          "output_type": "display_data",
          "data": {
            "image/png": "[encoded data removed]",
            "text/plain": [
              "<Figure size 432x288 with 2 Axes>"
            ]
          },
          "metadata": {
            "tags": []
          }
        }
      ]
    },
    {
      "cell_type": "markdown",
      "metadata": {
        "id": "CEwEcGyijpF4"
      },
      "source": [
        "#### __Pearson correlation coefficient__\r\n",
        "\r\n",
        "\r\n",
        "We can compute the **covariance** using built-in NumPy functions. However, if we want to have a more **generally applicable measure** of **how two variables depend on each other**, we want it to be **dimensionless**, that is to not have any units.\r\n",
        "\r\n",
        "So, we can divide the covariance by the ***standard deviations of the x and y variables***. This is called the Pearson correlation coefficient, usually denoted by the Greek letter rho."
      ]
    },
    {
      "cell_type": "markdown",
      "metadata": {
        "id": "evaLGPtt5Idk"
      },
      "source": [
        "#### ___Why is the Pearson correlation coefficient important?___\r\n",
        "\r\n",
        "It helps in knowing **how strong the relationship between the two variables** is. Not only the presence or the absence of the correlation between the two variables is indicated using the Pearson Correlation Coefficient but it also determines the **exact extent to which those variables are correlated**.\r\n",
        "\r\n",
        "\r\n",
        "The **Pearson coefficient correlation** has a **high statistical significance**. It looks at the relationship between two variables. It seeks to draw a line through the data of two variables to show their relationship. The relationship of the variables is measured with the help Pearson correlation coefficient calculator."
      ]
    },
    {
      "cell_type": "markdown",
      "metadata": {
        "id": "sHA0m-qfjnGz"
      },
      "source": [
        "$$ \\begin{align} \\rho &= \\text{Pearson correlation} = \\dfrac{\\text{covariance}}{(\\text{std of x})(\\text{std of y})} \\\\ &= \\dfrac{\\text{variability due to codependence}}{\\text{independent variability}} \\end{align}$$"
      ]
    },
    {
      "cell_type": "code",
      "metadata": {
        "colab": {
          "base_uri": "https://localhost:8080/"
        },
        "id": "JmXV4_09Nkze",
        "outputId": "0cbb9f20-af11-49c3-9e00-63f31c0aaa20"
      },
      "source": [
        "def pearson_r(x, y):\r\n",
        "    \"\"\"Compute Pearson correlation coefficient between two arrays\r\n",
        "    \r\n",
        "    Args:\r\n",
        "        x: arrays\r\n",
        "        y: arrays\r\n",
        "        \r\n",
        "    returns:\r\n",
        "        r: int\r\n",
        "    \"\"\"\r\n",
        "    # Compute correlation matrix: corr_mat\r\n",
        "    corr_mat = np.corrcoef(x, y)\r\n",
        "    \r\n",
        "    # Return entry[0, 1]\r\n",
        "    return corr_mat[0, 1]\r\n",
        "\r\n",
        "# Compute Pearson correlation coefficient for I. versicolor: r\r\n",
        "r = pearson_r((total_votes/1000), demcrats_share)\r\n",
        "\r\n",
        "# Print the result\r\n",
        "print(r)"
      ],
      "execution_count": 29,
      "outputs": [
        {
          "output_type": "stream",
          "text": [
            "0.5361973649586781\n"
          ],
          "name": "stdout"
        }
      ]
    },
    {
      "cell_type": "code",
      "metadata": {
        "colab": {
          "base_uri": "https://localhost:8080/"
        },
        "id": "BLBFoc7tx7F6",
        "outputId": "7b30d3a1-c810-466d-e6cc-bf30638f2c07"
      },
      "source": [
        "ls"
      ],
      "execution_count": 30,
      "outputs": [
        {
          "output_type": "stream",
          "text": [
            "2008_all_states.csv    belmont.csv  michelson_speed_of_light.csv\n",
            "2008_swing_states.csv  iris.csv\n"
          ],
          "name": "stdout"
        }
      ]
    },
    {
      "cell_type": "markdown",
      "metadata": {
        "id": "j_LbWxbJyAeX"
      },
      "source": [
        "--- \r\n",
        "<strong> \r\n",
        "    <h1 align='center'>All State</h1> \r\n",
        "</strong>\r\n",
        "\r\n",
        "---"
      ]
    },
    {
      "cell_type": "code",
      "metadata": {
        "colab": {
          "base_uri": "https://localhost:8080/",
          "height": 197
        },
        "id": "baxMSC6Xx5rJ",
        "outputId": "c1a37689-dc25-4a0d-cb84-e4e10f36f40b"
      },
      "source": [
        "# Reading the dataframe in Pandas\r\n",
        "all_state = pd.read_csv('2008_all_states.csv')\r\n",
        "all_state.head()"
      ],
      "execution_count": 31,
      "outputs": [
        {
          "output_type": "execute_result",
          "data": {
            "text/html": [
              "<div>\n",
              "<style scoped>\n",
              "    .dataframe tbody tr th:only-of-type {\n",
              "        vertical-align: middle;\n",
              "    }\n",
              "\n",
              "    .dataframe tbody tr th {\n",
              "        vertical-align: top;\n",
              "    }\n",
              "\n",
              "    .dataframe thead th {\n",
              "        text-align: right;\n",
              "    }\n",
              "</style>\n",
              "<table border=\"1\" class=\"dataframe\">\n",
              "  <thead>\n",
              "    <tr style=\"text-align: right;\">\n",
              "      <th></th>\n",
              "      <th>state</th>\n",
              "      <th>county</th>\n",
              "      <th>total_votes</th>\n",
              "      <th>dem_votes</th>\n",
              "      <th>rep_votes</th>\n",
              "      <th>other_votes</th>\n",
              "      <th>dem_share</th>\n",
              "      <th>east_west</th>\n",
              "    </tr>\n",
              "  </thead>\n",
              "  <tbody>\n",
              "    <tr>\n",
              "      <th>0</th>\n",
              "      <td>AK</td>\n",
              "      <td>State House District 8, Denali-University</td>\n",
              "      <td>10320</td>\n",
              "      <td>4995</td>\n",
              "      <td>4983</td>\n",
              "      <td>342</td>\n",
              "      <td>50.06</td>\n",
              "      <td>west</td>\n",
              "    </tr>\n",
              "    <tr>\n",
              "      <th>1</th>\n",
              "      <td>AK</td>\n",
              "      <td>State House District 37, Bristol Bay-Aleuti</td>\n",
              "      <td>4665</td>\n",
              "      <td>1868</td>\n",
              "      <td>2661</td>\n",
              "      <td>136</td>\n",
              "      <td>41.24</td>\n",
              "      <td>west</td>\n",
              "    </tr>\n",
              "    <tr>\n",
              "      <th>2</th>\n",
              "      <td>AK</td>\n",
              "      <td>State House District 12, Richardson-Glenn H</td>\n",
              "      <td>7589</td>\n",
              "      <td>1914</td>\n",
              "      <td>5467</td>\n",
              "      <td>208</td>\n",
              "      <td>25.93</td>\n",
              "      <td>west</td>\n",
              "    </tr>\n",
              "    <tr>\n",
              "      <th>3</th>\n",
              "      <td>AK</td>\n",
              "      <td>State House District 13, Greater Palmer</td>\n",
              "      <td>11526</td>\n",
              "      <td>2800</td>\n",
              "      <td>8432</td>\n",
              "      <td>294</td>\n",
              "      <td>24.93</td>\n",
              "      <td>west</td>\n",
              "    </tr>\n",
              "    <tr>\n",
              "      <th>4</th>\n",
              "      <td>AK</td>\n",
              "      <td>State House District 14, Greater Wasilla</td>\n",
              "      <td>10456</td>\n",
              "      <td>2132</td>\n",
              "      <td>8108</td>\n",
              "      <td>216</td>\n",
              "      <td>20.82</td>\n",
              "      <td>west</td>\n",
              "    </tr>\n",
              "  </tbody>\n",
              "</table>\n",
              "</div>"
            ],
            "text/plain": [
              "  state                                       county  ...  dem_share  east_west\n",
              "0    AK    State House District 8, Denali-University  ...      50.06       west\n",
              "1    AK  State House District 37, Bristol Bay-Aleuti  ...      41.24       west\n",
              "2    AK  State House District 12, Richardson-Glenn H  ...      25.93       west\n",
              "3    AK      State House District 13, Greater Palmer  ...      24.93       west\n",
              "4    AK     State House District 14, Greater Wasilla  ...      20.82       west\n",
              "\n",
              "[5 rows x 8 columns]"
            ]
          },
          "metadata": {
            "tags": []
          },
          "execution_count": 31
        }
      ]
    },
    {
      "cell_type": "markdown",
      "metadata": {
        "id": "rftgP42oxBLM"
      },
      "source": [
        "<p align='center'> \r\n",
        "    <a href=\"https://twitter.com/F4izy\"> \r\n",
        "        <img src=\"https://th.bing.com/th/id/OIP.FCKMemzqNplY37Jwi0Yk3AHaGl?w=233&h=207&c=7&o=5&pid=1.7\" width=50px \r\n",
        "            height=50px> \r\n",
        "    </a> \r\n",
        "    <a href=\"https://www.linkedin.com/in/mohd-faizy/\"> \r\n",
        "        <img src='https://th.bing.com/th/id/OIP.idrBN-LfvMIZl370Vb65SgHaHa?pid=Api&rs=1' width=50px height=50px> \r\n",
        "    </a> \r\n",
        "</p>"
      ]
    }
  ]
}