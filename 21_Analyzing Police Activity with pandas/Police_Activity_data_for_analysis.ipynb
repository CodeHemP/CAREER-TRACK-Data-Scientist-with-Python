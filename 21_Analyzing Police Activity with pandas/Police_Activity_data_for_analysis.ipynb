{
  "nbformat": 4,
  "nbformat_minor": 0,
  "metadata": {
    "colab": {
      "name": " Police Activity data for analysis",
      "provenance": [],
      "collapsed_sections": []
    },
    "kernelspec": {
      "name": "python3",
      "display_name": "Python 3"
    }
  },
  "cells": [
    {
      "cell_type": "markdown",
      "metadata": {
        "id": "cUdFFwNEVI-P"
      },
      "source": [
        "--- \r\n",
        "<strong> \r\n",
        "    <h1 align='center'>01 Preparing the Police Activity data for analysis (Part - 1)\r\n",
        "    </h1> \r\n",
        "</strong>\r\n",
        "\r\n",
        "---"
      ]
    },
    {
      "cell_type": "code",
      "metadata": {
        "colab": {
          "base_uri": "https://localhost:8080/"
        },
        "id": "45A5T9MIQl4U",
        "outputId": "f076c6f3-1be7-48cc-fbff-29298ca8739e"
      },
      "source": [
        "!git clone https://github.com/mohd-faizy/CAREER-TRACK-Data-Scientist-with-Python.git"
      ],
      "execution_count": 1,
      "outputs": [
        {
          "output_type": "stream",
          "text": [
            "Cloning into 'CAREER-TRACK-Data-Scientist-with-Python'...\n",
            "remote: Enumerating objects: 425, done.\u001b[K\n",
            "remote: Counting objects: 100% (425/425), done.\u001b[K\n",
            "remote: Compressing objects: 100% (360/360), done.\u001b[K\n",
            "remote: Total 1796 (delta 127), reused 356 (delta 60), pack-reused 1371\u001b[K\n",
            "Receiving objects: 100% (1796/1796), 186.72 MiB | 31.64 MiB/s, done.\n",
            "Resolving deltas: 100% (619/619), done.\n",
            "Checking out files: 100% (797/797), done.\n"
          ],
          "name": "stdout"
        }
      ]
    },
    {
      "cell_type": "markdown",
      "metadata": {
        "id": "lgq55HorUEBI"
      },
      "source": [
        "__Change the current working directory__"
      ]
    },
    {
      "cell_type": "code",
      "metadata": {
        "colab": {
          "base_uri": "https://localhost:8080/"
        },
        "id": "sV77zYvcQ4bV",
        "outputId": "d52951d4-2625-4030-e411-f07a2a4f328d"
      },
      "source": [
        "# import os module \r\n",
        "import os \r\n",
        "   \r\n",
        "# to specified path \r\n",
        "os.chdir('/content/CAREER-TRACK-Data-Scientist-with-Python/21_Analyzing Police Activity with pandas/_dataset') \r\n",
        "  \r\n",
        "# varify the path using getcwd() \r\n",
        "cwd = os.getcwd() \r\n",
        "  \r\n",
        "# print the current directory \r\n",
        "print(\"Current working directory is:\", cwd) "
      ],
      "execution_count": 2,
      "outputs": [
        {
          "output_type": "stream",
          "text": [
            "Current working directory is: /content/CAREER-TRACK-Data-Scientist-with-Python/21_Analyzing Police Activity with pandas/_dataset\n"
          ],
          "name": "stdout"
        }
      ]
    },
    {
      "cell_type": "code",
      "metadata": {
        "colab": {
          "base_uri": "https://localhost:8080/"
        },
        "id": "iWqv8ejWRIec",
        "outputId": "e01e9dc5-896d-4dd0-adf1-f0398df49a0f"
      },
      "source": [
        "ls"
      ],
      "execution_count": 3,
      "outputs": [
        {
          "output_type": "stream",
          "text": [
            "police.csv  weather.csv\n"
          ],
          "name": "stdout"
        }
      ]
    },
    {
      "cell_type": "markdown",
      "metadata": {
        "id": "7G7ev3x4N2Wh"
      },
      "source": [
        "## $\\color{green}{\\textbf{Dataset:}}$ \r\n",
        "[Stanford Open Policing Project dataset](https://openpolicing.stanford.edu/)\r\n",
        "\r\n",
        "\r\n",
        "On a typical day in the United States, police officers make more than 50,000 traffic stops. __THE STANFORD OPEN POLICING PROJECT__ gathers, analyse, and release the records from millions of traffic stops by law enforcement agencies across the __US__.\r\n",
        "\r\n",
        "<p align='center'>\r\n",
        "    <a href='#'><img src='https://policylab.stanford.edu/images/icons/stanford-open-policing-project.png'>\r\n",
        "    </a>\r\n",
        "</p>\r\n"
      ]
    },
    {
      "cell_type": "markdown",
      "metadata": {
        "id": "qVCdN4nkY2_J"
      },
      "source": [
        "## __01 Examining the dataset__\r\n",
        "\r\n",
        "Before beginning your analysis, it's important that you familiarize yourself with the dataset. In this exercise, we'll read the dataset into pandas, examine the first few rows, and then count the number of missing values."
      ]
    },
    {
      "cell_type": "code",
      "metadata": {
        "colab": {
          "base_uri": "https://localhost:8080/",
          "height": 301
        },
        "id": "gf6NUMXZZLXx",
        "outputId": "3a3b68e9-3f04-496a-dead-4b30c005e824"
      },
      "source": [
        "# Import the pandas library as pd\r\n",
        "import pandas as pd\r\n",
        "\r\n",
        "# Read 'police.csv' into a DataFrame named ri\r\n",
        "ri = pd.read_csv('police.csv')\r\n",
        "\r\n",
        "# Examine the head of the DataFrame\r\n",
        "ri.head()"
      ],
      "execution_count": 4,
      "outputs": [
        {
          "output_type": "execute_result",
          "data": {
            "text/html": [
              "<div>\n",
              "<style scoped>\n",
              "    .dataframe tbody tr th:only-of-type {\n",
              "        vertical-align: middle;\n",
              "    }\n",
              "\n",
              "    .dataframe tbody tr th {\n",
              "        vertical-align: top;\n",
              "    }\n",
              "\n",
              "    .dataframe thead th {\n",
              "        text-align: right;\n",
              "    }\n",
              "</style>\n",
              "<table border=\"1\" class=\"dataframe\">\n",
              "  <thead>\n",
              "    <tr style=\"text-align: right;\">\n",
              "      <th></th>\n",
              "      <th>state</th>\n",
              "      <th>stop_date</th>\n",
              "      <th>stop_time</th>\n",
              "      <th>county_name</th>\n",
              "      <th>driver_gender</th>\n",
              "      <th>driver_race</th>\n",
              "      <th>violation_raw</th>\n",
              "      <th>violation</th>\n",
              "      <th>search_conducted</th>\n",
              "      <th>search_type</th>\n",
              "      <th>stop_outcome</th>\n",
              "      <th>is_arrested</th>\n",
              "      <th>stop_duration</th>\n",
              "      <th>drugs_related_stop</th>\n",
              "      <th>district</th>\n",
              "    </tr>\n",
              "  </thead>\n",
              "  <tbody>\n",
              "    <tr>\n",
              "      <th>0</th>\n",
              "      <td>RI</td>\n",
              "      <td>2005-01-04</td>\n",
              "      <td>12:55</td>\n",
              "      <td>NaN</td>\n",
              "      <td>M</td>\n",
              "      <td>White</td>\n",
              "      <td>Equipment/Inspection Violation</td>\n",
              "      <td>Equipment</td>\n",
              "      <td>False</td>\n",
              "      <td>NaN</td>\n",
              "      <td>Citation</td>\n",
              "      <td>False</td>\n",
              "      <td>0-15 Min</td>\n",
              "      <td>False</td>\n",
              "      <td>Zone X4</td>\n",
              "    </tr>\n",
              "    <tr>\n",
              "      <th>1</th>\n",
              "      <td>RI</td>\n",
              "      <td>2005-01-23</td>\n",
              "      <td>23:15</td>\n",
              "      <td>NaN</td>\n",
              "      <td>M</td>\n",
              "      <td>White</td>\n",
              "      <td>Speeding</td>\n",
              "      <td>Speeding</td>\n",
              "      <td>False</td>\n",
              "      <td>NaN</td>\n",
              "      <td>Citation</td>\n",
              "      <td>False</td>\n",
              "      <td>0-15 Min</td>\n",
              "      <td>False</td>\n",
              "      <td>Zone K3</td>\n",
              "    </tr>\n",
              "    <tr>\n",
              "      <th>2</th>\n",
              "      <td>RI</td>\n",
              "      <td>2005-02-17</td>\n",
              "      <td>04:15</td>\n",
              "      <td>NaN</td>\n",
              "      <td>M</td>\n",
              "      <td>White</td>\n",
              "      <td>Speeding</td>\n",
              "      <td>Speeding</td>\n",
              "      <td>False</td>\n",
              "      <td>NaN</td>\n",
              "      <td>Citation</td>\n",
              "      <td>False</td>\n",
              "      <td>0-15 Min</td>\n",
              "      <td>False</td>\n",
              "      <td>Zone X4</td>\n",
              "    </tr>\n",
              "    <tr>\n",
              "      <th>3</th>\n",
              "      <td>RI</td>\n",
              "      <td>2005-02-20</td>\n",
              "      <td>17:15</td>\n",
              "      <td>NaN</td>\n",
              "      <td>M</td>\n",
              "      <td>White</td>\n",
              "      <td>Call for Service</td>\n",
              "      <td>Other</td>\n",
              "      <td>False</td>\n",
              "      <td>NaN</td>\n",
              "      <td>Arrest Driver</td>\n",
              "      <td>True</td>\n",
              "      <td>16-30 Min</td>\n",
              "      <td>False</td>\n",
              "      <td>Zone X1</td>\n",
              "    </tr>\n",
              "    <tr>\n",
              "      <th>4</th>\n",
              "      <td>RI</td>\n",
              "      <td>2005-02-24</td>\n",
              "      <td>01:20</td>\n",
              "      <td>NaN</td>\n",
              "      <td>F</td>\n",
              "      <td>White</td>\n",
              "      <td>Speeding</td>\n",
              "      <td>Speeding</td>\n",
              "      <td>False</td>\n",
              "      <td>NaN</td>\n",
              "      <td>Citation</td>\n",
              "      <td>False</td>\n",
              "      <td>0-15 Min</td>\n",
              "      <td>False</td>\n",
              "      <td>Zone X3</td>\n",
              "    </tr>\n",
              "  </tbody>\n",
              "</table>\n",
              "</div>"
            ],
            "text/plain": [
              "  state   stop_date stop_time  ...  stop_duration drugs_related_stop district\n",
              "0    RI  2005-01-04     12:55  ...       0-15 Min              False  Zone X4\n",
              "1    RI  2005-01-23     23:15  ...       0-15 Min              False  Zone K3\n",
              "2    RI  2005-02-17     04:15  ...       0-15 Min              False  Zone X4\n",
              "3    RI  2005-02-20     17:15  ...      16-30 Min              False  Zone X1\n",
              "4    RI  2005-02-24     01:20  ...       0-15 Min              False  Zone X3\n",
              "\n",
              "[5 rows x 15 columns]"
            ]
          },
          "metadata": {
            "tags": []
          },
          "execution_count": 4
        }
      ]
    },
    {
      "cell_type": "code",
      "metadata": {
        "colab": {
          "base_uri": "https://localhost:8080/"
        },
        "id": "pLiUvolr1mVx",
        "outputId": "bf149b6f-2dd9-47ee-d5c2-e34fa18c3cc5"
      },
      "source": [
        "ri.isna().sum()"
      ],
      "execution_count": 5,
      "outputs": [
        {
          "output_type": "execute_result",
          "data": {
            "text/plain": [
              "state                     0\n",
              "stop_date                 0\n",
              "stop_time                 0\n",
              "county_name           91741\n",
              "driver_gender          5205\n",
              "driver_race            5202\n",
              "violation_raw          5202\n",
              "violation              5202\n",
              "search_conducted          0\n",
              "search_type           88434\n",
              "stop_outcome           5202\n",
              "is_arrested            5202\n",
              "stop_duration          5202\n",
              "drugs_related_stop        0\n",
              "district                  0\n",
              "dtype: int64"
            ]
          },
          "metadata": {
            "tags": []
          },
          "execution_count": 5
        }
      ]
    },
    {
      "cell_type": "code",
      "metadata": {
        "colab": {
          "base_uri": "https://localhost:8080/",
          "height": 426
        },
        "id": "ZyoQFFMP1rvk",
        "outputId": "8461b3a6-5b10-46bd-879c-b740ed1aefe1"
      },
      "source": [
        "ri.isnull()"
      ],
      "execution_count": 6,
      "outputs": [
        {
          "output_type": "execute_result",
          "data": {
            "text/html": [
              "<div>\n",
              "<style scoped>\n",
              "    .dataframe tbody tr th:only-of-type {\n",
              "        vertical-align: middle;\n",
              "    }\n",
              "\n",
              "    .dataframe tbody tr th {\n",
              "        vertical-align: top;\n",
              "    }\n",
              "\n",
              "    .dataframe thead th {\n",
              "        text-align: right;\n",
              "    }\n",
              "</style>\n",
              "<table border=\"1\" class=\"dataframe\">\n",
              "  <thead>\n",
              "    <tr style=\"text-align: right;\">\n",
              "      <th></th>\n",
              "      <th>state</th>\n",
              "      <th>stop_date</th>\n",
              "      <th>stop_time</th>\n",
              "      <th>county_name</th>\n",
              "      <th>driver_gender</th>\n",
              "      <th>driver_race</th>\n",
              "      <th>violation_raw</th>\n",
              "      <th>violation</th>\n",
              "      <th>search_conducted</th>\n",
              "      <th>search_type</th>\n",
              "      <th>stop_outcome</th>\n",
              "      <th>is_arrested</th>\n",
              "      <th>stop_duration</th>\n",
              "      <th>drugs_related_stop</th>\n",
              "      <th>district</th>\n",
              "    </tr>\n",
              "  </thead>\n",
              "  <tbody>\n",
              "    <tr>\n",
              "      <th>0</th>\n",
              "      <td>False</td>\n",
              "      <td>False</td>\n",
              "      <td>False</td>\n",
              "      <td>True</td>\n",
              "      <td>False</td>\n",
              "      <td>False</td>\n",
              "      <td>False</td>\n",
              "      <td>False</td>\n",
              "      <td>False</td>\n",
              "      <td>True</td>\n",
              "      <td>False</td>\n",
              "      <td>False</td>\n",
              "      <td>False</td>\n",
              "      <td>False</td>\n",
              "      <td>False</td>\n",
              "    </tr>\n",
              "    <tr>\n",
              "      <th>1</th>\n",
              "      <td>False</td>\n",
              "      <td>False</td>\n",
              "      <td>False</td>\n",
              "      <td>True</td>\n",
              "      <td>False</td>\n",
              "      <td>False</td>\n",
              "      <td>False</td>\n",
              "      <td>False</td>\n",
              "      <td>False</td>\n",
              "      <td>True</td>\n",
              "      <td>False</td>\n",
              "      <td>False</td>\n",
              "      <td>False</td>\n",
              "      <td>False</td>\n",
              "      <td>False</td>\n",
              "    </tr>\n",
              "    <tr>\n",
              "      <th>2</th>\n",
              "      <td>False</td>\n",
              "      <td>False</td>\n",
              "      <td>False</td>\n",
              "      <td>True</td>\n",
              "      <td>False</td>\n",
              "      <td>False</td>\n",
              "      <td>False</td>\n",
              "      <td>False</td>\n",
              "      <td>False</td>\n",
              "      <td>True</td>\n",
              "      <td>False</td>\n",
              "      <td>False</td>\n",
              "      <td>False</td>\n",
              "      <td>False</td>\n",
              "      <td>False</td>\n",
              "    </tr>\n",
              "    <tr>\n",
              "      <th>3</th>\n",
              "      <td>False</td>\n",
              "      <td>False</td>\n",
              "      <td>False</td>\n",
              "      <td>True</td>\n",
              "      <td>False</td>\n",
              "      <td>False</td>\n",
              "      <td>False</td>\n",
              "      <td>False</td>\n",
              "      <td>False</td>\n",
              "      <td>True</td>\n",
              "      <td>False</td>\n",
              "      <td>False</td>\n",
              "      <td>False</td>\n",
              "      <td>False</td>\n",
              "      <td>False</td>\n",
              "    </tr>\n",
              "    <tr>\n",
              "      <th>4</th>\n",
              "      <td>False</td>\n",
              "      <td>False</td>\n",
              "      <td>False</td>\n",
              "      <td>True</td>\n",
              "      <td>False</td>\n",
              "      <td>False</td>\n",
              "      <td>False</td>\n",
              "      <td>False</td>\n",
              "      <td>False</td>\n",
              "      <td>True</td>\n",
              "      <td>False</td>\n",
              "      <td>False</td>\n",
              "      <td>False</td>\n",
              "      <td>False</td>\n",
              "      <td>False</td>\n",
              "    </tr>\n",
              "    <tr>\n",
              "      <th>...</th>\n",
              "      <td>...</td>\n",
              "      <td>...</td>\n",
              "      <td>...</td>\n",
              "      <td>...</td>\n",
              "      <td>...</td>\n",
              "      <td>...</td>\n",
              "      <td>...</td>\n",
              "      <td>...</td>\n",
              "      <td>...</td>\n",
              "      <td>...</td>\n",
              "      <td>...</td>\n",
              "      <td>...</td>\n",
              "      <td>...</td>\n",
              "      <td>...</td>\n",
              "      <td>...</td>\n",
              "    </tr>\n",
              "    <tr>\n",
              "      <th>91736</th>\n",
              "      <td>False</td>\n",
              "      <td>False</td>\n",
              "      <td>False</td>\n",
              "      <td>True</td>\n",
              "      <td>False</td>\n",
              "      <td>False</td>\n",
              "      <td>False</td>\n",
              "      <td>False</td>\n",
              "      <td>False</td>\n",
              "      <td>True</td>\n",
              "      <td>False</td>\n",
              "      <td>False</td>\n",
              "      <td>False</td>\n",
              "      <td>False</td>\n",
              "      <td>False</td>\n",
              "    </tr>\n",
              "    <tr>\n",
              "      <th>91737</th>\n",
              "      <td>False</td>\n",
              "      <td>False</td>\n",
              "      <td>False</td>\n",
              "      <td>True</td>\n",
              "      <td>False</td>\n",
              "      <td>False</td>\n",
              "      <td>False</td>\n",
              "      <td>False</td>\n",
              "      <td>False</td>\n",
              "      <td>True</td>\n",
              "      <td>False</td>\n",
              "      <td>False</td>\n",
              "      <td>False</td>\n",
              "      <td>False</td>\n",
              "      <td>False</td>\n",
              "    </tr>\n",
              "    <tr>\n",
              "      <th>91738</th>\n",
              "      <td>False</td>\n",
              "      <td>False</td>\n",
              "      <td>False</td>\n",
              "      <td>True</td>\n",
              "      <td>False</td>\n",
              "      <td>False</td>\n",
              "      <td>False</td>\n",
              "      <td>False</td>\n",
              "      <td>False</td>\n",
              "      <td>True</td>\n",
              "      <td>False</td>\n",
              "      <td>False</td>\n",
              "      <td>False</td>\n",
              "      <td>False</td>\n",
              "      <td>False</td>\n",
              "    </tr>\n",
              "    <tr>\n",
              "      <th>91739</th>\n",
              "      <td>False</td>\n",
              "      <td>False</td>\n",
              "      <td>False</td>\n",
              "      <td>True</td>\n",
              "      <td>False</td>\n",
              "      <td>False</td>\n",
              "      <td>False</td>\n",
              "      <td>False</td>\n",
              "      <td>False</td>\n",
              "      <td>True</td>\n",
              "      <td>False</td>\n",
              "      <td>False</td>\n",
              "      <td>False</td>\n",
              "      <td>False</td>\n",
              "      <td>False</td>\n",
              "    </tr>\n",
              "    <tr>\n",
              "      <th>91740</th>\n",
              "      <td>False</td>\n",
              "      <td>False</td>\n",
              "      <td>False</td>\n",
              "      <td>True</td>\n",
              "      <td>False</td>\n",
              "      <td>False</td>\n",
              "      <td>False</td>\n",
              "      <td>False</td>\n",
              "      <td>False</td>\n",
              "      <td>True</td>\n",
              "      <td>False</td>\n",
              "      <td>False</td>\n",
              "      <td>False</td>\n",
              "      <td>False</td>\n",
              "      <td>False</td>\n",
              "    </tr>\n",
              "  </tbody>\n",
              "</table>\n",
              "<p>91741 rows × 15 columns</p>\n",
              "</div>"
            ],
            "text/plain": [
              "       state  stop_date  stop_time  ...  stop_duration  drugs_related_stop  district\n",
              "0      False      False      False  ...          False               False     False\n",
              "1      False      False      False  ...          False               False     False\n",
              "2      False      False      False  ...          False               False     False\n",
              "3      False      False      False  ...          False               False     False\n",
              "4      False      False      False  ...          False               False     False\n",
              "...      ...        ...        ...  ...            ...                 ...       ...\n",
              "91736  False      False      False  ...          False               False     False\n",
              "91737  False      False      False  ...          False               False     False\n",
              "91738  False      False      False  ...          False               False     False\n",
              "91739  False      False      False  ...          False               False     False\n",
              "91740  False      False      False  ...          False               False     False\n",
              "\n",
              "[91741 rows x 15 columns]"
            ]
          },
          "metadata": {
            "tags": []
          },
          "execution_count": 6
        }
      ]
    },
    {
      "cell_type": "code",
      "metadata": {
        "colab": {
          "base_uri": "https://localhost:8080/"
        },
        "id": "JtQl3Ee6ZSMX",
        "outputId": "27d0c41d-493d-4153-af11-f2974a7f516a"
      },
      "source": [
        "# Count the number of missing values in each column\r\n",
        "ri.isnull().sum()"
      ],
      "execution_count": 7,
      "outputs": [
        {
          "output_type": "execute_result",
          "data": {
            "text/plain": [
              "state                     0\n",
              "stop_date                 0\n",
              "stop_time                 0\n",
              "county_name           91741\n",
              "driver_gender          5205\n",
              "driver_race            5202\n",
              "violation_raw          5202\n",
              "violation              5202\n",
              "search_conducted          0\n",
              "search_type           88434\n",
              "stop_outcome           5202\n",
              "is_arrested            5202\n",
              "stop_duration          5202\n",
              "drugs_related_stop        0\n",
              "district                  0\n",
              "dtype: int64"
            ]
          },
          "metadata": {
            "tags": []
          },
          "execution_count": 7
        }
      ]
    },
    {
      "cell_type": "markdown",
      "metadata": {
        "id": "2XoTfVieZhOL"
      },
      "source": [
        "## __02 Dropping columns__\r\n",
        "\r\n",
        "Often, a DataFrame will contain columns that are not useful to our analysis. Such columns should be dropped from the DataFrame, to make it easier for us to focus on the remaining columns.\r\n",
        "\r\n",
        "In this exercise, we'll drop the `'county_name'` column because it only contains missing values, and we'll drop the `'state'` column because all of the traffic stops took place in one state (__Rhode Island__).\r\n",
        "\r\n",
        "Thus, these columns can be dropped because **they contain no useful information**. "
      ]
    },
    {
      "cell_type": "code",
      "metadata": {
        "colab": {
          "base_uri": "https://localhost:8080/"
        },
        "id": "jA7-jFgiZckQ",
        "outputId": "fd754fce-1f4a-433b-8725-4085519b62c4"
      },
      "source": [
        "# Examine the shape of the DataFrame\r\n",
        "print(ri.shape)\r\n",
        "\r\n",
        "# Drop the 'county_name' and 'state' columns\r\n",
        "ri.drop(['county_name', 'state'], axis='columns', inplace=True)\r\n",
        "\r\n",
        "# Examine the shape of the DataFrame (again)\r\n",
        "print(ri.shape)"
      ],
      "execution_count": 8,
      "outputs": [
        {
          "output_type": "stream",
          "text": [
            "(91741, 15)\n",
            "(91741, 13)\n"
          ],
          "name": "stdout"
        }
      ]
    },
    {
      "cell_type": "markdown",
      "metadata": {
        "id": "_k3WNF3haW1M"
      },
      "source": [
        "## __03 Dropping rows__\r\n",
        "\r\n",
        "When we know that a **specific column** will be **critical to our analysis**, and only a small fraction of rows are missing a value in that column, *it often makes sense to remove those rows from the dataset.*\r\n",
        "\r\n",
        "the `'driver_gender'` column will be critical to many of our analyses. Because only a small fraction of rows are missing `'driver_gender'`, we'll drop those rows from the dataset."
      ]
    },
    {
      "cell_type": "code",
      "metadata": {
        "colab": {
          "base_uri": "https://localhost:8080/"
        },
        "id": "c8lpkkpHaWXZ",
        "outputId": "5de5216a-f0c8-498f-91fb-0e31ffbdd29f"
      },
      "source": [
        "# Count the number of missing values in each column\r\n",
        "print(ri.isnull().sum())"
      ],
      "execution_count": 9,
      "outputs": [
        {
          "output_type": "stream",
          "text": [
            "stop_date                 0\n",
            "stop_time                 0\n",
            "driver_gender          5205\n",
            "driver_race            5202\n",
            "violation_raw          5202\n",
            "violation              5202\n",
            "search_conducted          0\n",
            "search_type           88434\n",
            "stop_outcome           5202\n",
            "is_arrested            5202\n",
            "stop_duration          5202\n",
            "drugs_related_stop        0\n",
            "district                  0\n",
            "dtype: int64\n"
          ],
          "name": "stdout"
        }
      ]
    },
    {
      "cell_type": "code",
      "metadata": {
        "colab": {
          "base_uri": "https://localhost:8080/"
        },
        "id": "Ts26cdsBbQM0",
        "outputId": "6859aa44-dae5-4e44-d33c-b81d51d0f098"
      },
      "source": [
        "# Drop all rows that are missing 'driver_gender'\r\n",
        "ri.dropna(subset=['driver_gender'], inplace=True)\r\n",
        "\r\n",
        "# Count the number of missing values in each column (again)\r\n",
        "print(ri.isnull().sum())"
      ],
      "execution_count": 10,
      "outputs": [
        {
          "output_type": "stream",
          "text": [
            "stop_date                 0\n",
            "stop_time                 0\n",
            "driver_gender             0\n",
            "driver_race               0\n",
            "violation_raw             0\n",
            "violation                 0\n",
            "search_conducted          0\n",
            "search_type           83229\n",
            "stop_outcome              0\n",
            "is_arrested               0\n",
            "stop_duration             0\n",
            "drugs_related_stop        0\n",
            "district                  0\n",
            "dtype: int64\n"
          ],
          "name": "stdout"
        }
      ]
    },
    {
      "cell_type": "code",
      "metadata": {
        "colab": {
          "base_uri": "https://localhost:8080/"
        },
        "id": "jmWbEcFvbS4B",
        "outputId": "5be02df2-9a83-4f44-bd8a-e4c51ac12108"
      },
      "source": [
        "# Examine the shape of the DataFrame\r\n",
        "print(ri.shape)"
      ],
      "execution_count": 11,
      "outputs": [
        {
          "output_type": "stream",
          "text": [
            "(86536, 13)\n"
          ],
          "name": "stdout"
        }
      ]
    },
    {
      "cell_type": "markdown",
      "metadata": {
        "id": "HaxF_bM-zQcB"
      },
      "source": [
        "## __04 Finding an incorrect data type__"
      ]
    },
    {
      "cell_type": "code",
      "metadata": {
        "colab": {
          "base_uri": "https://localhost:8080/"
        },
        "id": "iBmtmJW3zUCS",
        "outputId": "4d6b5f80-2119-4b85-f0e7-cef06eb2aec3"
      },
      "source": [
        "ri.dtypes"
      ],
      "execution_count": 12,
      "outputs": [
        {
          "output_type": "execute_result",
          "data": {
            "text/plain": [
              "stop_date             object\n",
              "stop_time             object\n",
              "driver_gender         object\n",
              "driver_race           object\n",
              "violation_raw         object\n",
              "violation             object\n",
              "search_conducted        bool\n",
              "search_type           object\n",
              "stop_outcome          object\n",
              "is_arrested           object\n",
              "stop_duration         object\n",
              "drugs_related_stop      bool\n",
              "district              object\n",
              "dtype: object"
            ]
          },
          "metadata": {
            "tags": []
          },
          "execution_count": 12
        }
      ]
    },
    {
      "cell_type": "markdown",
      "metadata": {
        "id": "GpJuS8Ziz1B2"
      },
      "source": [
        "$\\color{green}{\\textbf{Note:}} $ $\\Rightarrow$ `is_arrested` should have a data type of __bool__"
      ]
    },
    {
      "cell_type": "markdown",
      "metadata": {
        "id": "vdI80EyD0bkq"
      },
      "source": [
        "## __05 Fixing a data type__\r\n",
        "\r\n",
        "- `is_arrested column` currently has the __object__ data type. \r\n",
        "\r\n",
        "- we have to change the data type to __bool__, which is the most suitable type for a column containing **True** and **False** values.\r\n",
        "\r\n",
        ">Fixing the data type will enable us to use __mathematical operations__ on the `is_arrested` column that would not be possible otherwise."
      ]
    },
    {
      "cell_type": "code",
      "metadata": {
        "colab": {
          "base_uri": "https://localhost:8080/"
        },
        "id": "91v0rKIu4lbI",
        "outputId": "1638177c-9f14-4ba6-d88e-d8a9fee05421"
      },
      "source": [
        "# Examine the head of the 'is_arrested' column\r\n",
        "print(ri.is_arrested.head())"
      ],
      "execution_count": 13,
      "outputs": [
        {
          "output_type": "stream",
          "text": [
            "0    False\n",
            "1    False\n",
            "2    False\n",
            "3     True\n",
            "4    False\n",
            "Name: is_arrested, dtype: object\n"
          ],
          "name": "stdout"
        }
      ]
    },
    {
      "cell_type": "code",
      "metadata": {
        "colab": {
          "base_uri": "https://localhost:8080/"
        },
        "id": "PrfjvR2y0SO5",
        "outputId": "6d64e25b-9069-4163-edb3-8c5b933ce177"
      },
      "source": [
        "# Change the data type of 'is_arrested' to 'bool'\r\n",
        "ri['is_arrested'] = ri.is_arrested.astype('bool')\r\n",
        "\r\n",
        "# Check the data type of 'is_arrested' \r\n",
        "print(ri.is_arrested.dtype)"
      ],
      "execution_count": 14,
      "outputs": [
        {
          "output_type": "stream",
          "text": [
            "bool\n"
          ],
          "name": "stdout"
        }
      ]
    },
    {
      "cell_type": "markdown",
      "metadata": {
        "id": "t0m0SVFj5Xrg"
      },
      "source": [
        "## __06 Combining object columns__"
      ]
    },
    {
      "cell_type": "markdown",
      "metadata": {
        "id": "ZYdfRO975b4c"
      },
      "source": [
        "- Currently, the date and time of each traffic stop are stored in separate object columns: **stop_date** and **stop_time**.\r\n",
        "\r\n",
        "- we have to **combine** these two columns into a **single column**, and then convert it to **datetime format**. \r\n",
        "\r\n",
        "- This will be beneficial because unlike object columns, datetime columns provide date-based attributes that will make our analysis easier."
      ]
    },
    {
      "cell_type": "code",
      "metadata": {
        "colab": {
          "base_uri": "https://localhost:8080/"
        },
        "id": "r_dILTkI5-tu",
        "outputId": "b6371065-9fea-4399-d1ed-2fd987959eb8"
      },
      "source": [
        "# Concatenate 'stop_date' and 'stop_time' (separated by a space)\r\n",
        "combined = ri.stop_date.str.cat(ri.stop_time, sep=' ')\r\n",
        "\r\n",
        "# Convert 'combined' to datetime format\r\n",
        "ri['stop_datetime'] = pd.to_datetime(combined)\r\n",
        "\r\n",
        "# Examine the data types of the DataFrame\r\n",
        "print(ri.dtypes)"
      ],
      "execution_count": 15,
      "outputs": [
        {
          "output_type": "stream",
          "text": [
            "stop_date                     object\n",
            "stop_time                     object\n",
            "driver_gender                 object\n",
            "driver_race                   object\n",
            "violation_raw                 object\n",
            "violation                     object\n",
            "search_conducted                bool\n",
            "search_type                   object\n",
            "stop_outcome                  object\n",
            "is_arrested                     bool\n",
            "stop_duration                 object\n",
            "drugs_related_stop              bool\n",
            "district                      object\n",
            "stop_datetime         datetime64[ns]\n",
            "dtype: object\n"
          ],
          "name": "stdout"
        }
      ]
    },
    {
      "cell_type": "markdown",
      "metadata": {
        "id": "FT7mk4U9BFLl"
      },
      "source": [
        "## __07 Setting the index__\r\n",
        "\r\n",
        "The last step is to set the `stop_datetime` column as the DataFrame's **index**. By **replacing** the **default index** with a **DatetimeIndex**, this will make it easier to analyze the dataset by date and time, which will come in handy later.\r\n",
        "\r\n",
        "\r\n"
      ]
    },
    {
      "cell_type": "code",
      "metadata": {
        "colab": {
          "base_uri": "https://localhost:8080/"
        },
        "id": "VMb3x3I-BfR1",
        "outputId": "1f248d4f-21cb-48d7-aede-b30469553f21"
      },
      "source": [
        "# Set 'stop_datetime' as the index\r\n",
        "ri.set_index('stop_datetime', inplace=True)\r\n",
        "\r\n",
        "# Examine the index\r\n",
        "ri.index"
      ],
      "execution_count": 16,
      "outputs": [
        {
          "output_type": "execute_result",
          "data": {
            "text/plain": [
              "DatetimeIndex(['2005-01-04 12:55:00', '2005-01-23 23:15:00',\n",
              "               '2005-02-17 04:15:00', '2005-02-20 17:15:00',\n",
              "               '2005-02-24 01:20:00', '2005-03-14 10:00:00',\n",
              "               '2005-03-29 21:55:00', '2005-04-04 21:25:00',\n",
              "               '2005-07-14 11:20:00', '2005-07-14 19:55:00',\n",
              "               ...\n",
              "               '2015-12-31 13:23:00', '2015-12-31 18:59:00',\n",
              "               '2015-12-31 19:13:00', '2015-12-31 20:20:00',\n",
              "               '2015-12-31 20:50:00', '2015-12-31 21:21:00',\n",
              "               '2015-12-31 21:59:00', '2015-12-31 22:04:00',\n",
              "               '2015-12-31 22:09:00', '2015-12-31 22:47:00'],\n",
              "              dtype='datetime64[ns]', name='stop_datetime', length=86536, freq=None)"
            ]
          },
          "metadata": {
            "tags": []
          },
          "execution_count": 16
        }
      ]
    },
    {
      "cell_type": "code",
      "metadata": {
        "colab": {
          "base_uri": "https://localhost:8080/"
        },
        "id": "pnTBOgPsBxMf",
        "outputId": "fb94a3ae-cc17-47d1-f7f8-82cebbcb29c3"
      },
      "source": [
        "# Examine the columns\r\n",
        "ri.columns"
      ],
      "execution_count": 17,
      "outputs": [
        {
          "output_type": "execute_result",
          "data": {
            "text/plain": [
              "Index(['stop_date', 'stop_time', 'driver_gender', 'driver_race',\n",
              "       'violation_raw', 'violation', 'search_conducted', 'search_type',\n",
              "       'stop_outcome', 'is_arrested', 'stop_duration', 'drugs_related_stop',\n",
              "       'district'],\n",
              "      dtype='object')"
            ]
          },
          "metadata": {
            "tags": []
          },
          "execution_count": 17
        }
      ]
    },
    {
      "cell_type": "code",
      "metadata": {
        "colab": {
          "base_uri": "https://localhost:8080/",
          "height": 331
        },
        "id": "qq-Rv9teCYZR",
        "outputId": "22cb3a8a-4219-416a-be3d-351891494a10"
      },
      "source": [
        "ri.head()"
      ],
      "execution_count": 18,
      "outputs": [
        {
          "output_type": "execute_result",
          "data": {
            "text/html": [
              "<div>\n",
              "<style scoped>\n",
              "    .dataframe tbody tr th:only-of-type {\n",
              "        vertical-align: middle;\n",
              "    }\n",
              "\n",
              "    .dataframe tbody tr th {\n",
              "        vertical-align: top;\n",
              "    }\n",
              "\n",
              "    .dataframe thead th {\n",
              "        text-align: right;\n",
              "    }\n",
              "</style>\n",
              "<table border=\"1\" class=\"dataframe\">\n",
              "  <thead>\n",
              "    <tr style=\"text-align: right;\">\n",
              "      <th></th>\n",
              "      <th>stop_date</th>\n",
              "      <th>stop_time</th>\n",
              "      <th>driver_gender</th>\n",
              "      <th>driver_race</th>\n",
              "      <th>violation_raw</th>\n",
              "      <th>violation</th>\n",
              "      <th>search_conducted</th>\n",
              "      <th>search_type</th>\n",
              "      <th>stop_outcome</th>\n",
              "      <th>is_arrested</th>\n",
              "      <th>stop_duration</th>\n",
              "      <th>drugs_related_stop</th>\n",
              "      <th>district</th>\n",
              "    </tr>\n",
              "    <tr>\n",
              "      <th>stop_datetime</th>\n",
              "      <th></th>\n",
              "      <th></th>\n",
              "      <th></th>\n",
              "      <th></th>\n",
              "      <th></th>\n",
              "      <th></th>\n",
              "      <th></th>\n",
              "      <th></th>\n",
              "      <th></th>\n",
              "      <th></th>\n",
              "      <th></th>\n",
              "      <th></th>\n",
              "      <th></th>\n",
              "    </tr>\n",
              "  </thead>\n",
              "  <tbody>\n",
              "    <tr>\n",
              "      <th>2005-01-04 12:55:00</th>\n",
              "      <td>2005-01-04</td>\n",
              "      <td>12:55</td>\n",
              "      <td>M</td>\n",
              "      <td>White</td>\n",
              "      <td>Equipment/Inspection Violation</td>\n",
              "      <td>Equipment</td>\n",
              "      <td>False</td>\n",
              "      <td>NaN</td>\n",
              "      <td>Citation</td>\n",
              "      <td>False</td>\n",
              "      <td>0-15 Min</td>\n",
              "      <td>False</td>\n",
              "      <td>Zone X4</td>\n",
              "    </tr>\n",
              "    <tr>\n",
              "      <th>2005-01-23 23:15:00</th>\n",
              "      <td>2005-01-23</td>\n",
              "      <td>23:15</td>\n",
              "      <td>M</td>\n",
              "      <td>White</td>\n",
              "      <td>Speeding</td>\n",
              "      <td>Speeding</td>\n",
              "      <td>False</td>\n",
              "      <td>NaN</td>\n",
              "      <td>Citation</td>\n",
              "      <td>False</td>\n",
              "      <td>0-15 Min</td>\n",
              "      <td>False</td>\n",
              "      <td>Zone K3</td>\n",
              "    </tr>\n",
              "    <tr>\n",
              "      <th>2005-02-17 04:15:00</th>\n",
              "      <td>2005-02-17</td>\n",
              "      <td>04:15</td>\n",
              "      <td>M</td>\n",
              "      <td>White</td>\n",
              "      <td>Speeding</td>\n",
              "      <td>Speeding</td>\n",
              "      <td>False</td>\n",
              "      <td>NaN</td>\n",
              "      <td>Citation</td>\n",
              "      <td>False</td>\n",
              "      <td>0-15 Min</td>\n",
              "      <td>False</td>\n",
              "      <td>Zone X4</td>\n",
              "    </tr>\n",
              "    <tr>\n",
              "      <th>2005-02-20 17:15:00</th>\n",
              "      <td>2005-02-20</td>\n",
              "      <td>17:15</td>\n",
              "      <td>M</td>\n",
              "      <td>White</td>\n",
              "      <td>Call for Service</td>\n",
              "      <td>Other</td>\n",
              "      <td>False</td>\n",
              "      <td>NaN</td>\n",
              "      <td>Arrest Driver</td>\n",
              "      <td>True</td>\n",
              "      <td>16-30 Min</td>\n",
              "      <td>False</td>\n",
              "      <td>Zone X1</td>\n",
              "    </tr>\n",
              "    <tr>\n",
              "      <th>2005-02-24 01:20:00</th>\n",
              "      <td>2005-02-24</td>\n",
              "      <td>01:20</td>\n",
              "      <td>F</td>\n",
              "      <td>White</td>\n",
              "      <td>Speeding</td>\n",
              "      <td>Speeding</td>\n",
              "      <td>False</td>\n",
              "      <td>NaN</td>\n",
              "      <td>Citation</td>\n",
              "      <td>False</td>\n",
              "      <td>0-15 Min</td>\n",
              "      <td>False</td>\n",
              "      <td>Zone X3</td>\n",
              "    </tr>\n",
              "  </tbody>\n",
              "</table>\n",
              "</div>"
            ],
            "text/plain": [
              "                      stop_date stop_time  ... drugs_related_stop district\n",
              "stop_datetime                              ...                            \n",
              "2005-01-04 12:55:00  2005-01-04     12:55  ...              False  Zone X4\n",
              "2005-01-23 23:15:00  2005-01-23     23:15  ...              False  Zone K3\n",
              "2005-02-17 04:15:00  2005-02-17     04:15  ...              False  Zone X4\n",
              "2005-02-20 17:15:00  2005-02-20     17:15  ...              False  Zone X1\n",
              "2005-02-24 01:20:00  2005-02-24     01:20  ...              False  Zone X3\n",
              "\n",
              "[5 rows x 13 columns]"
            ]
          },
          "metadata": {
            "tags": []
          },
          "execution_count": 18
        }
      ]
    },
    {
      "cell_type": "markdown",
      "metadata": {
        "id": "CkO9ixGjFWwO"
      },
      "source": [
        "--- \r\n",
        "<strong> \r\n",
        "    <h1 align='center'>02 Exploring the relationship between gender and policing (Part - 2)\r\n",
        "    </h1> \r\n",
        "</strong>\r\n",
        "\r\n",
        "---"
      ]
    },
    {
      "cell_type": "markdown",
      "metadata": {
        "id": "iWhdECJ5F3l6"
      },
      "source": [
        "## __08 Examining traffic violations__ \r\n",
        "\r\n",
        "Before comparing the violations being committed by each gender, we should examine the **violations** committed by all drivers to get a baseline understanding of the data.\r\n",
        "\r\n",
        "In this exercise, we'll count the **unique values** in the `violation` column, and then separately express those counts as **proportions**."
      ]
    },
    {
      "cell_type": "code",
      "metadata": {
        "colab": {
          "base_uri": "https://localhost:8080/"
        },
        "id": "U4PgpiGDJoya",
        "outputId": "74392c63-30cd-475e-a1ea-42a6b07858df"
      },
      "source": [
        "ri['violation'].value_counts()"
      ],
      "execution_count": 19,
      "outputs": [
        {
          "output_type": "execute_result",
          "data": {
            "text/plain": [
              "Speeding               48423\n",
              "Moving violation       16224\n",
              "Equipment              10921\n",
              "Other                   4409\n",
              "Registration/plates     3703\n",
              "Seat belt               2856\n",
              "Name: violation, dtype: int64"
            ]
          },
          "metadata": {
            "tags": []
          },
          "execution_count": 19
        }
      ]
    },
    {
      "cell_type": "code",
      "metadata": {
        "colab": {
          "base_uri": "https://localhost:8080/"
        },
        "id": "q2VtLrEsFWJn",
        "outputId": "4afe74bd-dddd-4016-c005-f519e2035bbb"
      },
      "source": [
        "# dot method\r\n",
        "# Count the unique values in 'violation'\r\n",
        "ri.violation.value_counts()"
      ],
      "execution_count": 20,
      "outputs": [
        {
          "output_type": "execute_result",
          "data": {
            "text/plain": [
              "Speeding               48423\n",
              "Moving violation       16224\n",
              "Equipment              10921\n",
              "Other                   4409\n",
              "Registration/plates     3703\n",
              "Seat belt               2856\n",
              "Name: violation, dtype: int64"
            ]
          },
          "metadata": {
            "tags": []
          },
          "execution_count": 20
        }
      ]
    },
    {
      "cell_type": "code",
      "metadata": {
        "colab": {
          "base_uri": "https://localhost:8080/"
        },
        "id": "IpTWjoIkKdrr",
        "outputId": "539761ac-2119-4ee0-fd2d-eb0e60224d4b"
      },
      "source": [
        "# Counting unique values (2)\r\n",
        "print(ri.violation.value_counts().sum()) \r\n",
        "print(ri.shape)"
      ],
      "execution_count": 21,
      "outputs": [
        {
          "output_type": "stream",
          "text": [
            "86536\n",
            "(86536, 13)\n"
          ],
          "name": "stdout"
        }
      ]
    },
    {
      "cell_type": "code",
      "metadata": {
        "colab": {
          "base_uri": "https://localhost:8080/"
        },
        "id": "jIrmfwAvK_hA",
        "outputId": "195367e2-c400-41a0-8e05-b9e98a84ec7d"
      },
      "source": [
        "48423/86536 # Speeding `55.95%`"
      ],
      "execution_count": 22,
      "outputs": [
        {
          "output_type": "execute_result",
          "data": {
            "text/plain": [
              "0.5595705833410373"
            ]
          },
          "metadata": {
            "tags": []
          },
          "execution_count": 22
        }
      ]
    },
    {
      "cell_type": "code",
      "metadata": {
        "colab": {
          "base_uri": "https://localhost:8080/"
        },
        "id": "nesGSmMiGf6N",
        "outputId": "1c687b83-d2c6-45c3-e74c-92c507103507"
      },
      "source": [
        "# Express the counts as proportions\r\n",
        "ri.violation.value_counts(normalize=True)"
      ],
      "execution_count": 23,
      "outputs": [
        {
          "output_type": "execute_result",
          "data": {
            "text/plain": [
              "Speeding               0.559571\n",
              "Moving violation       0.187483\n",
              "Equipment              0.126202\n",
              "Other                  0.050950\n",
              "Registration/plates    0.042791\n",
              "Seat belt              0.033004\n",
              "Name: violation, dtype: float64"
            ]
          },
          "metadata": {
            "tags": []
          },
          "execution_count": 23
        }
      ]
    },
    {
      "cell_type": "markdown",
      "metadata": {
        "id": "cAk97dPvLvkS"
      },
      "source": [
        "More than half of all violations are for **speeding**, followed by other moving violations and equipment violations."
      ]
    },
    {
      "cell_type": "markdown",
      "metadata": {
        "id": "Aa8rNf2eL212"
      },
      "source": [
        "## __09 Comparing violations by gender__"
      ]
    },
    {
      "cell_type": "markdown",
      "metadata": {
        "id": "jHQr_c1fR-mX"
      },
      "source": [
        "The question we're trying to answer is whether male and female drivers tend to commit different types of traffic violations.\r\n",
        "\r\n",
        "In this exercise, we'll first create a DataFrame for each gender, and then analyze the violations in each DataFrame separately."
      ]
    },
    {
      "cell_type": "code",
      "metadata": {
        "id": "2crHLgtgLX_l"
      },
      "source": [
        "# Create a DataFrame of male drivers\r\n",
        "male = ri[ri.driver_gender == 'M']\r\n",
        "\r\n",
        "# Create a DataFrame of female drivers\r\n",
        "female = ri[ri.driver_gender == 'F']"
      ],
      "execution_count": 24,
      "outputs": []
    },
    {
      "cell_type": "code",
      "metadata": {
        "colab": {
          "base_uri": "https://localhost:8080/"
        },
        "id": "qK8WyyjfToNB",
        "outputId": "fa44b0ae-4d89-47b4-f22c-6f2d17facaea"
      },
      "source": [
        "\r\n",
        "# Compute the violations by male drivers (as proportions)\r\n",
        "print(male.violation.value_counts(normalize=True))"
      ],
      "execution_count": 25,
      "outputs": [
        {
          "output_type": "stream",
          "text": [
            "Speeding               0.522243\n",
            "Moving violation       0.206144\n",
            "Equipment              0.134158\n",
            "Other                  0.058985\n",
            "Registration/plates    0.042175\n",
            "Seat belt              0.036296\n",
            "Name: violation, dtype: float64\n"
          ],
          "name": "stdout"
        }
      ]
    },
    {
      "cell_type": "code",
      "metadata": {
        "colab": {
          "base_uri": "https://localhost:8080/"
        },
        "id": "i0LLqz2NTlyD",
        "outputId": "25403529-1583-4ca6-f6a0-4715738ebfb6"
      },
      "source": [
        "# Compute the violations by female drivers (as proportions)\r\n",
        "print(female.violation.value_counts(normalize=True))"
      ],
      "execution_count": 26,
      "outputs": [
        {
          "output_type": "stream",
          "text": [
            "Speeding               0.658114\n",
            "Moving violation       0.138218\n",
            "Equipment              0.105199\n",
            "Registration/plates    0.044418\n",
            "Other                  0.029738\n",
            "Seat belt              0.024312\n",
            "Name: violation, dtype: float64\n"
          ],
          "name": "stdout"
        }
      ]
    },
    {
      "cell_type": "markdown",
      "metadata": {
        "id": "hiNmuk66UWE9"
      },
      "source": [
        "## __10 Filtering by multiple conditions__"
      ]
    },
    {
      "cell_type": "markdown",
      "metadata": {
        "id": "FxiNpIdJUbNw"
      },
      "source": [
        "Which one of these commands would filter the `ri` DataFrame to only include female drivers **who were stopped for a speeding violation**?"
      ]
    },
    {
      "cell_type": "code",
      "metadata": {
        "colab": {
          "base_uri": "https://localhost:8080/",
          "height": 623
        },
        "id": "p31LJkssUZzj",
        "outputId": "12dbb9fc-d6f3-4ca2-8bde-6ba545cef3d8"
      },
      "source": [
        "female_and_speeding = ri[(ri.driver_gender == 'F') & (ri.violation == 'Speeding')]\r\n",
        "female_and_speeding"
      ],
      "execution_count": 27,
      "outputs": [
        {
          "output_type": "execute_result",
          "data": {
            "text/html": [
              "<div>\n",
              "<style scoped>\n",
              "    .dataframe tbody tr th:only-of-type {\n",
              "        vertical-align: middle;\n",
              "    }\n",
              "\n",
              "    .dataframe tbody tr th {\n",
              "        vertical-align: top;\n",
              "    }\n",
              "\n",
              "    .dataframe thead th {\n",
              "        text-align: right;\n",
              "    }\n",
              "</style>\n",
              "<table border=\"1\" class=\"dataframe\">\n",
              "  <thead>\n",
              "    <tr style=\"text-align: right;\">\n",
              "      <th></th>\n",
              "      <th>stop_date</th>\n",
              "      <th>stop_time</th>\n",
              "      <th>driver_gender</th>\n",
              "      <th>driver_race</th>\n",
              "      <th>violation_raw</th>\n",
              "      <th>violation</th>\n",
              "      <th>search_conducted</th>\n",
              "      <th>search_type</th>\n",
              "      <th>stop_outcome</th>\n",
              "      <th>is_arrested</th>\n",
              "      <th>stop_duration</th>\n",
              "      <th>drugs_related_stop</th>\n",
              "      <th>district</th>\n",
              "    </tr>\n",
              "    <tr>\n",
              "      <th>stop_datetime</th>\n",
              "      <th></th>\n",
              "      <th></th>\n",
              "      <th></th>\n",
              "      <th></th>\n",
              "      <th></th>\n",
              "      <th></th>\n",
              "      <th></th>\n",
              "      <th></th>\n",
              "      <th></th>\n",
              "      <th></th>\n",
              "      <th></th>\n",
              "      <th></th>\n",
              "      <th></th>\n",
              "    </tr>\n",
              "  </thead>\n",
              "  <tbody>\n",
              "    <tr>\n",
              "      <th>2005-02-24 01:20:00</th>\n",
              "      <td>2005-02-24</td>\n",
              "      <td>01:20</td>\n",
              "      <td>F</td>\n",
              "      <td>White</td>\n",
              "      <td>Speeding</td>\n",
              "      <td>Speeding</td>\n",
              "      <td>False</td>\n",
              "      <td>NaN</td>\n",
              "      <td>Citation</td>\n",
              "      <td>False</td>\n",
              "      <td>0-15 Min</td>\n",
              "      <td>False</td>\n",
              "      <td>Zone X3</td>\n",
              "    </tr>\n",
              "    <tr>\n",
              "      <th>2005-03-14 10:00:00</th>\n",
              "      <td>2005-03-14</td>\n",
              "      <td>10:00</td>\n",
              "      <td>F</td>\n",
              "      <td>White</td>\n",
              "      <td>Speeding</td>\n",
              "      <td>Speeding</td>\n",
              "      <td>False</td>\n",
              "      <td>NaN</td>\n",
              "      <td>Citation</td>\n",
              "      <td>False</td>\n",
              "      <td>0-15 Min</td>\n",
              "      <td>False</td>\n",
              "      <td>Zone K3</td>\n",
              "    </tr>\n",
              "    <tr>\n",
              "      <th>2005-07-14 11:20:00</th>\n",
              "      <td>2005-07-14</td>\n",
              "      <td>11:20</td>\n",
              "      <td>F</td>\n",
              "      <td>White</td>\n",
              "      <td>Speeding</td>\n",
              "      <td>Speeding</td>\n",
              "      <td>False</td>\n",
              "      <td>NaN</td>\n",
              "      <td>Citation</td>\n",
              "      <td>False</td>\n",
              "      <td>0-15 Min</td>\n",
              "      <td>False</td>\n",
              "      <td>Zone X4</td>\n",
              "    </tr>\n",
              "    <tr>\n",
              "      <th>2005-07-18 19:30:00</th>\n",
              "      <td>2005-07-18</td>\n",
              "      <td>19:30</td>\n",
              "      <td>F</td>\n",
              "      <td>White</td>\n",
              "      <td>Speeding</td>\n",
              "      <td>Speeding</td>\n",
              "      <td>False</td>\n",
              "      <td>NaN</td>\n",
              "      <td>Citation</td>\n",
              "      <td>False</td>\n",
              "      <td>0-15 Min</td>\n",
              "      <td>False</td>\n",
              "      <td>Zone K3</td>\n",
              "    </tr>\n",
              "    <tr>\n",
              "      <th>2005-07-24 20:10:00</th>\n",
              "      <td>2005-07-24</td>\n",
              "      <td>20:10</td>\n",
              "      <td>F</td>\n",
              "      <td>White</td>\n",
              "      <td>Speeding</td>\n",
              "      <td>Speeding</td>\n",
              "      <td>False</td>\n",
              "      <td>NaN</td>\n",
              "      <td>Citation</td>\n",
              "      <td>False</td>\n",
              "      <td>0-15 Min</td>\n",
              "      <td>False</td>\n",
              "      <td>Zone K3</td>\n",
              "    </tr>\n",
              "    <tr>\n",
              "      <th>...</th>\n",
              "      <td>...</td>\n",
              "      <td>...</td>\n",
              "      <td>...</td>\n",
              "      <td>...</td>\n",
              "      <td>...</td>\n",
              "      <td>...</td>\n",
              "      <td>...</td>\n",
              "      <td>...</td>\n",
              "      <td>...</td>\n",
              "      <td>...</td>\n",
              "      <td>...</td>\n",
              "      <td>...</td>\n",
              "      <td>...</td>\n",
              "    </tr>\n",
              "    <tr>\n",
              "      <th>2015-12-30 14:09:00</th>\n",
              "      <td>2015-12-30</td>\n",
              "      <td>14:09</td>\n",
              "      <td>F</td>\n",
              "      <td>White</td>\n",
              "      <td>Speeding</td>\n",
              "      <td>Speeding</td>\n",
              "      <td>False</td>\n",
              "      <td>NaN</td>\n",
              "      <td>Warning</td>\n",
              "      <td>False</td>\n",
              "      <td>0-15 Min</td>\n",
              "      <td>False</td>\n",
              "      <td>Zone X4</td>\n",
              "    </tr>\n",
              "    <tr>\n",
              "      <th>2015-12-30 19:21:00</th>\n",
              "      <td>2015-12-30</td>\n",
              "      <td>19:21</td>\n",
              "      <td>F</td>\n",
              "      <td>White</td>\n",
              "      <td>Speeding</td>\n",
              "      <td>Speeding</td>\n",
              "      <td>False</td>\n",
              "      <td>NaN</td>\n",
              "      <td>Warning</td>\n",
              "      <td>False</td>\n",
              "      <td>0-15 Min</td>\n",
              "      <td>False</td>\n",
              "      <td>Zone X1</td>\n",
              "    </tr>\n",
              "    <tr>\n",
              "      <th>2015-12-30 23:26:00</th>\n",
              "      <td>2015-12-30</td>\n",
              "      <td>23:26</td>\n",
              "      <td>F</td>\n",
              "      <td>Hispanic</td>\n",
              "      <td>Speeding</td>\n",
              "      <td>Speeding</td>\n",
              "      <td>False</td>\n",
              "      <td>NaN</td>\n",
              "      <td>Citation</td>\n",
              "      <td>False</td>\n",
              "      <td>0-15 Min</td>\n",
              "      <td>False</td>\n",
              "      <td>Zone X4</td>\n",
              "    </tr>\n",
              "    <tr>\n",
              "      <th>2015-12-31 07:31:00</th>\n",
              "      <td>2015-12-31</td>\n",
              "      <td>07:31</td>\n",
              "      <td>F</td>\n",
              "      <td>White</td>\n",
              "      <td>Speeding</td>\n",
              "      <td>Speeding</td>\n",
              "      <td>False</td>\n",
              "      <td>NaN</td>\n",
              "      <td>Citation</td>\n",
              "      <td>False</td>\n",
              "      <td>0-15 Min</td>\n",
              "      <td>False</td>\n",
              "      <td>Zone X1</td>\n",
              "    </tr>\n",
              "    <tr>\n",
              "      <th>2015-12-31 21:59:00</th>\n",
              "      <td>2015-12-31</td>\n",
              "      <td>21:59</td>\n",
              "      <td>F</td>\n",
              "      <td>White</td>\n",
              "      <td>Speeding</td>\n",
              "      <td>Speeding</td>\n",
              "      <td>False</td>\n",
              "      <td>NaN</td>\n",
              "      <td>Citation</td>\n",
              "      <td>False</td>\n",
              "      <td>0-15 Min</td>\n",
              "      <td>False</td>\n",
              "      <td>Zone K3</td>\n",
              "    </tr>\n",
              "  </tbody>\n",
              "</table>\n",
              "<p>15646 rows × 13 columns</p>\n",
              "</div>"
            ],
            "text/plain": [
              "                      stop_date stop_time  ... drugs_related_stop district\n",
              "stop_datetime                              ...                            \n",
              "2005-02-24 01:20:00  2005-02-24     01:20  ...              False  Zone X3\n",
              "2005-03-14 10:00:00  2005-03-14     10:00  ...              False  Zone K3\n",
              "2005-07-14 11:20:00  2005-07-14     11:20  ...              False  Zone X4\n",
              "2005-07-18 19:30:00  2005-07-18     19:30  ...              False  Zone K3\n",
              "2005-07-24 20:10:00  2005-07-24     20:10  ...              False  Zone K3\n",
              "...                         ...       ...  ...                ...      ...\n",
              "2015-12-30 14:09:00  2015-12-30     14:09  ...              False  Zone X4\n",
              "2015-12-30 19:21:00  2015-12-30     19:21  ...              False  Zone X1\n",
              "2015-12-30 23:26:00  2015-12-30     23:26  ...              False  Zone X4\n",
              "2015-12-31 07:31:00  2015-12-31     07:31  ...              False  Zone X1\n",
              "2015-12-31 21:59:00  2015-12-31     21:59  ...              False  Zone K3\n",
              "\n",
              "[15646 rows x 13 columns]"
            ]
          },
          "metadata": {
            "tags": []
          },
          "execution_count": 27
        }
      ]
    },
    {
      "cell_type": "markdown",
      "metadata": {
        "id": "yUjGQRwUVY3C"
      },
      "source": [
        "## __11 Comparing speeding outcomes by gender__"
      ]
    },
    {
      "cell_type": "markdown",
      "metadata": {
        "id": "gmDSZ1JnVelz"
      },
      "source": [
        "When a driver is pulled over for `speeding`, **many people believe that gender has an impact on whether the driver will receive a ticket or a warning**. Can you find evidence of this in the dataset?\r\n",
        "\r\n",
        "First, you'll create two DataFrames of drivers who were stopped for speeding: one containing females and the other containing males.\r\n",
        "\r\n",
        "Then, for each gender, you'll use the `stop_outcome` column to calculate what percentage of stops resulted in a \"Citation\" (meaning a ticket) versus a \"Warning\"."
      ]
    },
    {
      "cell_type": "code",
      "metadata": {
        "colab": {
          "base_uri": "https://localhost:8080/"
        },
        "id": "5z2l77ySVWUz",
        "outputId": "4b73419d-493c-419c-acc9-1941f057ef6c"
      },
      "source": [
        "# Create a DataFrame of female drivers stopped for speeding\r\n",
        "female_and_speeding = ri[(ri.driver_gender == 'F') & (ri.violation == 'Speeding')]\r\n",
        "\r\n",
        "# Compute the stop outcomes for female drivers (as proportions)\r\n",
        "print(female_and_speeding.stop_outcome.value_counts(normalize=True))"
      ],
      "execution_count": 28,
      "outputs": [
        {
          "output_type": "stream",
          "text": [
            "Citation            0.952192\n",
            "Warning             0.040074\n",
            "Arrest Driver       0.005752\n",
            "N/D                 0.000959\n",
            "Arrest Passenger    0.000639\n",
            "No Action           0.000383\n",
            "Name: stop_outcome, dtype: float64\n"
          ],
          "name": "stdout"
        }
      ]
    },
    {
      "cell_type": "code",
      "metadata": {
        "colab": {
          "base_uri": "https://localhost:8080/"
        },
        "id": "NkHQvIjzYHc3",
        "outputId": "04bba5a0-b0c1-42b4-ab86-aa6519be200e"
      },
      "source": [
        "# Create a DataFrame of male drivers stopped for speeding\r\n",
        "male_and_speeding = ri[(ri.driver_gender == 'M') & (ri.violation == 'Speeding')]\r\n",
        "\r\n",
        "# Compute the stop outcomes for male drivers (as proportions)\r\n",
        "print(male_and_speeding.stop_outcome.value_counts(normalize=True))"
      ],
      "execution_count": 29,
      "outputs": [
        {
          "output_type": "stream",
          "text": [
            "Citation            0.944595\n",
            "Warning             0.036184\n",
            "Arrest Driver       0.015895\n",
            "Arrest Passenger    0.001281\n",
            "No Action           0.001068\n",
            "N/D                 0.000976\n",
            "Name: stop_outcome, dtype: float64\n"
          ],
          "name": "stdout"
        }
      ]
    },
    {
      "cell_type": "markdown",
      "metadata": {
        "id": "uSiB9_tjYTlT"
      },
      "source": [
        "$\\color{red}{\\textbf{Interpretation:}}$\r\n",
        "\r\n",
        "The numbers are similar for **males** and **females**: about **95%** of stops for speeding result in a ticket. Thus, __the data fails to show that gender has an impact on who gets a ticket for speeding__."
      ]
    },
    {
      "cell_type": "code",
      "metadata": {
        "colab": {
          "base_uri": "https://localhost:8080/"
        },
        "id": "HzRuWpOnmTIp",
        "outputId": "112e29a4-30bc-4c7f-f781-84f9d402c25b"
      },
      "source": [
        "# Filtering by multiple conditions (1)\r\n",
        "female = ri[ri.driver_gender == 'F']\r\n",
        "female.shape"
      ],
      "execution_count": 30,
      "outputs": [
        {
          "output_type": "execute_result",
          "data": {
            "text/plain": [
              "(23774, 13)"
            ]
          },
          "metadata": {
            "tags": []
          },
          "execution_count": 30
        }
      ]
    },
    {
      "cell_type": "code",
      "metadata": {
        "colab": {
          "base_uri": "https://localhost:8080/"
        },
        "id": "9Ckrja1Dmb8v",
        "outputId": "e924346f-bc66-435c-a4af-005b876d71de"
      },
      "source": [
        "# Filtering by multiple conditions (2)\r\n",
        "# Only includes female drivers who were arrested\r\n",
        "female_and_arrested = ri[(ri.driver_gender == 'F') &(ri.is_arrested == True)]\r\n",
        "female_and_arrested.shape"
      ],
      "execution_count": 31,
      "outputs": [
        {
          "output_type": "execute_result",
          "data": {
            "text/plain": [
              "(669, 13)"
            ]
          },
          "metadata": {
            "tags": []
          },
          "execution_count": 31
        }
      ]
    },
    {
      "cell_type": "code",
      "metadata": {
        "colab": {
          "base_uri": "https://localhost:8080/"
        },
        "id": "6Yxv9FImmonG",
        "outputId": "ba1e3710-2670-45ac-e2ac-074351c707b9"
      },
      "source": [
        "# Filtering by multiple conditions (3)\r\n",
        "female_or_arrested = ri[(ri.driver_gender == 'F') | (ri.is_arrested == True)]\r\n",
        "female_or_arrested.shape"
      ],
      "execution_count": 32,
      "outputs": [
        {
          "output_type": "execute_result",
          "data": {
            "text/plain": [
              "(26183, 13)"
            ]
          },
          "metadata": {
            "tags": []
          },
          "execution_count": 32
        }
      ]
    },
    {
      "cell_type": "markdown",
      "metadata": {
        "id": "CbtUwDazm3wL"
      },
      "source": [
        "- Includes all females\r\n",
        "- Includes all drivers who were arrested"
      ]
    },
    {
      "cell_type": "markdown",
      "metadata": {
        "id": "UuhjCSHBlK5A"
      },
      "source": [
        "## __12 Comparing stop outcomes for two groups__"
      ]
    },
    {
      "cell_type": "code",
      "metadata": {
        "colab": {
          "base_uri": "https://localhost:8080/"
        },
        "id": "0tHI6eeEY5m3",
        "outputId": "3ec299a3-738d-47c1-cb17-718af7f584c2"
      },
      "source": [
        "# driver race --> White\r\n",
        "white = ri[ri.driver_race == 'White']\r\n",
        "white.stop_outcome.value_counts(normalize=True)"
      ],
      "execution_count": 33,
      "outputs": [
        {
          "output_type": "execute_result",
          "data": {
            "text/plain": [
              "Citation            0.902263\n",
              "Warning             0.057508\n",
              "Arrest Driver       0.024018\n",
              "No Action           0.007031\n",
              "N/D                 0.006433\n",
              "Arrest Passenger    0.002748\n",
              "Name: stop_outcome, dtype: float64"
            ]
          },
          "metadata": {
            "tags": []
          },
          "execution_count": 33
        }
      ]
    },
    {
      "cell_type": "code",
      "metadata": {
        "colab": {
          "base_uri": "https://localhost:8080/"
        },
        "id": "ZZ9EtsrelZ7A",
        "outputId": "7d7bdedc-5b78-4df9-b3ad-25442a51f189"
      },
      "source": [
        "# driver race --> Black\r\n",
        "black = ri[ri.driver_race =='Black']\r\n",
        "black.stop_outcome.value_counts(normalize=True)"
      ],
      "execution_count": 34,
      "outputs": [
        {
          "output_type": "execute_result",
          "data": {
            "text/plain": [
              "Citation            0.857224\n",
              "Warning             0.065120\n",
              "Arrest Driver       0.054294\n",
              "N/D                 0.008547\n",
              "Arrest Passenger    0.008303\n",
              "No Action           0.006512\n",
              "Name: stop_outcome, dtype: float64"
            ]
          },
          "metadata": {
            "tags": []
          },
          "execution_count": 34
        }
      ]
    },
    {
      "cell_type": "code",
      "metadata": {
        "colab": {
          "base_uri": "https://localhost:8080/"
        },
        "id": "wvfqj_3ilGQT",
        "outputId": "ca684176-5939-409b-af97-497b5c3d182d"
      },
      "source": [
        "# driver race --> Asian\r\n",
        "asian = ri[ri.driver_race =='Asian']\r\n",
        "asian.stop_outcome.value_counts(normalize=True)"
      ],
      "execution_count": 35,
      "outputs": [
        {
          "output_type": "execute_result",
          "data": {
            "text/plain": [
              "Citation            0.922980\n",
              "Warning             0.045207\n",
              "Arrest Driver       0.017581\n",
              "No Action           0.008372\n",
              "N/D                 0.004186\n",
              "Arrest Passenger    0.001674\n",
              "Name: stop_outcome, dtype: float64"
            ]
          },
          "metadata": {
            "tags": []
          },
          "execution_count": 35
        }
      ]
    },
    {
      "cell_type": "markdown",
      "metadata": {
        "id": "DqnaQTctnBbT"
      },
      "source": [
        "## __13 Does gender affect whose vehicle is searched?__"
      ]
    },
    {
      "cell_type": "markdown",
      "metadata": {
        "id": "yXrH7ZSlnjTX"
      },
      "source": [
        "**Mean** of **Boolean Series** represents percentage of True values"
      ]
    },
    {
      "cell_type": "code",
      "metadata": {
        "colab": {
          "base_uri": "https://localhost:8080/"
        },
        "id": "Kpixam7knb_f",
        "outputId": "b4b88994-6e49-4053-9f11-cb8feb38c929"
      },
      "source": [
        "ri.isnull().sum()"
      ],
      "execution_count": 36,
      "outputs": [
        {
          "output_type": "execute_result",
          "data": {
            "text/plain": [
              "stop_date                 0\n",
              "stop_time                 0\n",
              "driver_gender             0\n",
              "driver_race               0\n",
              "violation_raw             0\n",
              "violation                 0\n",
              "search_conducted          0\n",
              "search_type           83229\n",
              "stop_outcome              0\n",
              "is_arrested               0\n",
              "stop_duration             0\n",
              "drugs_related_stop        0\n",
              "district                  0\n",
              "dtype: int64"
            ]
          },
          "metadata": {
            "tags": []
          },
          "execution_count": 36
        }
      ]
    },
    {
      "cell_type": "markdown",
      "metadata": {
        "id": "l4Pn7piRrp41"
      },
      "source": [
        "### __Taking the mean of a Boolean Series__"
      ]
    },
    {
      "cell_type": "code",
      "metadata": {
        "colab": {
          "base_uri": "https://localhost:8080/"
        },
        "id": "IpEIsc0Rrs6X",
        "outputId": "a062fd57-bae8-4ad1-aa87-ff17d88085f4"
      },
      "source": [
        "ri.is_arrested.value_counts(normalize=True)"
      ],
      "execution_count": 37,
      "outputs": [
        {
          "output_type": "execute_result",
          "data": {
            "text/plain": [
              "False    0.964431\n",
              "True     0.035569\n",
              "Name: is_arrested, dtype: float64"
            ]
          },
          "metadata": {
            "tags": []
          },
          "execution_count": 37
        }
      ]
    },
    {
      "cell_type": "code",
      "metadata": {
        "colab": {
          "base_uri": "https://localhost:8080/"
        },
        "id": "E-COdFDGrw5E",
        "outputId": "f968a1de-a18c-41fb-d57f-3c58d65fa0c8"
      },
      "source": [
        "ri.is_arrested.mean()"
      ],
      "execution_count": 38,
      "outputs": [
        {
          "output_type": "execute_result",
          "data": {
            "text/plain": [
              "0.0355690117407784"
            ]
          },
          "metadata": {
            "tags": []
          },
          "execution_count": 38
        }
      ]
    },
    {
      "cell_type": "code",
      "metadata": {
        "colab": {
          "base_uri": "https://localhost:8080/"
        },
        "id": "QIq8hh6Mryyt",
        "outputId": "5a05e6b7-08a9-437c-81ea-4ab672da11f5"
      },
      "source": [
        "ri.is_arrested.dtype"
      ],
      "execution_count": 39,
      "outputs": [
        {
          "output_type": "execute_result",
          "data": {
            "text/plain": [
              "dtype('bool')"
            ]
          },
          "metadata": {
            "tags": []
          },
          "execution_count": 39
        }
      ]
    },
    {
      "cell_type": "markdown",
      "metadata": {
        "id": "DlSc2rrmr7Rx"
      },
      "source": [
        "### __Comparing groups using groupby (1)__"
      ]
    },
    {
      "cell_type": "code",
      "metadata": {
        "colab": {
          "base_uri": "https://localhost:8080/"
        },
        "id": "MoZBO7GOr9IJ",
        "outputId": "3ba71f44-6523-4c98-c66d-43178fe1a86b"
      },
      "source": [
        "# Study the arrest rate by police district\r\n",
        "ri.district.unique()"
      ],
      "execution_count": 40,
      "outputs": [
        {
          "output_type": "execute_result",
          "data": {
            "text/plain": [
              "array(['Zone X4', 'Zone K3', 'Zone X1', 'Zone X3', 'Zone K1', 'Zone K2'],\n",
              "      dtype=object)"
            ]
          },
          "metadata": {
            "tags": []
          },
          "execution_count": 40
        }
      ]
    },
    {
      "cell_type": "code",
      "metadata": {
        "colab": {
          "base_uri": "https://localhost:8080/"
        },
        "id": "ch8BQhHWsECo",
        "outputId": "3933f07b-16ae-4e30-dda7-1d825f024271"
      },
      "source": [
        "ri[ri.district == 'Zone K1'].is_arrested.mean()"
      ],
      "execution_count": 41,
      "outputs": [
        {
          "output_type": "execute_result",
          "data": {
            "text/plain": [
              "0.024349083895853423"
            ]
          },
          "metadata": {
            "tags": []
          },
          "execution_count": 41
        }
      ]
    },
    {
      "cell_type": "markdown",
      "metadata": {
        "id": "-B1KpPrIsI0m"
      },
      "source": [
        "### __Comparing groups using groupby (2)__"
      ]
    },
    {
      "cell_type": "code",
      "metadata": {
        "colab": {
          "base_uri": "https://localhost:8080/"
        },
        "id": "P1TeOiM5sKLt",
        "outputId": "cf18c74f-d222-4db2-f712-cbc2c9fc4fd5"
      },
      "source": [
        "ri[ri.district == 'Zone K2'].is_arrested.mean()"
      ],
      "execution_count": 42,
      "outputs": [
        {
          "output_type": "execute_result",
          "data": {
            "text/plain": [
              "0.030800588834786546"
            ]
          },
          "metadata": {
            "tags": []
          },
          "execution_count": 42
        }
      ]
    },
    {
      "cell_type": "code",
      "metadata": {
        "colab": {
          "base_uri": "https://localhost:8080/"
        },
        "id": "XCmxQmGFsPkg",
        "outputId": "5adffcbb-63ad-4cb4-c9d1-debdc7d49cc4"
      },
      "source": [
        "ri.groupby('district').is_arrested.mean()"
      ],
      "execution_count": 43,
      "outputs": [
        {
          "output_type": "execute_result",
          "data": {
            "text/plain": [
              "district\n",
              "Zone K1    0.024349\n",
              "Zone K2    0.030801\n",
              "Zone K3    0.032311\n",
              "Zone X1    0.023494\n",
              "Zone X3    0.034871\n",
              "Zone X4    0.048038\n",
              "Name: is_arrested, dtype: float64"
            ]
          },
          "metadata": {
            "tags": []
          },
          "execution_count": 43
        }
      ]
    },
    {
      "cell_type": "markdown",
      "metadata": {
        "id": "_1pQfBZDsgn1"
      },
      "source": [
        "### __Grouping by multiple categories__"
      ]
    },
    {
      "cell_type": "code",
      "metadata": {
        "colab": {
          "base_uri": "https://localhost:8080/"
        },
        "id": "28MSnhLKs4Ye",
        "outputId": "ddb94e5f-6954-498c-d384-54ebea9a9e8d"
      },
      "source": [
        "ri.groupby(['district', 'driver_gender']).is_arrested.mean()"
      ],
      "execution_count": 44,
      "outputs": [
        {
          "output_type": "execute_result",
          "data": {
            "text/plain": [
              "district  driver_gender\n",
              "Zone K1   F                0.019169\n",
              "          M                0.026588\n",
              "Zone K2   F                0.022196\n",
              "          M                0.034285\n",
              "Zone K3   F                0.025156\n",
              "          M                0.034961\n",
              "Zone X1   F                0.019646\n",
              "          M                0.024563\n",
              "Zone X3   F                0.027188\n",
              "          M                0.038166\n",
              "Zone X4   F                0.042149\n",
              "          M                0.049956\n",
              "Name: is_arrested, dtype: float64"
            ]
          },
          "metadata": {
            "tags": []
          },
          "execution_count": 44
        }
      ]
    },
    {
      "cell_type": "code",
      "metadata": {
        "colab": {
          "base_uri": "https://localhost:8080/"
        },
        "id": "NmmNWII6s6jN",
        "outputId": "904c978d-2768-4777-db9a-eb9bb87bd642"
      },
      "source": [
        "ri.groupby(['driver_gender', 'district']).is_arrested.mean()"
      ],
      "execution_count": 45,
      "outputs": [
        {
          "output_type": "execute_result",
          "data": {
            "text/plain": [
              "driver_gender  district\n",
              "F              Zone K1     0.019169\n",
              "               Zone K2     0.022196\n",
              "               Zone K3     0.025156\n",
              "               Zone X1     0.019646\n",
              "               Zone X3     0.027188\n",
              "               Zone X4     0.042149\n",
              "M              Zone K1     0.026588\n",
              "               Zone K2     0.034285\n",
              "               Zone K3     0.034961\n",
              "               Zone X1     0.024563\n",
              "               Zone X3     0.038166\n",
              "               Zone X4     0.049956\n",
              "Name: is_arrested, dtype: float64"
            ]
          },
          "metadata": {
            "tags": []
          },
          "execution_count": 45
        }
      ]
    },
    {
      "cell_type": "markdown",
      "metadata": {
        "id": "7-Ck7pJgtOT-"
      },
      "source": [
        "## __14 Calculating the search rate__\r\n",
        "\r\n",
        "During a traffic stop, the police officer sometimes conducts a search of the vehicle.\r\n",
        "\r\n",
        "In this exercise, you'll calculate the percentage of all stops in the ri DataFrame that result in a vehicle search, also known as the search rate."
      ]
    },
    {
      "cell_type": "code",
      "metadata": {
        "colab": {
          "base_uri": "https://localhost:8080/"
        },
        "id": "rDx0RdmotNs5",
        "outputId": "f1a8626e-be7c-4e9c-935c-ddc1d40eb98d"
      },
      "source": [
        "# Check the data type of 'search_conducted'\r\n",
        "print(ri.search_conducted.dtype)\r\n",
        "\r\n",
        "# Calculate the search rate by counting the values\r\n",
        "print(ri.search_conducted.value_counts(normalize=True))\r\n",
        "\r\n",
        "# Calculate the search rate by taking the mean\r\n",
        "print(ri.search_conducted.mean())"
      ],
      "execution_count": 46,
      "outputs": [
        {
          "output_type": "stream",
          "text": [
            "bool\n",
            "False    0.961785\n",
            "True     0.038215\n",
            "Name: search_conducted, dtype: float64\n",
            "0.0382153092354627\n"
          ],
          "name": "stdout"
        }
      ]
    },
    {
      "cell_type": "markdown",
      "metadata": {
        "id": "2c2V0La1yhur"
      },
      "source": [
        "$\\color{red}{\\textbf{Interpretation:}}$\r\n",
        "\r\n",
        "It looks like the search rate is about __3.8%__."
      ]
    },
    {
      "cell_type": "markdown",
      "metadata": {
        "id": "GuEQdeFfyxdC"
      },
      "source": [
        "### __Comparing search rates by gender__"
      ]
    },
    {
      "cell_type": "markdown",
      "metadata": {
        "id": "8ahnrwoWy95E"
      },
      "source": [
        "Remember that the vehicle **search rate **across all stops is about __3.8%.__\r\n",
        "\r\n",
        "First, we'll filter the DataFrame by gender and calculate the **search rate** for each group separately. Then, you'll perform the same calculation for both genders at once using a `.groupby()`."
      ]
    },
    {
      "cell_type": "markdown",
      "metadata": {
        "id": "pyiQWafa02_K"
      },
      "source": [
        "__Instructions:__\r\n",
        "\r\n",
        "- Filter the DataFrame to only include female drivers, and then calculate the search rate by taking the mean of search_conducted.\r\n",
        "\r\n",
        "- Filter the DataFrame to only include male drivers, and then repeat the search rate calculation.\r\n",
        "\r\n",
        "- Group by driver gender to calculate the search rate for both groups simultaneously. (It should match the previous results.)"
      ]
    },
    {
      "cell_type": "code",
      "metadata": {
        "colab": {
          "base_uri": "https://localhost:8080/"
        },
        "id": "hsFFBxD5ysU0",
        "outputId": "4fe82d03-fd80-4bc2-f727-c1abf180c6ef"
      },
      "source": [
        "# Calculate the search rate for female drivers\r\n",
        "print(ri[ri.driver_gender == 'F'].search_conducted.mean())"
      ],
      "execution_count": 47,
      "outputs": [
        {
          "output_type": "stream",
          "text": [
            "0.019180617481282074\n"
          ],
          "name": "stdout"
        }
      ]
    },
    {
      "cell_type": "code",
      "metadata": {
        "colab": {
          "base_uri": "https://localhost:8080/"
        },
        "id": "nf-arLs11HW5",
        "outputId": "94b2aa7b-b086-4c81-e734-0caa7913713a"
      },
      "source": [
        "# Calculate the search rate for male drivers\r\n",
        "print(ri[ri.driver_gender == 'M'].search_conducted.mean())"
      ],
      "execution_count": 48,
      "outputs": [
        {
          "output_type": "stream",
          "text": [
            "0.04542557598546892\n"
          ],
          "name": "stdout"
        }
      ]
    },
    {
      "cell_type": "code",
      "metadata": {
        "colab": {
          "base_uri": "https://localhost:8080/"
        },
        "id": "4BmDtROo1OiI",
        "outputId": "9deb3095-6b13-4ec5-f127-efdfbd0514c8"
      },
      "source": [
        "# Calculate the search rate for both groups simultaneously\r\n",
        "print(ri.groupby('driver_gender').search_conducted.mean())"
      ],
      "execution_count": 49,
      "outputs": [
        {
          "output_type": "stream",
          "text": [
            "driver_gender\n",
            "F    0.019181\n",
            "M    0.045426\n",
            "Name: search_conducted, dtype: float64\n"
          ],
          "name": "stdout"
        }
      ]
    },
    {
      "cell_type": "markdown",
      "metadata": {
        "id": "93ZJGr3l17zS"
      },
      "source": [
        "$\\color{red}{\\textbf{Interpretation:}}$\r\n",
        "\r\n",
        "Male drivers are searched more than twice as often as female drivers. Why might this be?\r\n"
      ]
    },
    {
      "cell_type": "markdown",
      "metadata": {
        "id": "e-zfE8pn2nBd"
      },
      "source": [
        "## __15 Adding a second factor to the analysis__"
      ]
    },
    {
      "cell_type": "markdown",
      "metadata": {
        "id": "yf6Koc7q225X"
      },
      "source": [
        "Even though the **search rate** for **males is much higher than for females**, *it's possible that the difference is mostly due to a second factor.*\r\n",
        "\r\n",
        ">For example, we might **hypothesize** that **the search rate varies by violation type**, and the difference in search rate between males and females is because they tend to commit different violations.\r\n",
        "\r\n",
        "we can test this hypothesis by examining the **search rate** for **each combination of gender and violation**. If the hypothesis was true, you would find that males and females are searched at about the same rate for each violation. Find out below if that's the case!"
      ]
    },
    {
      "cell_type": "markdown",
      "metadata": {
        "id": "SdD-_18950F9"
      },
      "source": [
        "__Instructions__\r\n",
        "\r\n",
        "- Use a `.groupby()` to calculate the search rate for each combination of gender and violation. Are males and females searched at about the same rate for each violation?\r\n",
        "\r\n",
        "- Reverse the ordering to group by violation before gender. The results may be easier to compare when presented this way."
      ]
    },
    {
      "cell_type": "code",
      "metadata": {
        "colab": {
          "base_uri": "https://localhost:8080/"
        },
        "id": "6oX9VAaE2hPJ",
        "outputId": "57cb33b2-b03a-4bdd-a812-2af6c02d4488"
      },
      "source": [
        "# Calculate the search rate for each combination of gender and violation\r\n",
        "ri.groupby(['driver_gender', 'violation']).search_conducted.mean()"
      ],
      "execution_count": 50,
      "outputs": [
        {
          "output_type": "execute_result",
          "data": {
            "text/plain": [
              "driver_gender  violation          \n",
              "F              Equipment              0.039984\n",
              "               Moving violation       0.039257\n",
              "               Other                  0.041018\n",
              "               Registration/plates    0.054924\n",
              "               Seat belt              0.017301\n",
              "               Speeding               0.008309\n",
              "M              Equipment              0.071496\n",
              "               Moving violation       0.061524\n",
              "               Other                  0.046191\n",
              "               Registration/plates    0.108802\n",
              "               Seat belt              0.035119\n",
              "               Speeding               0.027885\n",
              "Name: search_conducted, dtype: float64"
            ]
          },
          "metadata": {
            "tags": []
          },
          "execution_count": 50
        }
      ]
    },
    {
      "cell_type": "code",
      "metadata": {
        "colab": {
          "base_uri": "https://localhost:8080/"
        },
        "id": "qUufLeZz5t7u",
        "outputId": "15db535c-8e39-4144-91b8-0b12fe763c38"
      },
      "source": [
        "# Reverse the ordering to group by violation before gender\r\n",
        "ri.groupby(['violation', 'driver_gender']).search_conducted.mean()"
      ],
      "execution_count": 51,
      "outputs": [
        {
          "output_type": "execute_result",
          "data": {
            "text/plain": [
              "violation            driver_gender\n",
              "Equipment            F                0.039984\n",
              "                     M                0.071496\n",
              "Moving violation     F                0.039257\n",
              "                     M                0.061524\n",
              "Other                F                0.041018\n",
              "                     M                0.046191\n",
              "Registration/plates  F                0.054924\n",
              "                     M                0.108802\n",
              "Seat belt            F                0.017301\n",
              "                     M                0.035119\n",
              "Speeding             F                0.008309\n",
              "                     M                0.027885\n",
              "Name: search_conducted, dtype: float64"
            ]
          },
          "metadata": {
            "tags": []
          },
          "execution_count": 51
        }
      ]
    },
    {
      "cell_type": "markdown",
      "metadata": {
        "id": "UTxN-HCy6cD1"
      },
      "source": [
        "$\\color{red}{\\textbf{Interpretation:}}$\r\n",
        "\r\n",
        "For all types of violations, the search rate is higher for males than for females, disproving our hypothesis"
      ]
    },
    {
      "cell_type": "markdown",
      "metadata": {
        "id": "RNM2x7VSDVvk"
      },
      "source": [
        "## __16 Does gender affect who is frisked during a search?__"
      ]
    },
    {
      "cell_type": "code",
      "metadata": {
        "colab": {
          "base_uri": "https://localhost:8080/"
        },
        "id": "YLQdjjRW6iFu",
        "outputId": "e922a5b2-dfa9-45b7-915d-89d02901a298"
      },
      "source": [
        "ri.search_conducted.value_counts()"
      ],
      "execution_count": 52,
      "outputs": [
        {
          "output_type": "execute_result",
          "data": {
            "text/plain": [
              "False    83229\n",
              "True      3307\n",
              "Name: search_conducted, dtype: int64"
            ]
          },
          "metadata": {
            "tags": []
          },
          "execution_count": 52
        }
      ]
    },
    {
      "cell_type": "markdown",
      "metadata": {
        "id": "MOnDwjgID7OU"
      },
      "source": [
        "`.value_counts()`\r\n",
        "__excludes missing\r\n",
        "values by default__\r\n"
      ]
    },
    {
      "cell_type": "code",
      "metadata": {
        "colab": {
          "base_uri": "https://localhost:8080/"
        },
        "id": "4BPzw_6UDvUT",
        "outputId": "4b71b3d0-fabc-44ce-ad88-18a17f56a268"
      },
      "source": [
        "ri.search_type.value_counts(dropna=False)"
      ],
      "execution_count": 53,
      "outputs": [
        {
          "output_type": "execute_result",
          "data": {
            "text/plain": [
              "NaN                                                         83229\n",
              "Incident to Arrest                                           1290\n",
              "Probable Cause                                                924\n",
              "Inventory                                                     219\n",
              "Reasonable Suspicion                                          214\n",
              "Protective Frisk                                              164\n",
              "Incident to Arrest,Inventory                                  123\n",
              "Incident to Arrest,Probable Cause                             100\n",
              "Probable Cause,Reasonable Suspicion                            54\n",
              "Incident to Arrest,Inventory,Probable Cause                    35\n",
              "Probable Cause,Protective Frisk                                35\n",
              "Incident to Arrest,Protective Frisk                            33\n",
              "Inventory,Probable Cause                                       25\n",
              "Protective Frisk,Reasonable Suspicion                          19\n",
              "Incident to Arrest,Inventory,Protective Frisk                  18\n",
              "Incident to Arrest,Probable Cause,Protective Frisk             13\n",
              "Inventory,Protective Frisk                                     12\n",
              "Incident to Arrest,Reasonable Suspicion                         8\n",
              "Probable Cause,Protective Frisk,Reasonable Suspicion            5\n",
              "Incident to Arrest,Probable Cause,Reasonable Suspicion          5\n",
              "Incident to Arrest,Inventory,Reasonable Suspicion               4\n",
              "Inventory,Reasonable Suspicion                                  2\n",
              "Incident to Arrest,Protective Frisk,Reasonable Suspicion        2\n",
              "Inventory,Probable Cause,Protective Frisk                       1\n",
              "Inventory,Protective Frisk,Reasonable Suspicion                 1\n",
              "Inventory,Probable Cause,Reasonable Suspicion                   1\n",
              "Name: search_type, dtype: int64"
            ]
          },
          "metadata": {
            "tags": []
          },
          "execution_count": 53
        }
      ]
    },
    {
      "cell_type": "markdown",
      "metadata": {
        "id": "K_y9-SqdEFum"
      },
      "source": [
        "\r\n",
        "- `dropna=False`\r\n",
        " **displays missing\r\n",
        "values**"
      ]
    },
    {
      "cell_type": "markdown",
      "metadata": {
        "id": "VHH9kWGlEZsO"
      },
      "source": [
        "### **Examining the search types**"
      ]
    },
    {
      "cell_type": "code",
      "metadata": {
        "colab": {
          "base_uri": "https://localhost:8080/"
        },
        "id": "kPqf1IjZEVGG",
        "outputId": "4ac04282-9b7b-44da-afb9-b10f644cb333"
      },
      "source": [
        "ri.search_type.value_counts()"
      ],
      "execution_count": 54,
      "outputs": [
        {
          "output_type": "execute_result",
          "data": {
            "text/plain": [
              "Incident to Arrest                                          1290\n",
              "Probable Cause                                               924\n",
              "Inventory                                                    219\n",
              "Reasonable Suspicion                                         214\n",
              "Protective Frisk                                             164\n",
              "Incident to Arrest,Inventory                                 123\n",
              "Incident to Arrest,Probable Cause                            100\n",
              "Probable Cause,Reasonable Suspicion                           54\n",
              "Incident to Arrest,Inventory,Probable Cause                   35\n",
              "Probable Cause,Protective Frisk                               35\n",
              "Incident to Arrest,Protective Frisk                           33\n",
              "Inventory,Probable Cause                                      25\n",
              "Protective Frisk,Reasonable Suspicion                         19\n",
              "Incident to Arrest,Inventory,Protective Frisk                 18\n",
              "Incident to Arrest,Probable Cause,Protective Frisk            13\n",
              "Inventory,Protective Frisk                                    12\n",
              "Incident to Arrest,Reasonable Suspicion                        8\n",
              "Probable Cause,Protective Frisk,Reasonable Suspicion           5\n",
              "Incident to Arrest,Probable Cause,Reasonable Suspicion         5\n",
              "Incident to Arrest,Inventory,Reasonable Suspicion              4\n",
              "Inventory,Reasonable Suspicion                                 2\n",
              "Incident to Arrest,Protective Frisk,Reasonable Suspicion       2\n",
              "Inventory,Protective Frisk,Reasonable Suspicion                1\n",
              "Inventory,Probable Cause,Reasonable Suspicion                  1\n",
              "Inventory,Probable Cause,Protective Frisk                      1\n",
              "Name: search_type, dtype: int64"
            ]
          },
          "metadata": {
            "tags": []
          },
          "execution_count": 54
        }
      ]
    },
    {
      "cell_type": "markdown",
      "metadata": {
        "id": "SCbE3E4OEqcS"
      },
      "source": [
        "- Multiple values are separated by commas.\r\n",
        "\r\n",
        "- 219 searches in which **\"Inventory\"** was the only search type.\r\n",
        "\r\n",
        "- Locate **\"Inventory\"** among multiple search types."
      ]
    },
    {
      "cell_type": "markdown",
      "metadata": {
        "id": "8u_0wguHE_IM"
      },
      "source": [
        "### __Searching for a string (1)__"
      ]
    },
    {
      "cell_type": "code",
      "metadata": {
        "id": "tgeCs9bmE8Gp"
      },
      "source": [
        "ri['inventory'] = ri.search_type.str.contains('Inventory', na=False)\r\n"
      ],
      "execution_count": 55,
      "outputs": []
    },
    {
      "cell_type": "markdown",
      "metadata": {
        "id": "XYniRWKhFKop"
      },
      "source": [
        "- `str.contains()` returns\r\n",
        "    - True if string is found\r\n",
        "    - False if not found.\r\n",
        "\r\n",
        "- `na=False` returns `False` when it ,finds a missing value"
      ]
    },
    {
      "cell_type": "markdown",
      "metadata": {
        "id": "cceCALkAFlhQ"
      },
      "source": [
        "### __Searching for a string (2)__"
      ]
    },
    {
      "cell_type": "code",
      "metadata": {
        "colab": {
          "base_uri": "https://localhost:8080/"
        },
        "id": "WBXS21WwFiqa",
        "outputId": "2ee47fdd-fae1-4f6a-83dc-4a3d54f08561"
      },
      "source": [
        "ri.inventory.dtype"
      ],
      "execution_count": 56,
      "outputs": [
        {
          "output_type": "execute_result",
          "data": {
            "text/plain": [
              "dtype('bool')"
            ]
          },
          "metadata": {
            "tags": []
          },
          "execution_count": 56
        }
      ]
    },
    {
      "cell_type": "markdown",
      "metadata": {
        "id": "ibIVlPiiFtNa"
      },
      "source": [
        "**True** means inventory was done, **False** means it was not"
      ]
    },
    {
      "cell_type": "code",
      "metadata": {
        "colab": {
          "base_uri": "https://localhost:8080/"
        },
        "id": "TfrPPb78Fvmh",
        "outputId": "668c5d0c-f146-44ce-d438-909513cf1ebe"
      },
      "source": [
        "ri.inventory.sum()"
      ],
      "execution_count": 57,
      "outputs": [
        {
          "output_type": "execute_result",
          "data": {
            "text/plain": [
              "441"
            ]
          },
          "metadata": {
            "tags": []
          },
          "execution_count": 57
        }
      ]
    },
    {
      "cell_type": "markdown",
      "metadata": {
        "id": "TRJ5qDo1F5aT"
      },
      "source": [
        "### __Calculating the inventory rate__"
      ]
    },
    {
      "cell_type": "code",
      "metadata": {
        "colab": {
          "base_uri": "https://localhost:8080/"
        },
        "id": "CAFr5PggF8rL",
        "outputId": "1cce6869-ce00-4e78-a769-f0e23b2342e8"
      },
      "source": [
        "ri.inventory.mean()"
      ],
      "execution_count": 58,
      "outputs": [
        {
          "output_type": "execute_result",
          "data": {
            "text/plain": [
              "0.0050961449570121106"
            ]
          },
          "metadata": {
            "tags": []
          },
          "execution_count": 58
        }
      ]
    },
    {
      "cell_type": "markdown",
      "metadata": {
        "id": "DOJYJZ1EGBXA"
      },
      "source": [
        "**0.5%** of all traffic stops resulted in an inventory."
      ]
    },
    {
      "cell_type": "code",
      "metadata": {
        "colab": {
          "base_uri": "https://localhost:8080/"
        },
        "id": "AuvsRU37GBE_",
        "outputId": "a1526ec5-b7ae-4760-8008-534e45b58ec4"
      },
      "source": [
        "searched = ri[ri.search_conducted == True]\r\n",
        "searched.inventory.mean()"
      ],
      "execution_count": 59,
      "outputs": [
        {
          "output_type": "execute_result",
          "data": {
            "text/plain": [
              "0.13335349259147264"
            ]
          },
          "metadata": {
            "tags": []
          },
          "execution_count": 59
        }
      ]
    },
    {
      "cell_type": "markdown",
      "metadata": {
        "id": "-X4L5nq4GPsh"
      },
      "source": [
        "__13.3% of searches included an inventory__"
      ]
    },
    {
      "cell_type": "markdown",
      "metadata": {
        "id": "suv6A6eLLKQv"
      },
      "source": [
        "## __17 Counting protective frisks__"
      ]
    },
    {
      "cell_type": "markdown",
      "metadata": {
        "id": "VXWXGnB7LPgk"
      },
      "source": [
        "During a vehicle search, the police officer may pat down the driver to check if they have a weapon. This is known as a \"protective frisk.\"\r\n",
        "\r\n",
        "In this exercise, you'll first check to see how many times \"Protective Frisk\" was the only search type. Then, you'll use a string method to locate all instances in which the driver was frisked."
      ]
    },
    {
      "cell_type": "markdown",
      "metadata": {
        "id": "o_Wqe95oLSSy"
      },
      "source": [
        "__Instructions__\r\n",
        "\r\n",
        "- Count the `search_type` values in the `ri` DataFrame to see how many times \"Protective Frisk\" was the only search type.\r\n",
        "\r\n",
        "- Create a new column, `frisk`, that is `True` if search_type contains the string \"Protective Frisk\" and `False` otherwise.\r\n",
        "\r\n",
        "- Check the data type of `frisk` to confirm that it's a Boolean Series.\r\n",
        "\r\n",
        "- Take the sum of `frisk` to count the total number of frisks."
      ]
    },
    {
      "cell_type": "code",
      "metadata": {
        "colab": {
          "base_uri": "https://localhost:8080/"
        },
        "id": "LkgLGOJxLNdN",
        "outputId": "6f095227-ae86-4cc1-c52a-7d3f3440e077"
      },
      "source": [
        "# Count the 'search_type' values\r\n",
        "print(ri.search_type.value_counts())\r\n",
        "\r\n",
        "# Check if 'search_type' contains the string 'Protective Frisk'\r\n",
        "ri['frisk'] = ri.search_type.str.contains('Protective Frisk', na=False)\r\n",
        "\r\n",
        "# Check the data type of 'frisk'\r\n",
        "print(ri['frisk'].dtype)\r\n",
        "\r\n",
        "# Take the sum of 'frisk'\r\n",
        "print(ri['frisk'].sum())"
      ],
      "execution_count": 60,
      "outputs": [
        {
          "output_type": "stream",
          "text": [
            "Incident to Arrest                                          1290\n",
            "Probable Cause                                               924\n",
            "Inventory                                                    219\n",
            "Reasonable Suspicion                                         214\n",
            "Protective Frisk                                             164\n",
            "Incident to Arrest,Inventory                                 123\n",
            "Incident to Arrest,Probable Cause                            100\n",
            "Probable Cause,Reasonable Suspicion                           54\n",
            "Incident to Arrest,Inventory,Probable Cause                   35\n",
            "Probable Cause,Protective Frisk                               35\n",
            "Incident to Arrest,Protective Frisk                           33\n",
            "Inventory,Probable Cause                                      25\n",
            "Protective Frisk,Reasonable Suspicion                         19\n",
            "Incident to Arrest,Inventory,Protective Frisk                 18\n",
            "Incident to Arrest,Probable Cause,Protective Frisk            13\n",
            "Inventory,Protective Frisk                                    12\n",
            "Incident to Arrest,Reasonable Suspicion                        8\n",
            "Probable Cause,Protective Frisk,Reasonable Suspicion           5\n",
            "Incident to Arrest,Probable Cause,Reasonable Suspicion         5\n",
            "Incident to Arrest,Inventory,Reasonable Suspicion              4\n",
            "Inventory,Reasonable Suspicion                                 2\n",
            "Incident to Arrest,Protective Frisk,Reasonable Suspicion       2\n",
            "Inventory,Protective Frisk,Reasonable Suspicion                1\n",
            "Inventory,Probable Cause,Reasonable Suspicion                  1\n",
            "Inventory,Probable Cause,Protective Frisk                      1\n",
            "Name: search_type, dtype: int64\n",
            "bool\n",
            "303\n"
          ],
          "name": "stdout"
        }
      ]
    },
    {
      "cell_type": "markdown",
      "metadata": {
        "id": "cEECRc_hMYsg"
      },
      "source": [
        "$\\color{red}{\\textbf{Interpretation:}}$\r\n",
        "\r\n",
        "It looks like there were **303 drivers** who were **frisked**. Next, you'll examine whether gender affects who is frisked."
      ]
    },
    {
      "cell_type": "markdown",
      "metadata": {
        "id": "yE69IUHnM3ep"
      },
      "source": [
        "## __18 Comparing frisk rates by gender__"
      ]
    },
    {
      "cell_type": "markdown",
      "metadata": {
        "id": "GURFfqT5M_A_"
      },
      "source": [
        "In this exercise, we'll compare the rates at which **female** and **male** drivers are **frisked during a search**.\r\n",
        "\r\n",
        ">Are males frisked more often than females, perhaps because police officers consider them to be higher risk?\r\n",
        "\r\n",
        "Before doing any calculations, it's important to filter the DataFrame to only include the relevant subset of data, namely stops in which a search was conducted."
      ]
    },
    {
      "cell_type": "markdown",
      "metadata": {
        "id": "G7S38Qv1NNdy"
      },
      "source": [
        "__Instructions__\r\n",
        "\r\n",
        "- Create a DataFrame, **searched**, that only contains rows in which `search_conducted` is `True`.\r\n",
        "\r\n",
        "- Take the mean of the `frisk` column to find out what percentage of searches included a frisk.\r\n",
        "\r\n",
        "- Calculate the frisk rate for each gender using a `.groupby()`."
      ]
    },
    {
      "cell_type": "code",
      "metadata": {
        "colab": {
          "base_uri": "https://localhost:8080/"
        },
        "id": "c7HSRFClGPbP",
        "outputId": "b6a2722e-8418-41cc-82fd-b37b65dc1398"
      },
      "source": [
        "# Create a DataFrame of stops in which a search was conducted\r\n",
        "searched = ri[ri.search_conducted == True]\r\n",
        "\r\n",
        "# Calculate the overall frisk rate by taking the mean of 'frisk'\r\n",
        "print(searched.frisk.mean())\r\n",
        "\r\n",
        "# Calculate the frisk rate for each gender\r\n",
        "print(searched.groupby('driver_gender').frisk.mean())"
      ],
      "execution_count": 61,
      "outputs": [
        {
          "output_type": "stream",
          "text": [
            "0.09162382824312065\n",
            "driver_gender\n",
            "F    0.074561\n",
            "M    0.094353\n",
            "Name: frisk, dtype: float64\n"
          ],
          "name": "stdout"
        }
      ]
    },
    {
      "cell_type": "markdown",
      "metadata": {
        "id": "7s5SnAHxPZ7f"
      },
      "source": [
        "$\\color{red}{\\textbf{Interpretation:}}$\r\n",
        "\r\n",
        "The **frisk rate** is **higher for males than for females**, though we **can't** conclude that this difference is caused by the driver's gender."
      ]
    },
    {
      "cell_type": "markdown",
      "metadata": {
        "id": "ZDxEjL_fNgvd"
      },
      "source": [
        "<p align='center'> \r\n",
        "    <a href=\"https://twitter.com/F4izy\"> \r\n",
        "        <img src=\"https://th.bing.com/th/id/OIP.FCKMemzqNplY37Jwi0Yk3AHaGl?w=233&h=207&c=7&o=5&pid=1.7\" width=50px \r\n",
        "            height=50px> \r\n",
        "    </a> \r\n",
        "    <a href=\"https://www.linkedin.com/in/mohd-faizy/\"> \r\n",
        "        <img src='https://th.bing.com/th/id/OIP.idrBN-LfvMIZl370Vb65SgHaHa?pid=Api&rs=1' width=50px height=50px> \r\n",
        "    </a> \r\n",
        "</p>"
      ]
    }
  ]
}